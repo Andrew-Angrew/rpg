{
 "cells": [
  {
   "cell_type": "code",
   "execution_count": 8,
   "metadata": {},
   "outputs": [],
   "source": [
    "import os\n",
    "from collections import namedtuple\n",
    "\n",
    "import numpy as np\n"
   ]
  },
  {
   "cell_type": "code",
   "execution_count": 2,
   "metadata": {},
   "outputs": [],
   "source": [
    "DIMENSION = 10\n",
    "QUERY_COUNT = 1000\n",
    "ITEM_COUNT = 10 ** 6\n",
    "gt_top=100\n",
    "REGENERATE_DATA = True\n",
    "HIDDEN_DIMENSIONS = list(range(8))\n"
   ]
  },
  {
   "cell_type": "code",
   "execution_count": null,
   "metadata": {},
   "outputs": [],
   "source": []
  },
  {
   "cell_type": "code",
   "execution_count": 3,
   "metadata": {},
   "outputs": [],
   "source": [
    "def normalize(a):\n",
    "    vec_lengths = np.sqrt(np.power(a, 2).sum(axis=1, keepdims=True))\n",
    "    return a / vec_lengths\n",
    "\n",
    "def generate_or_read_data(file_name, shape):\n",
    "    if not os.path.isfile(file_name):\n",
    "        data = normalize(np.random.randn(*shape)).astype(\"float32\")\n",
    "        data.tofile(file_name)\n",
    "    else:\n",
    "        data = np.fromfile(file_name, dtype=\"float32\").reshape(shape)\n",
    "    return data"
   ]
  },
  {
   "cell_type": "code",
   "execution_count": 4,
   "metadata": {},
   "outputs": [
    {
     "name": "stdout",
     "output_type": "stream",
     "text": [
      "Generate synthetic queries and items\n",
      "compute ground truth test scores\n",
      "compute test scores for models with hidden dimensions\n",
      "Calc ground truth nearest neighbors\n"
     ]
    }
   ],
   "source": [
    "if REGENERATE_DATA:\n",
    "    print(\"Generate synthetic queries and items\") \n",
    "    train_queries = normalize(np.random.randn(QUERY_COUNT, DIMENSION)).astype(\"float32\")\n",
    "    train_queries.tofile(\"data/synthetic/data/train_queries.bin\")\n",
    "\n",
    "    test_queries = normalize(np.random.randn(QUERY_COUNT, DIMENSION)).astype(\"float32\")\n",
    "    test_queries.tofile(\"data/synthetic/data/test_queries.bin\")\n",
    "    \n",
    "    items = normalize(np.random.randn(ITEM_COUNT, DIMENSION)).astype(\"float32\")\n",
    "    items.tofile(\"data/synthetic/data/items.bin\")\n",
    "\n",
    "    print(\"compute ground truth test scores\")\n",
    "    gt_train_scores = items.dot(train_queries.T)\n",
    "    gt_train_scores.tofile(\"data/synthetic/data/model_scores/gt_train_scores.bin\")\n",
    "    del gt_train_scores\n",
    "\n",
    "    gt_test_scores = items.dot(test_queries.T)\n",
    "    gt_test_scores.tofile(\"data/synthetic/data/model_scores/gt_test_scores.bin\")\n",
    "    del gt_test_scores\n",
    "    \n",
    "    print(\"compute test scores for models with hidden dimensions\") \n",
    "    for hidden_dim_count in HIDDEN_DIMENSIONS:\n",
    "        hidden_model_test_scores = items[:,:-hidden_dim_count].dot(\n",
    "            test_queries.T[:-hidden_dim_count]\n",
    "        )\n",
    "        hidden_model_test_scores.tofile(\n",
    "            \"data/synthetic/data/model_scores/hidden_{}_test_scores.bin\".format(\n",
    "                hidden_dim_count\n",
    "            )\n",
    "        )\n",
    "        del hidden_model_test_scores\n",
    "\n",
    "    print(\"Calc ground truth nearest neighbors\")\n",
    "    for data_part in [\"train\", \"test\"]:\n",
    "        scores_path = \"data/synthetic/data/model_scores/gt_{}_scores.bin\".format(data_part)\n",
    "        scores = np.fromfile(scores_path, dtype=\"float32\").reshape(\n",
    "            (ITEM_COUNT, QUERY_COUNT))\n",
    "        gt = (-scores).argsort(axis=0)[:gt_top,:].T.astype(\"int32\")\n",
    "        gt.tofile(\"data/synthetic/data/model_scores/groundtruth_{}.bin\".format(data_part))\n",
    "        \n",
    "    "
   ]
  },
  {
   "cell_type": "code",
   "execution_count": 5,
   "metadata": {},
   "outputs": [],
   "source": [
    "build_graph_cmd_template = (\n",
    "    \"./RPG --mode base \"\n",
    "    \"--baseSize 1000000 \" +\n",
    "    \"--trainQueries {} \".format(DIMENSION) +\n",
    "    \"--base data/synthetic/data/items.bin \"\n",
    "    \"--outputGraph {graphPath} \"\n",
    "    \"--relevanceVector {relevanceVector} \"\n",
    "    \"--efConstruction 1000 --M 8 \"\n",
    "    \"--metric dot_product\"\n",
    ")\n",
    "\n",
    "Task = namedtuple(\"label\", \"graph_path\", \"build_cmd\", \"eval_cmd_te\")\n",
    "\n",
    "\n"
   ]
  },
  {
   "cell_type": "code",
   "execution_count": 7,
   "metadata": {},
   "outputs": [
    {
     "name": "stdout",
     "output_type": "stream",
     "text": [
      "./RPG --mode base --baseSize 1000000 --trainQueries 10 --base data/synthetic/data/items.bin --outputGraph data/synthetic/hidden_0_of_10_graph.out --relevanceVector 10 --efConstruction 1000 --M 8 --metric dot_product\n",
      "./RPG --mode base --baseSize 1000000 --trainQueries 10 --base data/synthetic/data/items.bin --outputGraph data/synthetic/hidden_1_of_10_graph.out --relevanceVector 9 --efConstruction 1000 --M 8 --metric dot_product\n",
      "./RPG --mode base --baseSize 1000000 --trainQueries 10 --base data/synthetic/data/items.bin --outputGraph data/synthetic/hidden_2_of_10_graph.out --relevanceVector 8 --efConstruction 1000 --M 8 --metric dot_product\n",
      "./RPG --mode base --baseSize 1000000 --trainQueries 10 --base data/synthetic/data/items.bin --outputGraph data/synthetic/hidden_3_of_10_graph.out --relevanceVector 7 --efConstruction 1000 --M 8 --metric dot_product\n",
      "./RPG --mode base --baseSize 1000000 --trainQueries 10 --base data/synthetic/data/items.bin --outputGraph data/synthetic/hidden_4_of_10_graph.out --relevanceVector 6 --efConstruction 1000 --M 8 --metric dot_product\n",
      "./RPG --mode base --baseSize 1000000 --trainQueries 10 --base data/synthetic/data/items.bin --outputGraph data/synthetic/hidden_5_of_10_graph.out --relevanceVector 5 --efConstruction 1000 --M 8 --metric dot_product\n",
      "./RPG --mode base --baseSize 1000000 --trainQueries 10 --base data/synthetic/data/items.bin --outputGraph data/synthetic/hidden_6_of_10_graph.out --relevanceVector 4 --efConstruction 1000 --M 8 --metric dot_product\n",
      "./RPG --mode base --baseSize 1000000 --trainQueries 10 --base data/synthetic/data/items.bin --outputGraph data/synthetic/hidden_7_of_10_graph.out --relevanceVector 3 --efConstruction 1000 --M 8 --metric dot_product\n"
     ]
    }
   ],
   "source": [
    "for hidden_dim_count in HIDDEN_DIMENSIONS:\n",
    "    graph_path = \"data/synthetic/hidden_{}_of_{}_graph.out\".format(\n",
    "        hidden_dim_count, DIMENSION\n",
    "    )\n",
    "    if not os.path.isfile(graph_path) or REGENERATE_DATA:\n",
    "        build_cmd = build_graph_cmd_template.format(\n",
    "            graphPath=graph_path,\n",
    "            relevanceVector=DIMENSION - hidden_dim_count\n",
    "        )\n",
    "        print(build_cmd)\n",
    "        os.system(build_cmd)"
   ]
  },
  {
   "cell_type": "code",
   "execution_count": null,
   "metadata": {},
   "outputs": [],
   "source": []
  }
 ],
 "metadata": {
  "kernelspec": {
   "display_name": "Python 3",
   "language": "python",
   "name": "python3"
  },
  "language_info": {
   "codemirror_mode": {
    "name": "ipython",
    "version": 3
   },
   "file_extension": ".py",
   "mimetype": "text/x-python",
   "name": "python",
   "nbconvert_exporter": "python",
   "pygments_lexer": "ipython3",
   "version": "3.8.5"
  }
 },
 "nbformat": 4,
 "nbformat_minor": 4
}
