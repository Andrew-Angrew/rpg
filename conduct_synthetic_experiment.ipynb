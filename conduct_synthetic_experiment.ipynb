{
 "cells": [
  {
   "cell_type": "code",
   "execution_count": 77,
   "metadata": {},
   "outputs": [],
   "source": [
    "import os\n",
    "import math\n",
    "from collections import namedtuple\n",
    "\n",
    "import numpy as np\n",
    "import matplotlib.pyplot as plt"
   ]
  },
  {
   "cell_type": "code",
   "execution_count": 78,
   "metadata": {},
   "outputs": [],
   "source": [
    "DIMENSION = 10\n",
    "QUERY_COUNT = 1000\n",
    "ITEM_COUNT = 10 ** 6\n",
    "GT_TOP_LEN=10000\n",
    "RECALL_TOP_LEN = 5\n",
    "\n",
    "MIN_EF_SEARCH = 10\n",
    "MAX_EF_SEARCH = 10000\n",
    "REGENERATE_DATA = False\n",
    "HIDDEN_DIMENSIONS = list(range(8))\n",
    "RECALL_OF_INTEREST = 0.95\n",
    "N_SEARCH_THREADS = 8\n"
   ]
  },
  {
   "cell_type": "code",
   "execution_count": null,
   "metadata": {},
   "outputs": [],
   "source": []
  },
  {
   "cell_type": "code",
   "execution_count": 32,
   "metadata": {},
   "outputs": [],
   "source": [
    "build_graph_cmd_template = (\n",
    "    \"./RPG --mode base \"\n",
    "    \"--baseSize 1000000 \"\n",
    "    \"--trainQueries {featuresSize} \"\n",
    "    \"--base data/synthetic/data/{features}.bin \"\n",
    "    \"--outputGraph {graphPath} \"\n",
    "    \"--relevanceVector {relevanceVector} \"\n",
    "    \"--efConstruction 1000 --M 8 \"\n",
    "    \"--metric {metric}\"\n",
    ")\n",
    "\n"
   ]
  },
  {
   "cell_type": "code",
   "execution_count": 33,
   "metadata": {},
   "outputs": [],
   "source": [
    "search_cmd_template = (\n",
    "    \"./RPG --mode query --baseSize 1000000 --querySize 1000\"\n",
    "    \" --query data/synthetic/data/model_scores/{scores} --inputGraph {inputGraph}\"\n",
    "    \" --efSearch {efSearch} --topK {topK} --output data/synthetic/{searchResultFile}.txt\" +\n",
    "    \" --gtQueries 1000 --gtTop {} \".format(GT_TOP_LEN) +\n",
    "    \"--groundtruth data/synthetic/data/model_scores/groundtruth_test.bin\"\n",
    ")"
   ]
  },
  {
   "cell_type": "code",
   "execution_count": 34,
   "metadata": {},
   "outputs": [],
   "source": [
    "def normalize(a):\n",
    "    vec_lengths = np.sqrt(np.power(a, 2).sum(axis=1, keepdims=True))\n",
    "    return a / vec_lengths\n",
    "\n",
    "def generate_or_read_data(file_name, shape):\n",
    "    if not os.path.isfile(file_name):\n",
    "        data = normalize(np.random.randn(*shape)).astype(\"float32\")\n",
    "        data.tofile(file_name)\n",
    "    else:\n",
    "        data = np.fromfile(file_name, dtype=\"float32\").reshape(shape)\n",
    "    return data"
   ]
  },
  {
   "cell_type": "code",
   "execution_count": 35,
   "metadata": {},
   "outputs": [],
   "source": [
    "def sort_by(results, key):\n",
    "    assert key in [\"evals\", \"efSearch\"]\n",
    "    permutation = np.argsort(results[key])\n",
    "    for key in results:\n",
    "        vals = results[key]\n",
    "        results[key] = [vals[i] for i in permutation]\n",
    "    return results\n",
    "\n",
    "assert sort_by({\n",
    "    \"efSearch\": [2, 0, 3, 1],\n",
    "    \"vals\": [1, 2, 3, 4]}, \"efSearch\") == {\n",
    "    \"efSearch\": [0, 1, 2, 3],\n",
    "    \"vals\": [2, 4, 1, 3]\n",
    "}"
   ]
  },
  {
   "cell_type": "code",
   "execution_count": 36,
   "metadata": {},
   "outputs": [],
   "source": [
    "def get_evals_for_recall(results, recall=RECALL_OF_INTEREST):\n",
    "    results = sort_by(results, \"evals\")\n",
    "    evals = results[\"evals\"]\n",
    "    recalls = results[\"recall\"]\n",
    "    ef_serch = results[\"efSearch\"] if \"efSearch\" in results else evals\n",
    "    assert len(evals) == len(recalls)\n",
    "    \n",
    "    lower_bound = 0\n",
    "    lower_bound_ef = MIN_EF_SEARCH\n",
    "    upper_bound = math.inf\n",
    "    upper_bound_ef = MAX_EF_SEARCH\n",
    "    \n",
    "    if not evals:\n",
    "        return lower_bound, upper_bound\n",
    "    \n",
    "    \n",
    "    if recalls[0] <= recall:\n",
    "        lower_bound = evals[0]\n",
    "        lower_bound_ef = ef_serch[0]\n",
    "        i = 1\n",
    "        while i < len(evals) and recalls[i] <= recall:\n",
    "            lower_bound = evals[i]\n",
    "            lower_bound_ef = ef_serch[i]\n",
    "            i += 1\n",
    "    \n",
    "    if recalls[-1] >= recall:\n",
    "        upper_bound = evals[-1]\n",
    "        upper_bound_ef = ef_serch[-1]\n",
    "        i = len(evals) - 2\n",
    "        while i >= 0 and recalls[i] >= recall:\n",
    "            upper_bound = evals[i]\n",
    "            upper_bound_ef = ef_serch[i]\n",
    "            i -= 1\n",
    "    \n",
    "    return (lower_bound, upper_bound), (lower_bound_ef, upper_bound_ef)\n",
    "\n",
    "assert get_evals_for_recall({\n",
    "    \"evals\": [0, 1, 2, 3, 4],\n",
    "    \"recall\": [0.93, 0.94, 0.95, 0.96, 0.97]\n",
    "}) == ((2, 2), (2, 2))\n",
    "assert get_evals_for_recall({\n",
    "    \"evals\": [0, 1, 2, 3, 4],\n",
    "    \"recall\": [0.93, 0.94, 0.955, 0.96, 0.97]\n",
    "}) == ((1, 2), (1, 2))\n",
    "assert get_evals_for_recall({\n",
    "    \"evals\": [0, 1, 2, 3, 4],\n",
    "    \"recall\": [0.93, 0.96, 0.94, 0.96, 0.97]\n",
    "}) == ((0, 3), (0, 3))\n"
   ]
  },
  {
   "cell_type": "code",
   "execution_count": 37,
   "metadata": {},
   "outputs": [],
   "source": [
    "def merge_results(lhs_res, rhs_res):\n",
    "    assert not rhs_res or sorted(lhs_res.keys()) == sorted(rhs_res.keys())\n",
    "    merged_res = {}\n",
    "    for key in lhs_res:\n",
    "        merged_res[key] = list(lhs_res[key]) + list(rhs_res[key])\n",
    "    return merged_res\n"
   ]
  },
  {
   "cell_type": "code",
   "execution_count": 38,
   "metadata": {},
   "outputs": [],
   "source": [
    "def logspace(start, stop, count, include_ends=True):\n",
    "    cnt_ = count if include_ends else count + 2\n",
    "    seq = np.exp(np.linspace(np.log(start), np.log(stop), cnt_))\n",
    "    if include_ends:\n",
    "        return seq\n",
    "    return seq[1:-1]"
   ]
  },
  {
   "cell_type": "code",
   "execution_count": 40,
   "metadata": {},
   "outputs": [],
   "source": [
    "def bench_cmd(cmd):\n",
    "    res = {}\n",
    "    with os.popen(cmd) as out:\n",
    "        for line in out:\n",
    "            for stat_name, prefix, suff_len in [\n",
    "                (\"relevance\", \"Average relevance: \", 1),\n",
    "                (\"recall\", \"Recall@5: \", 1),\n",
    "                (\"time\", \"Average query time: \", 3),\n",
    "                (\"evals\", \"Average number of model computations: \", 1)\n",
    "            ]:\n",
    "                if line.startswith(prefix):\n",
    "                    res[stat_name] = float(line[len(prefix):-suff_len])\n",
    "    return res\n",
    "\n",
    "def run_search(graph_path, scores_file, topK=5, ef_ticks=EF_SEARCH_TICKS, result_file=None, n_threads=8):\n",
    "    if result_file is None:\n",
    "        result_file = \"result.txt\"\n",
    "    else:\n",
    "        assert len(ef_ticks) == 1\n",
    "    \n",
    "    commands = []\n",
    "    for ef in ef_ticks:\n",
    "        commands.append(search_cmd_template.format(\n",
    "            scores=scores_file,\n",
    "            inputGraph=graph_path,\n",
    "            efSearch=ef,\n",
    "            topK=topK,\n",
    "            searchResultFile=result_file\n",
    "        ))\n",
    "    pool = Pool(processes=n_threads)\n",
    "    results = pool.map(bench_cmd, commands)\n",
    "    output = {\"relevance\": [], \"recall\": [], \"time\": [], \"evals\": []}\n",
    "    for i, res in enumerate(results):\n",
    "        if all(key in res for key in output):\n",
    "            for key in output:\n",
    "                output[key].append(res[key])\n",
    "        else:\n",
    "            print(\"missed result for {} efSearch {}.\".format(graph, ef_ticks[i]))\n",
    "    output[\"efSearch\"] = list(ef_ticks)\n",
    "    return output"
   ]
  },
  {
   "cell_type": "code",
   "execution_count": 43,
   "metadata": {},
   "outputs": [],
   "source": [
    "def search_recall(graph_path, scores_file,\n",
    "                  iterations=2, runs_per_iteration=None,\n",
    "                  recall_of_interest=RECALL_OF_INTEREST, n_threads=8):\n",
    "    if runs_per_iteration is None:\n",
    "        runs_per_iteration = n_threads\n",
    "    \n",
    "    lower_ef_search_bound = MIN_EF_SEARCH\n",
    "    upper_ef_search_bound = MAX_EF_SEARCH\n",
    "    cur_results = {}\n",
    "    for i in range(iterations):\n",
    "        ef_ticks = logspace(lower_ef_search_bound, upper_ef_search_bound,\n",
    "                            runs_per_iteration, include_ends=(i==0))\n",
    "        result_update = run_search(graph_path, scores_file,\n",
    "                                   ef_ticks=ef_ticks, n_threads=n_threads)\n",
    "        cur_results = merge_results(result_update, cur_results)\n",
    "        _, (lower_ef_search_bound, upper_ef_search_bound) = get_evals_for_recall(\n",
    "            cur_results, recall=recall_of_interest)\n",
    "    return sort_by(cur_results, \"efSearch\")"
   ]
  },
  {
   "cell_type": "code",
   "execution_count": 75,
   "metadata": {},
   "outputs": [],
   "source": [
    "def read_txt(file_name, expected_shape=None):\n",
    "    data = []\n",
    "    with open(file_name) as fin:\n",
    "        for line in fin:\n",
    "            data.append([int(w) for w in line.split()])\n",
    "    row_len = len(data[0])\n",
    "    assert all(len(l) == row_len for l in data)\n",
    "    if expected_shape is not None:\n",
    "        assert expected_shape == (len(data), row_len)\n",
    "    return data\n",
    "\n",
    "\n",
    "def calc_eval_recall_curve(approximate_top, gt_top):\n",
    "    assert gt_top.shape == (QUERY_COUNT, RECALL_TOP_LEN)\n",
    "    \n",
    "    gt_tops = [set(query_top) for query_top in gt_top]\n",
    "    recalls = []\n",
    "    found_count = 0\n",
    "    top_len = len(approximate_top[0])\n",
    "    for i in range(top_len):\n",
    "        for query_id in range(QUERY_COUNT):\n",
    "            if approximate_top[query_id][i] in gt_tops[query_id]:\n",
    "                found_count += 1\n",
    "        recalls.append(found_count / (QUERY_COUNT * RECALL_TOP_LEN))\n",
    "    evals = list(range(1, top_len + 1))\n",
    "    return {\"evals\": evals, \"recall\": recalls}\n",
    "    "
   ]
  },
  {
   "cell_type": "code",
   "execution_count": 81,
   "metadata": {},
   "outputs": [
    {
     "data": {
      "text/plain": [
       "[<matplotlib.lines.Line2D at 0x7f8e3525f400>]"
      ]
     },
     "execution_count": 81,
     "metadata": {},
     "output_type": "execute_result"
    },
    {
     "data": {
      "image/png": "[encoded data removed]",
      "text/plain": [
       "<Figure size 432x288 with 1 Axes>"
      ]
     },
     "metadata": {
      "needs_background": "light"
     },
     "output_type": "display_data"
    }
   ],
   "source": [
    "full_test_top = np.vstack([\n",
    "    np.arange(100) for i in range(QUERY_COUNT)\n",
    "])\n",
    "test_gt = full_test_top[:,:RECALL_TOP_LEN]\n",
    "approx_top = full_test_top.copy()\n",
    "for row in approx_top:\n",
    "    np.random.shuffle(row[:80])\n",
    "test_curve = calc_eval_recall_curve(approx_top, test_gt)\n",
    "plt.plot(test_curve[\"evals\"], test_curve[\"recall\"])\n"
   ]
  },
  {
   "cell_type": "code",
   "execution_count": 4,
   "metadata": {},
   "outputs": [],
   "source": [
    "if REGENERATE_DATA:\n",
    "    print(\"Generate synthetic queries and items\") \n",
    "    train_queries = normalize(np.random.randn(QUERY_COUNT, DIMENSION)).astype(\"float32\")\n",
    "    train_queries.tofile(\"data/synthetic/data/train_queries.bin\")\n",
    "\n",
    "    test_queries = normalize(np.random.randn(QUERY_COUNT, DIMENSION)).astype(\"float32\")\n",
    "    test_queries.tofile(\"data/synthetic/data/test_queries.bin\")\n",
    "    \n",
    "    items = normalize(np.random.randn(ITEM_COUNT, DIMENSION)).astype(\"float32\")\n",
    "    items.tofile(\"data/synthetic/data/items.bin\")\n",
    "\n",
    "    print(\"compute ground truth test scores\")\n",
    "    gt_train_scores = items.dot(train_queries.T)\n",
    "    gt_train_scores.tofile(\"data/synthetic/data/model_scores/gt_train_scores.bin\")\n",
    "    del gt_train_scores\n",
    "\n",
    "    gt_test_scores = items.dot(test_queries.T)\n",
    "    gt_test_scores.tofile(\"data/synthetic/data/model_scores/gt_test_scores.bin\")\n",
    "    del gt_test_scores\n",
    "    \n",
    "    print(\"compute test scores for models with hidden dimensions\") \n",
    "    for hidden_dim_count in HIDDEN_DIMENSIONS:\n",
    "        hidden_model_test_scores = items[:,:-hidden_dim_count].dot(\n",
    "            test_queries.T[:-hidden_dim_count]\n",
    "        )\n",
    "        hidden_model_test_scores.tofile(\n",
    "            \"data/synthetic/data/model_scores/hidden_{}_test_scores.bin\".format(\n",
    "                hidden_dim_count\n",
    "            )\n",
    "        )\n",
    "        del hidden_model_test_scores\n",
    "\n",
    "    print(\"Calc ground truth nearest neighbors\")\n",
    "    for data_part in [\"train\", \"test\"]:\n",
    "        scores_path = \"data/synthetic/data/model_scores/gt_{}_scores.bin\".format(data_part)\n",
    "        scores = np.fromfile(scores_path, dtype=\"float32\").reshape(\n",
    "            (ITEM_COUNT, QUERY_COUNT))\n",
    "        gt = (-scores).argsort(axis=0)[:GT_TOP_LEN,:].T.astype(\"int32\")\n",
    "        gt.tofile(\"data/synthetic/data/model_scores/groundtruth_{}.bin\".format(data_part))\n",
    "        \n",
    "    "
   ]
  },
  {
   "cell_type": "code",
   "execution_count": 82,
   "metadata": {},
   "outputs": [],
   "source": [
    "experiment_results = {}\n",
    "hidden_search_gt_evals = []\n",
    "hidden_search_rerank_evals = []"
   ]
  },
  {
   "cell_type": "code",
   "execution_count": 7,
   "metadata": {},
   "outputs": [
    {
     "name": "stdout",
     "output_type": "stream",
     "text": [
      "./RPG --mode base --baseSize 1000000 --trainQueries 10 --base data/synthetic/data/items.bin --outputGraph data/synthetic/hidden_0_of_10_graph.out --relevanceVector 10 --efConstruction 1000 --M 8 --metric dot_product\n",
      "./RPG --mode base --baseSize 1000000 --trainQueries 10 --base data/synthetic/data/items.bin --outputGraph data/synthetic/hidden_1_of_10_graph.out --relevanceVector 9 --efConstruction 1000 --M 8 --metric dot_product\n",
      "./RPG --mode base --baseSize 1000000 --trainQueries 10 --base data/synthetic/data/items.bin --outputGraph data/synthetic/hidden_2_of_10_graph.out --relevanceVector 8 --efConstruction 1000 --M 8 --metric dot_product\n",
      "./RPG --mode base --baseSize 1000000 --trainQueries 10 --base data/synthetic/data/items.bin --outputGraph data/synthetic/hidden_3_of_10_graph.out --relevanceVector 7 --efConstruction 1000 --M 8 --metric dot_product\n",
      "./RPG --mode base --baseSize 1000000 --trainQueries 10 --base data/synthetic/data/items.bin --outputGraph data/synthetic/hidden_4_of_10_graph.out --relevanceVector 6 --efConstruction 1000 --M 8 --metric dot_product\n",
      "./RPG --mode base --baseSize 1000000 --trainQueries 10 --base data/synthetic/data/items.bin --outputGraph data/synthetic/hidden_5_of_10_graph.out --relevanceVector 5 --efConstruction 1000 --M 8 --metric dot_product\n",
      "./RPG --mode base --baseSize 1000000 --trainQueries 10 --base data/synthetic/data/items.bin --outputGraph data/synthetic/hidden_6_of_10_graph.out --relevanceVector 4 --efConstruction 1000 --M 8 --metric dot_product\n",
      "./RPG --mode base --baseSize 1000000 --trainQueries 10 --base data/synthetic/data/items.bin --outputGraph data/synthetic/hidden_7_of_10_graph.out --relevanceVector 3 --efConstruction 1000 --M 8 --metric dot_product\n"
     ]
    }
   ],
   "source": [
    "for hidden_dim_count in HIDDEN_DIMENSIONS:\n",
    "    graph_path = \"data/synthetic/hidden_{}_of_{}_graph.out\".format(\n",
    "        hidden_dim_count, DIMENSION\n",
    "    )\n",
    "    if not os.path.isfile(graph_path) or REGENERATE_DATA:\n",
    "        build_cmd = build_graph_cmd_template.format(\n",
    "            featuresSize=DIMENSION,\n",
    "            graphPath=graph_path,\n",
    "            relevanceVector=DIMENSION - hidden_dim_count,\n",
    "            features=\"items\",\n",
    "            metric=\"dot_product\" # should be equivalent to l2\n",
    "        )\n",
    "        print(build_cmd)\n",
    "        os.system(build_cmd)\n",
    "    \n",
    "    label = \"hidden_{}_search_gt\".format(hidden_dim_count)\n",
    "    experiment_results[label] = search_recall(\n",
    "        graph_path, \"gt_test_scores.bin\",\n",
    "        iterations=3, n_threads=N_SEARCH_THREADS\n",
    "    )\n",
    "    (lower_evals, upper_evals), _ = get_evals_for_recall(experiment_results[label])\n",
    "    hidden_search_gt_evals.append((lower_evals, upper_evals))\n",
    "    \n",
    "    label = \"hidden_{}_search_rerank\".format(hidden_dim_count)\n",
    "    search_result_file = \"search_result_hidden_{}\".format(hidden_dim_count)\n",
    "    run_search(\n",
    "        graph_path,\n",
    "        \"hidden_{}_test_scores.bin\".format(hidden_dim_count),\n",
    "        topK=GT_TOP_LEN,\n",
    "        ef_ticks=[1000],\n",
    "        result_file=search_result_file\n",
    "        n_threads=1\n",
    "    )\n",
    "    read_txt(\"data/synthetic/{}.txt\".format(search_result_file), (QUERY_COUNT, GT_TOP_LEN))\n",
    "    gt = np.fromfile()\n",
    "    \n",
    "    "
   ]
  },
  {
   "cell_type": "code",
   "execution_count": null,
   "metadata": {},
   "outputs": [],
   "source": []
  },
  {
   "cell_type": "code",
   "execution_count": null,
   "metadata": {},
   "outputs": [],
   "source": []
  },
  {
   "cell_type": "code",
   "execution_count": 46,
   "metadata": {},
   "outputs": [],
   "source": [
    "def plot_results(results, x_data=\"evals\", y_data=\"recall\"):\n",
    "    plt.xlabel(x_data)\n",
    "    plt.ylabel(y_data)\n",
    "#     plt.xlim([1000, 20000])\n",
    "#     plt.ylim([0.8, 1])\n",
    "    plt.xscale('log')\n",
    "#     plt.yscale('log')\n",
    "    for label, stats in results.items():\n",
    "        plt.plot(stats[x_data], stats[y_data], label=label)\n",
    "        plt.scatter(stats[x_data], stats[y_data], s=10)\n",
    "    plt.legend()\n",
    "    plt.show()\n",
    "\n"
   ]
  },
  {
   "cell_type": "code",
   "execution_count": null,
   "metadata": {},
   "outputs": [],
   "source": [
    "plot_results(experiment_results)"
   ]
  }
 ],
 "metadata": {
  "kernelspec": {
   "display_name": "Python 3",
   "language": "python",
   "name": "python3"
  },
  "language_info": {
   "codemirror_mode": {
    "name": "ipython",
    "version": 3
   },
   "file_extension": ".py",
   "mimetype": "text/x-python",
   "name": "python",
   "nbconvert_exporter": "python",
   "pygments_lexer": "ipython3",
   "version": "3.8.5"
  }
 },
 "nbformat": 4,
 "nbformat_minor": 4
}
