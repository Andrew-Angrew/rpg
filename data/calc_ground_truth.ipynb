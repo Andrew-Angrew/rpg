{
 "cells": [
  {
   "cell_type": "code",
   "execution_count": 1,
   "metadata": {},
   "outputs": [],
   "source": [
    "import numpy as np"
   ]
  },
  {
   "cell_type": "code",
   "execution_count": 2,
   "metadata": {},
   "outputs": [],
   "source": [
    "def calc_gt(dataset_name, dataset_part, gt_top=100, query_count=1000, item_count=10**6):\n",
    "    scores_path = \"{}/data/model_scores/scores_{}.bin\".format(\n",
    "        dataset_name, dataset_part)\n",
    "    scores = np.fromfile(scores_path, dtype=\"float32\").reshape(\n",
    "        (item_count, query_count))\n",
    "    gt = (-scores).argsort(axis=0)[:gt_top,:].T.astype(\"int32\")\n",
    "    return gt"
   ]
  },
  {
   "cell_type": "code",
   "execution_count": 3,
   "metadata": {},
   "outputs": [],
   "source": [
    "query_count=1000\n",
    "item_count=10**6\n",
    "gt_top = 100\n",
    "\n",
    "for dataset in [\"collections\", \"video\"]:\n",
    "    test_gt = np.fromfile(\n",
    "        \"{}/data/model_scores/groundtruth.bin\".format(dataset),\n",
    "        dtype=\"int32\"\n",
    "    ).reshape((query_count, gt_top))\n",
    "    assert np.all(\n",
    "        test_gt == calc_gt(dataset, \"test\")\n",
    "    )\n",
    "    calc_gt(dataset, \"train\").tofile(\"{}/data/model_scores/groundtruth_train.bin\".format(dataset))"
   ]
  },
  {
   "cell_type": "code",
   "execution_count": 3,
   "metadata": {},
   "outputs": [],
   "source": [
    "\n",
    "for dataset in [\"collections\", \"video\"]:\n",
    "    calc_gt(dataset, \"test\", gt_top=10000).tofile(\n",
    "        \"{}/data/model_scores/groundtruth_test_10000.bin\".format(dataset)\n",
    "    )"
   ]
  }
 ],
 "metadata": {
  "kernelspec": {
   "display_name": "Python 3",
   "language": "python",
   "name": "python3"
  },
  "language_info": {
   "codemirror_mode": {
    "name": "ipython",
    "version": 3
   },
   "file_extension": ".py",
   "mimetype": "text/x-python",
   "name": "python",
   "nbconvert_exporter": "python",
   "pygments_lexer": "ipython3",
   "version": "3.8.5"
  }
 },
 "nbformat": 4,
 "nbformat_minor": 4
}
