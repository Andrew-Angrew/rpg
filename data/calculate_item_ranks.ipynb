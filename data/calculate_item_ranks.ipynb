{
 "cells": [
  {
   "cell_type": "code",
   "execution_count": 28,
   "metadata": {},
   "outputs": [],
   "source": [
    "import numpy as np\n",
    "import os\n"
   ]
  },
  {
   "cell_type": "code",
   "execution_count": 29,
   "metadata": {},
   "outputs": [],
   "source": [
    "def calc_ranks_limited_memory(dataset, user_count=1000, item_count=1000000, rank_block_size=1000):\n",
    "    assert item_count % rank_block_size == 0\n",
    "    block_count = item_count // rank_block_size\n",
    "    \n",
    "    score_path = \"{}/data/model_scores/scores_train.bin\".format(dataset)\n",
    "    ranks_path = \"{}/data/item_train_ranks.bin\".format(dataset)\n",
    "    log_ranks_path = \"{}/data/item_train_log_ranks.bin\".format(dataset)\n",
    "    \n",
    "    with open(score_path, \"rb\") as score_file:\n",
    "        with open(ranks_path, \"wb\") as ranks_file, open(log_ranks_path, \"wb\") as log_ranks_file:\n",
    "            for i in range(block_count):\n",
    "                scores = np.fromfile(score_file, dtype=\"float32\", count=user_count * rank_block_size)\n",
    "                scores = scores.reshape((rank_block_size, user_count))\n",
    "                ranks = scores.argsort(axis=0).astype(\"float32\") + 1.0\n",
    "                ranks.tofile(ranks_file)\n",
    "                np.log(ranks).tofile(log_ranks_file)\n",
    "\n",
    "            \n",
    "#     if os.path.isfile(\"tmp_ranks.bin\"):\n",
    "#         os.remove(\"tmp_ranks.bin\")\n",
    "\n",
    "#     for i in range(user_count):\n",
    "#         ranks_i = (1 + np.argsort(scores[:,i])).astype(\"int32\")\n",
    "#         with open(\"tmp_ranks.bin\", \"ab\") as fout:\n",
    "#             ranks_i.tofile(fout)\n",
    "\n",
    "#     del scores # free memory\n",
    "\n",
    "#     ranks = np.fromfile(\"tmp_ranks.bin\", dtype=\"int32\")\n",
    "#     ranks = ranks.reshape((user_count, -1)).T\n",
    "#     ranks.astype(\"float32\").tofile(ranks_path)\n",
    "#     np.log(ranks).astype(\"float32\").tofile(log_ranks_path)\n",
    "\n",
    "#     os.remove(\"tmp_ranks.bin\")\n"
   ]
  },
  {
   "cell_type": "code",
   "execution_count": 30,
   "metadata": {},
   "outputs": [],
   "source": [
    "def calc_ranks(dataset, user_count=1000, item_count=1000000):\n",
    "    score_path = \"{}/data/model_scores/scores_train.bin\".format(dataset)\n",
    "    ranks_path = \"{}/data/item_train_ranks.bin\".format(dataset)\n",
    "    log_ranks_path = \"{}/data/item_train_log_ranks.bin\".format(dataset)\n",
    "    \n",
    "    with open(score_path, \"rb\") as score_file:\n",
    "        scores = np.fromfile(score_file, dtype=\"float32\")\n",
    "    assert scores.shape[0] == user_count * item_count\n",
    "    scores = scores.reshape((item_count, user_count))\n",
    "    ranks = (-scores).argsort(axis=0).argsort(axis=0)\n",
    "    ranks = ranks.astype(\"float32\") + 1.0\n",
    "    ranks.tofile(ranks_path)\n",
    "    np.log(ranks).tofile(log_ranks_path)\n"
   ]
  },
  {
   "cell_type": "code",
   "execution_count": 34,
   "metadata": {},
   "outputs": [],
   "source": [
    "# test\n",
    "test_scores = np.array([\n",
    "    [1, 2, 6],\n",
    "    [4, 3, 5],\n",
    "    [4, 1, 5],\n",
    "    [3, 2, 6]\n",
    "]).astype(\"float32\")\n",
    "with open(\"test/data/model_scores/scores_train.bin\", \"wb\") as fout:\n",
    "    test_scores.tofile(fout)\n",
    "\n",
    "expected_ranks = np.array([\n",
    "    [4, 2, 1],\n",
    "    [1, 1, 3],\n",
    "    [2, 4, 4],\n",
    "    [3, 3, 2]\n",
    "]).astype(\"float32\")\n",
    "\n",
    "calc_ranks(\"test\", 3, 4)\n",
    "\n",
    "ranks = np.fromfile(\"test/data/item_train_ranks.bin\", dtype=\"float32\")\n",
    "ranks = ranks.reshape((4, 3))\n",
    "assert np.all(ranks == expected_ranks), ranks\n",
    "\n"
   ]
  },
  {
   "cell_type": "code",
   "execution_count": 35,
   "metadata": {},
   "outputs": [],
   "source": [
    "calc_ranks(\"collections\")"
   ]
  },
  {
   "cell_type": "code",
   "execution_count": 36,
   "metadata": {},
   "outputs": [],
   "source": [
    "calc_ranks(\"video\")"
   ]
  },
  {
   "cell_type": "code",
   "execution_count": null,
   "metadata": {},
   "outputs": [],
   "source": []
  },
  {
   "cell_type": "code",
   "execution_count": null,
   "metadata": {},
   "outputs": [],
   "source": []
  }
 ],
 "metadata": {
  "kernelspec": {
   "display_name": "Python 3",
   "language": "python",
   "name": "python3"
  },
  "language_info": {
   "codemirror_mode": {
    "name": "ipython",
    "version": 3
   },
   "file_extension": ".py",
   "mimetype": "text/x-python",
   "name": "python",
   "nbconvert_exporter": "python",
   "pygments_lexer": "ipython3",
   "version": "3.8.5"
  }
 },
 "nbformat": 4,
 "nbformat_minor": 4
}
