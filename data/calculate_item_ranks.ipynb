{
 "cells": [
  {
   "cell_type": "code",
   "execution_count": 3,
   "metadata": {},
   "outputs": [],
   "source": [
    "import numpy as np\n",
    "import os\n"
   ]
  },
  {
   "cell_type": "code",
   "execution_count": 4,
   "metadata": {},
   "outputs": [],
   "source": [
    "def calc_ranks(dataset, user_count=1000, item_count=1000000, part=\"train\"):\n",
    "    assert part in [\"train\", \"test\"]\n",
    "    score_path = \"{}/data/model_scores/scores_{}.bin\".format(dataset, part)\n",
    "    ranks_path = \"{}/data/item_{}_ranks.bin\".format(dataset, part)\n",
    "    log_ranks_path = \"{}/data/item_{}_log_ranks.bin\".format(dataset, part)\n",
    "    \n",
    "    with open(score_path, \"rb\") as score_file:\n",
    "        scores = np.fromfile(score_file, dtype=\"float32\")\n",
    "    assert scores.shape[0] == user_count * item_count\n",
    "    scores = scores.reshape((item_count, user_count))\n",
    "    ranks = (-scores).argsort(axis=0).argsort(axis=0)\n",
    "    ranks = ranks.astype(\"float32\") + 1.0\n",
    "    ranks.tofile(ranks_path)\n",
    "    np.log(ranks).tofile(log_ranks_path)\n"
   ]
  },
  {
   "cell_type": "code",
   "execution_count": 5,
   "metadata": {},
   "outputs": [],
   "source": [
    "# test\n",
    "test_scores = np.array([\n",
    "    [1, 2, 6],\n",
    "    [4, 3, 5],\n",
    "    [4, 1, 5],\n",
    "    [3, 2, 6]\n",
    "]).astype(\"float32\")\n",
    "with open(\"test/data/model_scores/scores_train.bin\", \"wb\") as fout:\n",
    "    test_scores.tofile(fout)\n",
    "\n",
    "expected_ranks = np.array([\n",
    "    [4, 2, 1],\n",
    "    [1, 1, 3],\n",
    "    [2, 4, 4],\n",
    "    [3, 3, 2]\n",
    "]).astype(\"float32\")\n",
    "\n",
    "calc_ranks(\"test\", 3, 4)\n",
    "\n",
    "ranks = np.fromfile(\"test/data/item_train_ranks.bin\", dtype=\"float32\")\n",
    "ranks = ranks.reshape((4, 3))\n",
    "assert np.all(ranks == expected_ranks), ranks\n",
    "\n"
   ]
  },
  {
   "cell_type": "code",
   "execution_count": 6,
   "metadata": {},
   "outputs": [],
   "source": [
    "calc_ranks(\"collections\", part=\"test\")"
   ]
  },
  {
   "cell_type": "code",
   "execution_count": 7,
   "metadata": {},
   "outputs": [],
   "source": [
    "calc_ranks(\"video\", part=\"test\")"
   ]
  },
  {
   "cell_type": "code",
   "execution_count": null,
   "metadata": {},
   "outputs": [],
   "source": []
  }
 ],
 "metadata": {
  "kernelspec": {
   "display_name": "Python 3",
   "language": "python",
   "name": "python3"
  },
  "language_info": {
   "codemirror_mode": {
    "name": "ipython",
    "version": 3
   },
   "file_extension": ".py",
   "mimetype": "text/x-python",
   "name": "python",
   "nbconvert_exporter": "python",
   "pygments_lexer": "ipython3",
   "version": "3.8.5"
  }
 },
 "nbformat": 4,
 "nbformat_minor": 4
}
