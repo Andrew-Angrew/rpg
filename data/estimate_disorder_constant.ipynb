{
 "cells": [
  {
   "cell_type": "code",
   "execution_count": 69,
   "metadata": {},
   "outputs": [],
   "source": [
    "import numpy as np\n",
    "\n",
    "from matplotlib import pyplot as plt"
   ]
  },
  {
   "cell_type": "code",
   "execution_count": null,
   "metadata": {},
   "outputs": [],
   "source": []
  },
  {
   "cell_type": "code",
   "execution_count": 34,
   "metadata": {},
   "outputs": [],
   "source": [
    "# test data\n",
    "\n",
    "iranks = np.array([\n",
    "    [1],\n",
    "    [2],\n",
    "    [3]\n",
    "])\n",
    "ifeats = np.array([\n",
    "    [1],\n",
    "    [2],\n",
    "    [3]\n",
    "])\n"
   ]
  },
  {
   "cell_type": "code",
   "execution_count": 89,
   "metadata": {},
   "outputs": [],
   "source": [
    "def calc_l2_distances(pt, points):\n",
    "    return ((points - pt) ** 2).sum(axis=1)\n",
    "\n",
    "def calc_sum_ord_distances(pt, points, sum_ord=0):\n",
    "    return np.partition(points + pt, sum_ord)[:,sum_ord]\n",
    "\n",
    "pt = np.array([1, 2, 3])\n",
    "pts = np.array([\n",
    "    [4, 0, 1],\n",
    "    [7, 6, 5],\n",
    "    [5, 5, 0]\n",
    "])\n",
    "assert np.all(calc_sum_ord_distances(pt, pts, 1) == np.array([4, 8, 6]))\n",
    "assert np.all(calc_sum_ord_distances(pt, pts, 0) == np.array([2, 8, 3]))\n",
    "\n"
   ]
  },
  {
   "cell_type": "code",
   "execution_count": 67,
   "metadata": {},
   "outputs": [],
   "source": [
    "def estimate_disorder_curve(item_features, item_ranks, item_item_rank_lim=None,\n",
    "                            base_item_cout=1000, sample_count=1000, metric_type=\"l2\"):\n",
    "    assert metric_type in [\"l2\", \"\"]\n",
    "    item_count, query_count = item_ranks.shape\n",
    "    if item_item_rank_lim is None:\n",
    "        item_item_rank_lim = item_count - 1\n",
    "    base_items = np.random.choice(item_count, base_item_cout)\n",
    "    disorder_multipliers = []\n",
    "\n",
    "    for base_item in base_items:\n",
    "#         print(base_item)\n",
    "        distances = ((item_features - item_features[base_item]) ** 2).sum(axis=1)\n",
    "#         print(distances)\n",
    "        item_order = np.argsort(distances)\n",
    "        assert item_order[0] == base_item # fails if duplicates\n",
    "        item_item_ranks = np.argsort(item_order)\n",
    "        item_order = item_order[1: 1 + item_item_rank_lim]\n",
    "#         print(item_order)\n",
    "#         print(item_item_ranks)\n",
    "        \n",
    "        second_items = np.random.choice(item_order, sample_count)\n",
    "        qweries = np.random.choice(query_count, sample_count)\n",
    "#         print(second_items, qweries)\n",
    "        base_item_ranks = item_ranks[base_item, qweries]\n",
    "        second_item_ranks = item_ranks[second_items, qweries]\n",
    "#         print(base_item_ranks, second_item_ranks)\n",
    "        disorder_multipliers.append(\n",
    "            item_item_ranks[second_items] / (base_item_ranks + second_item_ranks)\n",
    "        )\n",
    "    disorder_multipliers = np.array(disorder_multipliers).flatten()\n",
    "#     print()\n",
    "#     print(disorder_multipliers)\n",
    "    return np.percentile(disorder_multipliers, np.arange(0, 101))"
   ]
  },
  {
   "cell_type": "code",
   "execution_count": 70,
   "metadata": {},
   "outputs": [],
   "source": [
    "curve = estimate_disorder_curve(ifeats, iranks, base_item_cout=1, sample_count=1)"
   ]
  },
  {
   "cell_type": "code",
   "execution_count": 75,
   "metadata": {},
   "outputs": [],
   "source": [
    "item_count = 10 ** 6\n",
    "query_count = 1000\n",
    "\n",
    "ifeats = np.fromfile(\"collections/data/model_scores/scores_train.bin\", dtype=\"float32\"\n",
    "                    ).reshape(item_count, query_count)\n",
    "iranks = np.fromfile(\"collections/data/item_train_ranks.bin\", dtype=\"float32\"\n",
    "                    ).reshape(item_count, query_count)"
   ]
  },
  {
   "cell_type": "code",
   "execution_count": 78,
   "metadata": {},
   "outputs": [],
   "source": [
    "curve = estimate_disorder_curve(ifeats, iranks, base_item_cout=10, sample_count=10000, item_item_rank_lim=10000)"
   ]
  },
  {
   "cell_type": "code",
   "execution_count": 79,
   "metadata": {},
   "outputs": [
    {
     "data": {
      "text/plain": [
       "[<matplotlib.lines.Line2D at 0x7f4980583100>]"
      ]
     },
     "execution_count": 79,
     "metadata": {},
     "output_type": "execute_result"
    },
    {
     "data": {
      "image/png": "[encoded data removed]",
      "text/plain": [
       "<Figure size 432x288 with 1 Axes>"
      ]
     },
     "metadata": {
      "needs_background": "light"
     },
     "output_type": "display_data"
    }
   ],
   "source": [
    "plt.plot(curve)\n"
   ]
  },
  {
   "cell_type": "markdown",
   "metadata": {},
   "source": [
    "list:\n",
    "label, metric_calcer\n",
    "\n",
    "in cycle:\n",
    "    label, features, item_metric, item_ranks"
   ]
  },
  {
   "cell_type": "code",
   "execution_count": null,
   "metadata": {},
   "outputs": [],
   "source": [
    "def plot_disorder_curves(metrics_to_eval, dataset, dataset_part=\"train\"):\n",
    "    assert dataset_part in [\"train\", \"test\"]\n",
    "    item_ranks = np.fromfile(\n",
    "        \"{}/data/item_train_ranks.bin\".format(dataset),\n",
    "        dtype=\"float32\").reshape(item_count, query_count)\n",
    "    item__log_ranks = np.fromfile(\n",
    "        \"{}/data/item_train_log_ranks.bin\".format(dataset),\n",
    "        dtype=\"float32\").reshape(item_count, query_count)\n",
    "    "
   ]
  },
  {
   "cell_type": "code",
   "execution_count": null,
   "metadata": {},
   "outputs": [],
   "source": []
  },
  {
   "cell_type": "code",
   "execution_count": null,
   "metadata": {},
   "outputs": [],
   "source": []
  },
  {
   "cell_type": "code",
   "execution_count": null,
   "metadata": {},
   "outputs": [],
   "source": []
  },
  {
   "cell_type": "code",
   "execution_count": 32,
   "metadata": {},
   "outputs": [
    {
     "data": {
      "text/plain": [
       "array([2, 3, 4])"
      ]
     },
     "execution_count": 32,
     "metadata": {},
     "output_type": "execute_result"
    }
   ],
   "source": [
    "a = np.arange(5)\n",
    "a[2:7]"
   ]
  },
  {
   "cell_type": "code",
   "execution_count": 83,
   "metadata": {},
   "outputs": [
    {
     "data": {
      "text/plain": [
       "array([2, 5, 8])"
      ]
     },
     "execution_count": 83,
     "metadata": {},
     "output_type": "execute_result"
    }
   ],
   "source": [
    "A[:,2]"
   ]
  },
  {
   "cell_type": "code",
   "execution_count": 29,
   "metadata": {},
   "outputs": [
    {
     "data": {
      "text/plain": [
       "array([0, 3, 6])"
      ]
     },
     "execution_count": 29,
     "metadata": {},
     "output_type": "execute_result"
    }
   ],
   "source": [
    "A = np.arange(9).reshape((3, 3))\n",
    "A[[0, 1, 2], 0]"
   ]
  },
  {
   "cell_type": "code",
   "execution_count": 24,
   "metadata": {},
   "outputs": [
    {
     "data": {
      "text/plain": [
       "array([0, 1, 0])"
      ]
     },
     "execution_count": 24,
     "metadata": {},
     "output_type": "execute_result"
    }
   ],
   "source": [
    "np.random.choice(3, 3, replace=True)"
   ]
  },
  {
   "cell_type": "code",
   "execution_count": 80,
   "metadata": {
    "scrolled": false
   },
   "outputs": [
    {
     "name": "stdout",
     "output_type": "stream",
     "text": [
      "Help on function partition in module numpy:\n",
      "\n",
      "partition(a, kth, axis=-1, kind='introselect', order=None)\n",
      "    Return a partitioned copy of an array.\n",
      "    \n",
      "    Creates a copy of the array with its elements rearranged in such a\n",
      "    way that the value of the element in k-th position is in the\n",
      "    position it would be in a sorted array. All elements smaller than\n",
      "    the k-th element are moved before this element and all equal or\n",
      "    greater are moved behind it. The ordering of the elements in the two\n",
      "    partitions is undefined.\n",
      "    \n",
      "    .. versionadded:: 1.8.0\n",
      "    \n",
      "    Parameters\n",
      "    ----------\n",
      "    a : array_like\n",
      "        Array to be sorted.\n",
      "    kth : int or sequence of ints\n",
      "        Element index to partition by. The k-th value of the element\n",
      "        will be in its final sorted position and all smaller elements\n",
      "        will be moved before it and all equal or greater elements behind\n",
      "        it. The order of all elements in the partitions is undefined. If\n",
      "        provided with a sequence of k-th it will partition all elements\n",
      "        indexed by k-th  of them into their sorted position at once.\n",
      "    axis : int or None, optional\n",
      "        Axis along which to sort. If None, the array is flattened before\n",
      "        sorting. The default is -1, which sorts along the last axis.\n",
      "    kind : {'introselect'}, optional\n",
      "        Selection algorithm. Default is 'introselect'.\n",
      "    order : str or list of str, optional\n",
      "        When `a` is an array with fields defined, this argument\n",
      "        specifies which fields to compare first, second, etc.  A single\n",
      "        field can be specified as a string.  Not all fields need be\n",
      "        specified, but unspecified fields will still be used, in the\n",
      "        order in which they come up in the dtype, to break ties.\n",
      "    \n",
      "    Returns\n",
      "    -------\n",
      "    partitioned_array : ndarray\n",
      "        Array of the same type and shape as `a`.\n",
      "    \n",
      "    See Also\n",
      "    --------\n",
      "    ndarray.partition : Method to sort an array in-place.\n",
      "    argpartition : Indirect partition.\n",
      "    sort : Full sorting\n",
      "    \n",
      "    Notes\n",
      "    -----\n",
      "    The various selection algorithms are characterized by their average\n",
      "    speed, worst case performance, work space size, and whether they are\n",
      "    stable. A stable sort keeps items with the same key in the same\n",
      "    relative order. The available algorithms have the following\n",
      "    properties:\n",
      "    \n",
      "    ================= ======= ============= ============ =======\n",
      "       kind            speed   worst case    work space  stable\n",
      "    ================= ======= ============= ============ =======\n",
      "    'introselect'        1        O(n)           0         no\n",
      "    ================= ======= ============= ============ =======\n",
      "    \n",
      "    All the partition algorithms make temporary copies of the data when\n",
      "    partitioning along any but the last axis.  Consequently,\n",
      "    partitioning along the last axis is faster and uses less space than\n",
      "    partitioning along any other axis.\n",
      "    \n",
      "    The sort order for complex numbers is lexicographic. If both the\n",
      "    real and imaginary parts are non-nan then the order is determined by\n",
      "    the real parts except when they are equal, in which case the order\n",
      "    is determined by the imaginary parts.\n",
      "    \n",
      "    Examples\n",
      "    --------\n",
      "    >>> a = np.array([3, 4, 2, 1])\n",
      "    >>> np.partition(a, 3)\n",
      "    array([2, 1, 3, 4])\n",
      "    \n",
      "    >>> np.partition(a, (1, 3))\n",
      "    array([1, 2, 3, 4])\n",
      "\n"
     ]
    }
   ],
   "source": [
    "help(np.partition)"
   ]
  }
 ],
 "metadata": {
  "kernelspec": {
   "display_name": "Python 3",
   "language": "python",
   "name": "python3"
  },
  "language_info": {
   "codemirror_mode": {
    "name": "ipython",
    "version": 3
   },
   "file_extension": ".py",
   "mimetype": "text/x-python",
   "name": "python",
   "nbconvert_exporter": "python",
   "pygments_lexer": "ipython3",
   "version": "3.8.5"
  }
 },
 "nbformat": 4,
 "nbformat_minor": 4
}
