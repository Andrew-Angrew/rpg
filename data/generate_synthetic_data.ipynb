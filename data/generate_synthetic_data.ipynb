{
 "cells": [
  {
   "cell_type": "code",
   "execution_count": 12,
   "metadata": {},
   "outputs": [],
   "source": [
    "import numpy as np\n",
    "import os"
   ]
  },
  {
   "cell_type": "code",
   "execution_count": 10,
   "metadata": {},
   "outputs": [],
   "source": [
    "def normalize(a):\n",
    "    vec_lengths = np.sqrt(np.power(a, 2).sum(axis=1, keepdims=True))\n",
    "    return a / vec_lengths\n"
   ]
  },
  {
   "cell_type": "code",
   "execution_count": 3,
   "metadata": {},
   "outputs": [],
   "source": [
    "DIMENSION = 10\n",
    "QUERY_COUNT = 1000\n",
    "ITEM_COUNT = 10 ** 6\n",
    "\n"
   ]
  },
  {
   "cell_type": "code",
   "execution_count": 4,
   "metadata": {},
   "outputs": [],
   "source": [
    "query_path = \"synthetic/data/query_features.bin\"\n",
    "\n",
    "if not os.path.isfile(query_path):\n",
    "    queries = normalize(np.random.randn(QUERY_COUNT, DIMENSION)).astype(\"float32\")\n",
    "    queries.tofile(query_path)\n",
    "else:\n",
    "    queries = np.fromfile(query_path, dtype=\"float32\").reshape((QUERY_COUNT, DIMENSION))\n",
    "\n",
    "item_path = \"synthetic/data/item_features.bin\"\n",
    "if not os.path.isfile(item_path):\n",
    "    items = normalize(np.random.randn(ITEM_COUNT, DIMENSION)).astype(\"float32\")\n",
    "    items.tofile(item_path)\n",
    "else:\n",
    "    items = np.fromfile(item_path, dtype=\"float32\").reshape((ITEM_COUNT, DIMENSION))\n"
   ]
  },
  {
   "cell_type": "code",
   "execution_count": 11,
   "metadata": {},
   "outputs": [
    {
     "data": {
      "text/plain": [
       "array([[-0.46268866,  0.49557366,  1.09908869, ...,  2.09388559,\n",
       "        -0.10302524, -1.2930251 ],\n",
       "       [ 0.78556153, -0.96188798, -0.34869582, ..., -2.41874683,\n",
       "        -0.49563725,  0.89802565],\n",
       "       [-2.53913647, -0.89220954, -1.07284044, ..., -0.13361288,\n",
       "         0.51630765,  0.79171394],\n",
       "       ...,\n",
       "       [ 2.00726107, -0.8351451 ,  1.65884786, ...,  0.35967554,\n",
       "        -0.6013434 , -3.02371707],\n",
       "       [ 0.13141952, -2.10147667, -0.09999889, ...,  0.02749145,\n",
       "         1.68904546,  0.99624581],\n",
       "       [ 0.43034959,  0.48214569, -2.3037861 , ...,  0.08174185,\n",
       "        -0.63067236, -0.12935001]])"
      ]
     },
     "execution_count": 11,
     "metadata": {},
     "output_type": "execute_result"
    }
   ],
   "source": []
  },
  {
   "cell_type": "code",
   "execution_count": null,
   "metadata": {},
   "outputs": [],
   "source": []
  },
  {
   "cell_type": "code",
   "execution_count": null,
   "metadata": {},
   "outputs": [],
   "source": [
    "np.nor"
   ]
  },
  {
   "cell_type": "code",
   "execution_count": 6,
   "metadata": {},
   "outputs": [
    {
     "name": "stdout",
     "output_type": "stream",
     "text": [
      "power(x1, x2, /, out=None, *, where=True, casting='same_kind', order='K', dtype=None, subok=True[, signature, extobj])\n",
      "\n",
      "First array elements raised to powers from second array, element-wise.\n",
      "\n",
      "Raise each base in `x1` to the positionally-corresponding power in\n",
      "`x2`.  `x1` and `x2` must be broadcastable to the same shape. Note that an\n",
      "integer type raised to a negative integer power will raise a ValueError.\n",
      "\n",
      "Parameters\n",
      "----------\n",
      "x1 : array_like\n",
      "    The bases.\n",
      "x2 : array_like\n",
      "    The exponents.\n",
      "    If ``x1.shape != x2.shape``, they must be broadcastable to a common\n",
      "    shape (which becomes the shape of the output).\n",
      "out : ndarray, None, or tuple of ndarray and None, optional\n",
      "    A location into which the result is stored. If provided, it must have\n",
      "    a shape that the inputs broadcast to. If not provided or None,\n",
      "    a freshly-allocated array is returned. A tuple (possible only as a\n",
      "    keyword argument) must have length equal to the number of outputs.\n",
      "where : array_like, optional\n",
      "    This condition is broadcast over the input. At locations where the\n",
      "    condition is True, the `out` array will be set to the ufunc result.\n",
      "    Elsewhere, the `out` array will retain its original value.\n",
      "    Note that if an uninitialized `out` array is created via the default\n",
      "    ``out=None``, locations within it where the condition is False will\n",
      "    remain uninitialized.\n",
      "**kwargs\n",
      "    For other keyword-only arguments, see the\n",
      "    :ref:`ufunc docs <ufuncs.kwargs>`.\n",
      "\n",
      "Returns\n",
      "-------\n",
      "y : ndarray\n",
      "    The bases in `x1` raised to the exponents in `x2`.\n",
      "    This is a scalar if both `x1` and `x2` are scalars.\n",
      "\n",
      "See Also\n",
      "--------\n",
      "float_power : power function that promotes integers to float\n",
      "\n",
      "Examples\n",
      "--------\n",
      "Cube each element in a list.\n",
      "\n",
      ">>> x1 = range(6)\n",
      ">>> x1\n",
      "[0, 1, 2, 3, 4, 5]\n",
      ">>> np.power(x1, 3)\n",
      "array([  0,   1,   8,  27,  64, 125])\n",
      "\n",
      "Raise the bases to different exponents.\n",
      "\n",
      ">>> x2 = [1.0, 2.0, 3.0, 3.0, 2.0, 1.0]\n",
      ">>> np.power(x1, x2)\n",
      "array([  0.,   1.,   8.,  27.,  16.,   5.])\n",
      "\n",
      "The effect of broadcasting.\n",
      "\n",
      ">>> x2 = np.array([[1, 2, 3, 3, 2, 1], [1, 2, 3, 3, 2, 1]])\n",
      ">>> x2\n",
      "array([[1, 2, 3, 3, 2, 1],\n",
      "       [1, 2, 3, 3, 2, 1]])\n",
      ">>> np.power(x1, x2)\n",
      "array([[ 0,  1,  8, 27, 16,  5],\n",
      "       [ 0,  1,  8, 27, 16,  5]])\n"
     ]
    }
   ],
   "source": [
    "np.info(np.power)"
   ]
  },
  {
   "cell_type": "code",
   "execution_count": null,
   "metadata": {},
   "outputs": [],
   "source": []
  }
 ],
 "metadata": {
  "kernelspec": {
   "display_name": "Python 3",
   "language": "python",
   "name": "python3"
  },
  "language_info": {
   "codemirror_mode": {
    "name": "ipython",
    "version": 3
   },
   "file_extension": ".py",
   "mimetype": "text/x-python",
   "name": "python",
   "nbconvert_exporter": "python",
   "pygments_lexer": "ipython3",
   "version": "3.8.5"
  }
 },
 "nbformat": 4,
 "nbformat_minor": 4
}
