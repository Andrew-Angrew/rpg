{
 "cells": [
  {
   "cell_type": "code",
   "execution_count": 19,
   "metadata": {},
   "outputs": [],
   "source": [
    "import numpy as np\n",
    "from matplotlib import pyplot as plt\n",
    "from sklearn.preprocessing import QuantileTransformer as Transformer\n",
    "# from sklearn.preprocessing import StandardScaler as Transformer\n",
    "from sklearn.model_selection import train_test_split\n",
    "from torch import nn\n",
    "import torch"
   ]
  },
  {
   "cell_type": "code",
   "execution_count": 20,
   "metadata": {},
   "outputs": [],
   "source": [
    "def read_fvecs(file_name):\n",
    "    a = np.fromfile(file_name, dtype=\"int32\")\n",
    "    dim = a[0]\n",
    "    return a.view(\"float32\").reshape((-1, dim + 1))[:,1:]"
   ]
  },
  {
   "cell_type": "code",
   "execution_count": 21,
   "metadata": {},
   "outputs": [],
   "source": [
    "def clone_model(model):\n",
    "    torch.save(model, \"tmp/tmp_model.net\")\n",
    "    return torch.load(\"tmp/tmp_model.net\")"
   ]
  },
  {
   "cell_type": "code",
   "execution_count": 22,
   "metadata": {},
   "outputs": [],
   "source": [
    "DATASET = \"collections\"\n",
    "EMBEDDING_DIM = 50\n",
    "HIDDEN_DIM = 128\n",
    "\n",
    "ITEM_BATCH_SIZE = 100\n",
    "QUERY_BATCH_SIZE = 100\n",
    "CLOSE_ITEM_COUNT = 10000 # should be <= 10000"
   ]
  },
  {
   "cell_type": "code",
   "execution_count": 23,
   "metadata": {},
   "outputs": [],
   "source": [
    "item_features = read_fvecs(\"{}/data/item_features.fvecs\".format(DATASET))\n",
    "train_query_features = read_fvecs(\"{}/data/user_features_train.fvecs\".format(DATASET))\n",
    "test_query_features = read_fvecs(\"{}/data/user_features_test.fvecs\".format(DATASET))"
   ]
  },
  {
   "cell_type": "code",
   "execution_count": 24,
   "metadata": {},
   "outputs": [],
   "source": [
    "# def measure_scattering(data):\n",
    "#     scattering = data.max(axis=0) - data.min(axis=0)\n",
    "#     scattering /= data.std(axis=0)\n",
    "#     return scattering"
   ]
  },
  {
   "cell_type": "code",
   "execution_count": 25,
   "metadata": {},
   "outputs": [],
   "source": [
    "ITEM_COUNT, ITEM_FEATURES_COUNT = item_features.shape\n",
    "QUERY_COUNT, QUERY_FEATURES_COUNT = train_query_features.shape\n",
    "VALIDATION_QUERY_COUNT = 100\n",
    "TRAIN_QUERY_COUNT = QUERY_COUNT - VALIDATION_QUERY_COUNT\n",
    "\n",
    "train_query_indexes, val_query_indexes = train_test_split(\n",
    "    np.arange(QUERY_COUNT), test_size=VALIDATION_QUERY_COUNT,\n",
    "    random_state=0\n",
    ")"
   ]
  },
  {
   "cell_type": "code",
   "execution_count": 29,
   "metadata": {},
   "outputs": [],
   "source": [
    "target = np.fromfile(\n",
    "    \"{}/data/model_scores/scores_train.bin\".format(DATASET),\n",
    "    dtype=\"float32\"\n",
    ").reshape((ITEM_COUNT, QUERY_COUNT))\n",
    "target = torch.FloatTensor(target)"
   ]
  },
  {
   "cell_type": "code",
   "execution_count": null,
   "metadata": {},
   "outputs": [],
   "source": [
    "close_items = np.fromfile(\n",
    "    \"{}/data/model_scores/groundtruth_train_10000.bin\".format(DATASET),\n",
    "    dtype=\"int32\"\n",
    ").reshape(QUERY_COUNT, 10000)\n",
    "close_items = close_items[:, :CLOSE_ITEM_COUNT]\n",
    "close_probs = 1. / np.arange(1, CLOSE_ITEM_COUNT + 1)\n",
    "close_probs /= close_probs.sum()\n"
   ]
  },
  {
   "cell_type": "code",
   "execution_count": 27,
   "metadata": {},
   "outputs": [],
   "source": [
    "item_scaler = Transformer()\n",
    "item_features = item_scaler.fit_transform(item_features)\n",
    "\n",
    "query_scaler = Transformer()\n",
    "train_query_features = query_scaler.fit_transform(train_query_features)\n",
    "test_query_features = query_scaler.transform(test_query_features)"
   ]
  },
  {
   "cell_type": "code",
   "execution_count": 28,
   "metadata": {},
   "outputs": [],
   "source": [
    "item_features = torch.FloatTensor(item_features)\n",
    "train_query_features = torch.FloatTensor(train_query_features)\n",
    "test_query_features = torch.FloatTensor(test_query_features)"
   ]
  },
  {
   "cell_type": "code",
   "execution_count": 40,
   "metadata": {},
   "outputs": [],
   "source": [
    "item_net = nn.Sequential(\n",
    "    nn.Linear(in_features=ITEM_FEATURES_COUNT, out_features=HIDDEN_DIM, bias=True),\n",
    "    nn.BatchNorm1d(HIDDEN_DIM),\n",
    "    nn.ELU(),\n",
    "    nn.Linear(in_features=HIDDEN_DIM, out_features=HIDDEN_DIM, bias=True),\n",
    "    nn.BatchNorm1d(HIDDEN_DIM),\n",
    "    nn.ELU(),\n",
    "    nn.Linear(in_features=HIDDEN_DIM, out_features=EMBEDDING_DIM, bias=True),\n",
    ")\n",
    "\n",
    "query_net = nn.Sequential(\n",
    "    nn.Linear(in_features=QUERY_FEATURES_COUNT, out_features=HIDDEN_DIM, bias=True),\n",
    "    nn.BatchNorm1d(HIDDEN_DIM),\n",
    "    nn.ELU(),\n",
    "    nn.Linear(in_features=HIDDEN_DIM, out_features=HIDDEN_DIM, bias=True),\n",
    "    nn.BatchNorm1d(HIDDEN_DIM),\n",
    "    nn.ELU(),\n",
    "    nn.Linear(in_features=HIDDEN_DIM, out_features=EMBEDDING_DIM, bias=True),\n",
    ")\n",
    "\n",
    "\n",
    "optimizer = torch.optim.Adam(\n",
    "    params=list(item_net.parameters()) + list(query_net.parameters()),\n",
    "#     lr=0.01, weight_decay=0.1\n",
    ")\n",
    "# optimizer = torch.optim.SGD(\n",
    "#     params=list(item_net.parameters()) + list(query_net.parameters()),\n",
    "#     lr=0.001, weight_decay=0.1\n",
    "# )\n",
    "# scheduler = torch.optim.lr_scheduler.ReduceLROnPlateau(optimizer, 'min', factor=0.5)\n",
    "\n",
    "item_model_path = \"collections/item.net\"\n",
    "query_model_path = \"collections/query.net\"\n",
    "best_loss = None\n",
    "best_epoch = 0\n",
    "curr_epoch = 0\n",
    "logs = {\n",
    "    \"train\": [],\n",
    "    \"validation\": []\n",
    "}"
   ]
  },
  {
   "cell_type": "code",
   "execution_count": 41,
   "metadata": {},
   "outputs": [],
   "source": [
    "def calc_batch_loss_stupid(query_indexes, train=True):\n",
    "    batch_queries = train_query_features[query_indexes]\n",
    "    \n",
    "    batch_item_indexes = np.random.choice(ITEM_COUNT, ITEM_BATCH_SIZE, replace=False)\n",
    "    batch_items = item_features[batch_item_indexes]\n",
    "    batch_target = target[batch_item_indexes][:,query_indexes]\n",
    "\n",
    "    if train:\n",
    "        item_net.train()\n",
    "        query_net.train()\n",
    "    else:\n",
    "        item_net.eval()\n",
    "        query_net.eval()\n",
    "\n",
    "    batch_item_embeds = item_net(batch_items)\n",
    "    batch_query_embeds = query_net(batch_queries)\n",
    "    relevance_prediction = torch.matmul(batch_item_embeds, batch_query_embeds.T)\n",
    "    loss = ((batch_target - relevance_prediction) ** 2).mean()\n",
    "    return loss\n",
    "\n",
    "def calc_batch_loss(query_indexes, train=True):\n",
    "    batch_queries = train_query_features[query_indexes]\n",
    "    \n",
    "    positives_ranks = np.random.choice(\n",
    "        CLOSE_ITEM_COUNT, len(query_indexes), p=close_probs)\n",
    "    positives_indexes = close_items[query_indexes, positives_ranks]\n",
    "    batch_posives = item_features[positives_indexes]\n",
    "    positive_target = target[positives_indexes, query_indexes]\n",
    "\n",
    "    negative_indexes = np.random.choice(ITEM_COUNT, ITEM_BATCH_SIZE, replace=False)\n",
    "    batch_negatives = item_features[negative_indexes]\n",
    "    negative_target = target[negative_indexes][:,query_indexes]\n",
    "\n",
    "    if train:\n",
    "        item_net.train()\n",
    "        query_net.train()\n",
    "    else:\n",
    "        item_net.eval()\n",
    "        query_net.eval()\n",
    "\n",
    "    batch_query_embeds = query_net(batch_queries)\n",
    "    \n",
    "    positive_item_embeds = item_net(batch_posives)\n",
    "    positive_relevance_prediction = (positive_item_embeds * batch_query_embeds).sum(axis=1)\n",
    "    positive_loss = ((positive_target - positive_relevance_prediction) ** 2).mean()\n",
    "    \n",
    "    negative_item_embeds = item_net(batch_negatives)\n",
    "    negative_relevance_prediction = torch.matmul(negative_item_embeds, batch_query_embeds.T)\n",
    "    negative_loss = ((negative_target - negative_relevance_prediction) ** 2).mean()\n",
    "    return positive_loss + negative_loss"
   ]
  },
  {
   "cell_type": "code",
   "execution_count": 42,
   "metadata": {},
   "outputs": [],
   "source": [
    "PASSES_PER_EPOCH = 10\n",
    "\n",
    "# new_lr = 0.001\n",
    "# new_decay = 0.1\n",
    "# momentum = 0.9\n",
    "# for param_group in optimizer.param_groups:\n",
    "#     param_group['lr'] = new_lr\n",
    "#     param_group['weight_decay'] = new_decay\n",
    "#     param_group['momentum'] = momentum"
   ]
  },
  {
   "cell_type": "code",
   "execution_count": 43,
   "metadata": {
    "scrolled": false
   },
   "outputs": [
    {
     "name": "stdout",
     "output_type": "stream",
     "text": [
      "   0 Train loss: 0.0092321                      Validation loss: 0.0067041                      0.001\n",
      "   1 Train loss: 0.0063846                      Validation loss: 0.0063347                      0.001\n",
      "   2 Train loss: 0.0060433                      Validation loss: 0.0060445                      0.001\n",
      "   3 Train loss: 0.0059534                      Validation loss: 0.0059335                      0.001\n",
      "   4 Train loss: 0.0058429                      Validation loss: 0.0062284                      0.001\n",
      "   5 Train loss: 0.0057897                      Validation loss: 0.0060093                      0.001\n",
      "   6 Train loss: 0.0056666                      Validation loss: 0.0056715                      0.001\n",
      "   7 Train loss: 0.0056463                      Validation loss: 0.0059128                      0.001\n",
      "   8 Train loss: 0.0055787                      Validation loss: 0.0058278                      0.001\n",
      "   9 Train loss: 0.0055296                      Validation loss: 0.0063735                      0.001\n",
      "  10 Train loss: 0.0055314                      Validation loss: 0.0057421                      0.001\n",
      "  11 Train loss: 0.0054078                      Validation loss: 0.0060207                      0.001\n",
      "  12 Train loss: 0.0053932                      Validation loss: 0.0058847                      0.001\n",
      "  13 Train loss: 0.0053719                      Validation loss: 0.006051                       0.001\n",
      "  14 Train loss: 0.005228                       Validation loss: 0.0059187                      0.001\n",
      "  15 Train loss: 0.0052255                      Validation loss: 0.0060285                      0.001\n",
      "  16 Train loss: 0.0052755                      Validation loss: 0.0058793                      0.001\n",
      "  17 Train loss: 0.0052793                      Validation loss: 0.005862                       0.001\n",
      "  18 Train loss: 0.0051318                      Validation loss: 0.0062676                      0.001\n",
      "  19 Train loss: 0.0051581                      Validation loss: 0.0059868                      0.001\n",
      "  20 Train loss: 0.0051382                      Validation loss: 0.0059945                      0.001\n",
      "  21 Train loss: 0.0050814                      Validation loss: 0.0058906                      0.001\n",
      "  22 Train loss: 0.0051725                      Validation loss: 0.0061361                      0.001\n",
      "  23 Train loss: 0.0050377                      Validation loss: 0.0065869                      0.001\n",
      "  24 Train loss: 0.0050477                      Validation loss: 0.0063716                      0.001\n",
      "  25 Train loss: 0.0050131                      Validation loss: 0.0059746                      0.001\n",
      "  26 Train loss: 0.0050274                      Validation loss: 0.0061876                      0.001\n",
      "  27 Train loss: 0.0049174                      Validation loss: 0.0060067                      0.001\n",
      "  28 Train loss: 0.004933                       Validation loss: 0.0064431                      0.001\n",
      "  29 Train loss: 0.0049057                      Validation loss: 0.0060238                      0.001\n",
      "  30 Train loss: 0.0049085                      Validation loss: 0.0060544                      0.001\n",
      "  31 Train loss: 0.0048376                      Validation loss: 0.0063052                      0.001\n",
      "  32 Train loss: 0.0048338                      Validation loss: 0.006215                       0.001\n",
      "  33 Train loss: 0.0048285                      Validation loss: 0.0060293                      0.001\n",
      "  34 Train loss: 0.0048356                      Validation loss: 0.006451                       0.001\n",
      "  35 Train loss: 0.0047403                      Validation loss: 0.0065135                      0.001\n",
      "  36 Train loss: 0.0047594                      Validation loss: 0.0063819                      0.001\n",
      "  37 Train loss: 0.0047505                      Validation loss: 0.0063507                      0.001\n",
      "  38 Train loss: 0.004748                       Validation loss: 0.0060755                      0.001\n",
      "  39 Train loss: 0.0047017                      Validation loss: 0.0062514                      0.001\n"
     ]
    },
    {
     "ename": "KeyboardInterrupt",
     "evalue": "",
     "output_type": "error",
     "traceback": [
      "\u001b[0;31m---------------------------------------------------------------------------\u001b[0m",
      "\u001b[0;31mKeyboardInterrupt\u001b[0m                         Traceback (most recent call last)",
      "\u001b[0;32m<ipython-input-43-ef83f090c8a8>\u001b[0m in \u001b[0;36m<module>\u001b[0;34m\u001b[0m\n\u001b[1;32m      7\u001b[0m         \u001b[0;32mfor\u001b[0m \u001b[0mbatch_start\u001b[0m \u001b[0;32min\u001b[0m \u001b[0mrange\u001b[0m\u001b[0;34m(\u001b[0m\u001b[0;36m0\u001b[0m\u001b[0;34m,\u001b[0m \u001b[0mTRAIN_QUERY_COUNT\u001b[0m\u001b[0;34m,\u001b[0m \u001b[0mQUERY_BATCH_SIZE\u001b[0m\u001b[0;34m)\u001b[0m\u001b[0;34m:\u001b[0m\u001b[0;34m\u001b[0m\u001b[0;34m\u001b[0m\u001b[0m\n\u001b[1;32m      8\u001b[0m             \u001b[0mbatch_query_indexes\u001b[0m \u001b[0;34m=\u001b[0m \u001b[0mquery_permutation\u001b[0m\u001b[0;34m[\u001b[0m\u001b[0mbatch_start\u001b[0m\u001b[0;34m:\u001b[0m \u001b[0mbatch_start\u001b[0m \u001b[0;34m+\u001b[0m \u001b[0mQUERY_BATCH_SIZE\u001b[0m\u001b[0;34m]\u001b[0m\u001b[0;34m\u001b[0m\u001b[0;34m\u001b[0m\u001b[0m\n\u001b[0;32m----> 9\u001b[0;31m             \u001b[0mloss\u001b[0m \u001b[0;34m=\u001b[0m \u001b[0mcalc_batch_loss_stupid\u001b[0m\u001b[0;34m(\u001b[0m\u001b[0mbatch_query_indexes\u001b[0m\u001b[0;34m)\u001b[0m\u001b[0;34m\u001b[0m\u001b[0;34m\u001b[0m\u001b[0m\n\u001b[0m\u001b[1;32m     10\u001b[0m \u001b[0;34m\u001b[0m\u001b[0m\n\u001b[1;32m     11\u001b[0m             \u001b[0moptimizer\u001b[0m\u001b[0;34m.\u001b[0m\u001b[0mzero_grad\u001b[0m\u001b[0;34m(\u001b[0m\u001b[0;34m)\u001b[0m\u001b[0;34m\u001b[0m\u001b[0;34m\u001b[0m\u001b[0m\n",
      "\u001b[0;32m<ipython-input-41-d2eb4163b4e7>\u001b[0m in \u001b[0;36mcalc_batch_loss_stupid\u001b[0;34m(query_indexes, train)\u001b[0m\n\u001b[1;32m      2\u001b[0m     \u001b[0mbatch_queries\u001b[0m \u001b[0;34m=\u001b[0m \u001b[0mtrain_query_features\u001b[0m\u001b[0;34m[\u001b[0m\u001b[0mquery_indexes\u001b[0m\u001b[0;34m]\u001b[0m\u001b[0;34m\u001b[0m\u001b[0;34m\u001b[0m\u001b[0m\n\u001b[1;32m      3\u001b[0m \u001b[0;34m\u001b[0m\u001b[0m\n\u001b[0;32m----> 4\u001b[0;31m     \u001b[0mbatch_item_indexes\u001b[0m \u001b[0;34m=\u001b[0m \u001b[0mnp\u001b[0m\u001b[0;34m.\u001b[0m\u001b[0mrandom\u001b[0m\u001b[0;34m.\u001b[0m\u001b[0mchoice\u001b[0m\u001b[0;34m(\u001b[0m\u001b[0mITEM_COUNT\u001b[0m\u001b[0;34m,\u001b[0m \u001b[0mITEM_BATCH_SIZE\u001b[0m\u001b[0;34m,\u001b[0m \u001b[0mreplace\u001b[0m\u001b[0;34m=\u001b[0m\u001b[0;32mFalse\u001b[0m\u001b[0;34m)\u001b[0m\u001b[0;34m\u001b[0m\u001b[0;34m\u001b[0m\u001b[0m\n\u001b[0m\u001b[1;32m      5\u001b[0m     \u001b[0mbatch_items\u001b[0m \u001b[0;34m=\u001b[0m \u001b[0mitem_features\u001b[0m\u001b[0;34m[\u001b[0m\u001b[0mbatch_item_indexes\u001b[0m\u001b[0;34m]\u001b[0m\u001b[0;34m\u001b[0m\u001b[0;34m\u001b[0m\u001b[0m\n\u001b[1;32m      6\u001b[0m     \u001b[0mbatch_target\u001b[0m \u001b[0;34m=\u001b[0m \u001b[0mtarget\u001b[0m\u001b[0;34m[\u001b[0m\u001b[0mbatch_item_indexes\u001b[0m\u001b[0;34m]\u001b[0m\u001b[0;34m[\u001b[0m\u001b[0;34m:\u001b[0m\u001b[0;34m,\u001b[0m\u001b[0mquery_indexes\u001b[0m\u001b[0;34m]\u001b[0m\u001b[0;34m\u001b[0m\u001b[0;34m\u001b[0m\u001b[0m\n",
      "\u001b[0;31mKeyboardInterrupt\u001b[0m: "
     ]
    }
   ],
   "source": [
    "for local_epoch_num in range(90):\n",
    "    train_loss = 0\n",
    "    validation_loss = 0\n",
    "    \n",
    "    for i in range(PASSES_PER_EPOCH):\n",
    "        query_permutation = np.random.permutation(train_query_indexes)\n",
    "        for batch_start in range(0, TRAIN_QUERY_COUNT, QUERY_BATCH_SIZE):\n",
    "            batch_query_indexes = query_permutation[batch_start: batch_start + QUERY_BATCH_SIZE]\n",
    "            loss = calc_batch_loss_stupid(batch_query_indexes)\n",
    "\n",
    "            optimizer.zero_grad()\n",
    "            loss.backward()\n",
    "            optimizer.step()\n",
    "            train_loss += loss.data.item()\n",
    "    train_loss /= TRAIN_QUERY_COUNT * PASSES_PER_EPOCH\n",
    "    logs[\"train\"].append(train_loss)\n",
    "    for i in range(PASSES_PER_EPOCH):\n",
    "        validation_loss += calc_batch_loss_stupid(\n",
    "            val_query_indexes, train=False).data.item()\n",
    "    validation_loss /= VALIDATION_QUERY_COUNT * PASSES_PER_EPOCH\n",
    "    logs[\"validation\"].append(validation_loss)\n",
    "    scheduler.step(validation_loss)\n",
    "    if best_loss is None or validation_loss < best_loss:\n",
    "        best_loss = validation_loss\n",
    "        best_epoch = curr_epoch\n",
    "        torch.save(item_net, item_model_path)\n",
    "        torch.save(query_net, query_model_path)\n",
    "    \n",
    "    print(\"{:>4} Train loss: {:<30.5} Validation loss: {:<30.5} {:.6}\".format(\n",
    "        curr_epoch, train_loss, validation_loss, optimizer.param_groups[0][\"lr\"]))\n",
    "#     if curr_epoch > best_epoch + 10:\n",
    "#         break\n",
    "    curr_epoch += 1"
   ]
  },
  {
   "cell_type": "code",
   "execution_count": 36,
   "metadata": {},
   "outputs": [
    {
     "data": {
      "text/plain": [
       "(81, 0.005755041778087616)"
      ]
     },
     "execution_count": 36,
     "metadata": {},
     "output_type": "execute_result"
    }
   ],
   "source": [
    "best_epoch, best_loss"
   ]
  },
  {
   "cell_type": "code",
   "execution_count": 72,
   "metadata": {},
   "outputs": [
    {
     "data": {
      "text/plain": [
       "(87, 0.0595288667678833)"
      ]
     },
     "execution_count": 72,
     "metadata": {},
     "output_type": "execute_result"
    }
   ],
   "source": [
    "best_epoch, best_loss"
   ]
  },
  {
   "cell_type": "code",
   "execution_count": 45,
   "metadata": {},
   "outputs": [
    {
     "data": {
      "image/png": "[encoded data removed]",
      "text/plain": [
       "<Figure size 1440x360 with 1 Axes>"
      ]
     },
     "metadata": {
      "needs_background": "light"
     },
     "output_type": "display_data"
    }
   ],
   "source": [
    "start = 0\n",
    "plt.figure(figsize=(20, 5))\n",
    "epochs = list(range(start, len(logs[\"train\"])))\n",
    "plt.plot(epochs, logs[\"train\"][start:], label = \"train\")\n",
    "plt.plot(epochs, logs[\"validation\"][start:], label = \"validation\")\n",
    "plt.legend()\n",
    "plt.show()"
   ]
  },
  {
   "cell_type": "code",
   "execution_count": 18,
   "metadata": {},
   "outputs": [],
   "source": [
    "item_net = torch.load(item_model_path)\n",
    "query_net = torch.load(query_model_path)"
   ]
  },
  {
   "cell_type": "code",
   "execution_count": 74,
   "metadata": {},
   "outputs": [],
   "source": [
    "best_item_net = torch.load(item_model_path)\n",
    "best_query_net = torch.load(query_model_path)\n",
    "pref = \"dssm_i128_q128_close_items\"\n",
    "torch.save(best_item_net, \"{}/{}_item.net\".format(DATASET, pref))\n",
    "torch.save(best_query_net, \"{}/{}_query.net\".format(DATASET, pref))"
   ]
  },
  {
   "cell_type": "code",
   "execution_count": 75,
   "metadata": {},
   "outputs": [],
   "source": [
    "best_item_net.eval()\n",
    "best_query_net.eval()\n",
    "\n",
    "item_embeddings = best_item_net(item_features).detach().numpy()\n",
    "item_embeddings.astype(\"float32\").tofile(\"{}/data/item_embeddings.bin\".format(DATASET))\n",
    "\n",
    "train_query_embeddings = best_query_net(train_query_features).detach().numpy()\n",
    "train_query_embeddings.astype(\"float32\").tofile(\"{}/data/query_embeddings_train.bin\".format(DATASET))\n",
    "\n",
    "test_query_embeddings = best_query_net(test_query_features).detach().numpy()\n",
    "test_query_embeddings.astype(\"float32\").tofile(\"{}/data/query_embeddings_test.bin\".format(DATASET))\n",
    "\n",
    "embedding_train_scores = item_embeddings.dot(train_query_embeddings.T)\n",
    "embedding_train_scores.astype(\"float32\").tofile(\n",
    "    \"{}/data/model_scores/embedding_scores_train.bin\".format(DATASET)\n",
    ")\n",
    "del embedding_train_scores\n",
    "\n",
    "embedding_test_scores = item_embeddings.dot(test_query_embeddings.T)\n",
    "embedding_test_scores.astype(\"float32\").tofile(\n",
    "    \"{}/data/model_scores/embedding_scores_test.bin\".format(DATASET)\n",
    ")\n",
    "del embedding_test_scores"
   ]
  },
  {
   "cell_type": "code",
   "execution_count": null,
   "metadata": {},
   "outputs": [],
   "source": []
  }
 ],
 "metadata": {
  "kernelspec": {
   "display_name": "Python 3",
   "language": "python",
   "name": "python3"
  },
  "language_info": {
   "codemirror_mode": {
    "name": "ipython",
    "version": 3
   },
   "file_extension": ".py",
   "mimetype": "text/x-python",
   "name": "python",
   "nbconvert_exporter": "python",
   "pygments_lexer": "ipython3",
   "version": "3.8.5"
  }
 },
 "nbformat": 4,
 "nbformat_minor": 4
}
