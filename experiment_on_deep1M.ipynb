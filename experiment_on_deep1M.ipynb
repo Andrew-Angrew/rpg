{
 "cells": [
  {
   "cell_type": "code",
   "execution_count": 1,
   "metadata": {},
   "outputs": [],
   "source": [
    "import os\n",
    "import math\n",
    "from collections import namedtuple\n",
    "from multiprocessing import Pool\n",
    "import json\n",
    "\n",
    "import numpy as np\n",
    "from sklearn.metrics import pairwise_distances\n",
    "import matplotlib.pyplot as plt\n",
    "\n"
   ]
  },
  {
   "cell_type": "code",
   "execution_count": 2,
   "metadata": {},
   "outputs": [],
   "source": [
    "DIMENSION = 96\n",
    "QUERY_COUNT = 1000\n",
    "ITEM_COUNT = 10 ** 6\n",
    "GT_TOP_LEN = 10000\n",
    "RECALL_TOP_LEN = 5\n",
    "\n",
    "MIN_EF_SEARCH = 1\n",
    "MAX_EF_SEARCH = 10000\n",
    "# HIDDEN_DIMENSIONS = [0, 2, 4, 8, 16, 32, 48, 64]\n",
    "HIDDEN_DIMENSIONS = [0]\n",
    "RECALL_OF_INTEREST = 0.95\n",
    "N_SEARCH_THREADS = 4\n",
    "REGENERATE_DATA = True\n",
    "RECALC_RESULTS = False\n",
    "DATASET = \"deep1M\"\n",
    "RESULT_PATH = \"data/{}/experiment_results.json\".format(DATASET)\n"
   ]
  },
  {
   "cell_type": "code",
   "execution_count": 3,
   "metadata": {},
   "outputs": [],
   "source": [
    "build_graph_cmd_template = (\n",
    "    \"./RPG --mode base \"\n",
    "    \"--baseSize 1000000 \"\n",
    "    \"--trainQueries {featuresSize} \"\n",
    "    \"--base data/{dataset}/data/{features}.bin \"\n",
    "    \"--outputGraph {graphPath} \"\n",
    "    \"--relevanceVector {relevanceVector} \"\n",
    "    \"--efConstruction 1000 --M 8 \"\n",
    "    \"--metric {metric}\"\n",
    ")\n",
    "\n"
   ]
  },
  {
   "cell_type": "code",
   "execution_count": 4,
   "metadata": {},
   "outputs": [],
   "source": [
    "search_cmd_template = (\n",
    "    \"./RPG --mode query --baseSize 1000000 --querySize 1000\"\n",
    "    \" --query data/{dataset}/data/model_scores/{scores} --inputGraph {inputGraph}\"\n",
    "    \" --efSearch {efSearch} --topK {topK} --output data/{dataset}/{searchResultFile}.txt\" +\n",
    "    \" --gtQueries 1000 --gtTop {} \".format(GT_TOP_LEN) +\n",
    "    \"--groundtruth data/{dataset}/data/model_scores/{gtFile}\"\n",
    ")"
   ]
  },
  {
   "cell_type": "code",
   "execution_count": 5,
   "metadata": {},
   "outputs": [],
   "source": [
    "def read_fvecs(file_name):\n",
    "    a = np.fromfile(file_name, dtype=\"int32\")\n",
    "    dim = a[0]\n",
    "    return a.view(\"float32\").reshape((-1, dim + 1))[:,1:]"
   ]
  },
  {
   "cell_type": "code",
   "execution_count": 6,
   "metadata": {},
   "outputs": [],
   "source": [
    "def sort_by(results, key):\n",
    "    assert key in [\"evals\", \"efSearch\"]\n",
    "    permutation = np.argsort(results[key])\n",
    "    for key in results:\n",
    "        vals = results[key]\n",
    "        results[key] = [vals[i] for i in permutation]\n",
    "    return results\n",
    "\n",
    "assert sort_by({\n",
    "    \"efSearch\": [2, 0, 3, 1],\n",
    "    \"vals\": [1, 2, 3, 4]}, \"efSearch\") == {\n",
    "    \"efSearch\": [0, 1, 2, 3],\n",
    "    \"vals\": [2, 4, 1, 3]\n",
    "}"
   ]
  },
  {
   "cell_type": "code",
   "execution_count": 7,
   "metadata": {},
   "outputs": [],
   "source": [
    "def get_evals_for_recall(results, recall=RECALL_OF_INTEREST):\n",
    "    results = sort_by(results, \"evals\")\n",
    "    evals = results[\"evals\"]\n",
    "    recalls = results[\"recall\"]\n",
    "    ef_serch = results[\"efSearch\"] if \"efSearch\" in results else evals\n",
    "    assert len(evals) == len(recalls)\n",
    "    \n",
    "    lower_bound = 0\n",
    "    lower_bound_ef = MIN_EF_SEARCH\n",
    "    upper_bound = math.inf\n",
    "    upper_bound_ef = MAX_EF_SEARCH\n",
    "    \n",
    "    if not evals:\n",
    "        return lower_bound, upper_bound\n",
    "    \n",
    "    \n",
    "    if recalls[0] <= recall:\n",
    "        lower_bound = evals[0]\n",
    "        lower_bound_ef = ef_serch[0]\n",
    "        i = 1\n",
    "        while i < len(evals) and recalls[i] <= recall:\n",
    "            lower_bound = evals[i]\n",
    "            lower_bound_ef = ef_serch[i]\n",
    "            i += 1\n",
    "    \n",
    "    if recalls[-1] >= recall:\n",
    "        upper_bound = evals[-1]\n",
    "        upper_bound_ef = ef_serch[-1]\n",
    "        i = len(evals) - 2\n",
    "        while i >= 0 and recalls[i] >= recall:\n",
    "            upper_bound = evals[i]\n",
    "            upper_bound_ef = ef_serch[i]\n",
    "            i -= 1\n",
    "    \n",
    "    return (lower_bound, upper_bound), (lower_bound_ef, upper_bound_ef)\n",
    "\n",
    "assert get_evals_for_recall({\n",
    "    \"evals\": [0, 1, 2, 3, 4],\n",
    "    \"recall\": [0.93, 0.94, 0.95, 0.96, 0.97]\n",
    "}) == ((2, 2), (2, 2))\n",
    "assert get_evals_for_recall({\n",
    "    \"evals\": [0, 1, 2, 3, 4],\n",
    "    \"recall\": [0.93, 0.94, 0.955, 0.96, 0.97]\n",
    "}) == ((1, 2), (1, 2))\n",
    "assert get_evals_for_recall({\n",
    "    \"evals\": [0, 1, 2, 3, 4],\n",
    "    \"recall\": [0.93, 0.96, 0.94, 0.96, 0.97]\n",
    "}) == ((0, 3), (0, 3))\n"
   ]
  },
  {
   "cell_type": "code",
   "execution_count": 49,
   "metadata": {},
   "outputs": [],
   "source": [
    "def merge_results(lhs_res, rhs_res):\n",
    "    assert not rhs_res or sorted(lhs_res.keys()) == sorted(rhs_res.keys())\n",
    "    merged_res = {}\n",
    "    for key in lhs_res:\n",
    "        merged_res[key] = list(lhs_res[key]) + list(rhs_res.get(key, []))\n",
    "    return merged_res\n"
   ]
  },
  {
   "cell_type": "code",
   "execution_count": 50,
   "metadata": {},
   "outputs": [],
   "source": [
    "def logspace(start, stop, count, include_ends=True):\n",
    "    cnt_ = count if include_ends else count + 2\n",
    "    seq = np.unique(np.exp(\n",
    "        np.linspace(np.log(start), np.log(stop), cnt_)\n",
    "    ).astype(\"int\"))\n",
    "    if include_ends:\n",
    "        return seq\n",
    "    return seq[1:-1]"
   ]
  },
  {
   "cell_type": "code",
   "execution_count": 51,
   "metadata": {},
   "outputs": [],
   "source": [
    "def bench_cmd(cmd):\n",
    "    res = {}\n",
    "    cmd_out = []\n",
    "    with os.popen(cmd) as out:\n",
    "        for line in out:\n",
    "            cmd_out.append(line)\n",
    "            for stat_name, prefix, suff_len in [\n",
    "                (\"relevance\", \"Average relevance: \", 1),\n",
    "                (\"recall\", \"Recall@5: \", 1),\n",
    "                (\"time\", \"Average query time: \", 3),\n",
    "                (\"evals\", \"Average number of model computations: \", 1)\n",
    "            ]:\n",
    "                if line.startswith(prefix):\n",
    "                    res[stat_name] = float(line[len(prefix):-suff_len])\n",
    "    return res, \"\".join(cmd_out)\n",
    "\n",
    "def run_search(graph_path, scores_file, ef_ticks, topK=5,\n",
    "               result_file=None, n_threads=8, verbose=True,\n",
    "               gt_file=\"groundtruth_test.bin\"\n",
    "              ):\n",
    "    if result_file is None:\n",
    "        result_file = \"result.txt\"\n",
    "    else:\n",
    "        assert len(ef_ticks) == 1\n",
    "    \n",
    "    commands = []\n",
    "    for ef in ef_ticks:\n",
    "        commands.append(search_cmd_template.format(\n",
    "            dataset=DATASET,\n",
    "            scores=scores_file,\n",
    "            inputGraph=graph_path,\n",
    "            efSearch=ef,\n",
    "            topK=topK,\n",
    "            searchResultFile=result_file,\n",
    "            gtFile=gt_file\n",
    "        ))\n",
    "    pool = Pool(processes=n_threads)\n",
    "    results = pool.map(bench_cmd, commands)\n",
    "    output = {\"relevance\": [], \"recall\": [], \"time\": [], \"evals\": []}\n",
    "    for i, (res, cmd_out) in enumerate(results):\n",
    "        if all(key in res for key in output):\n",
    "            for key in output:\n",
    "                output[key].append(res[key])\n",
    "        else:\n",
    "            if verbose:\n",
    "                print(\"missed result for {} efSearch {}.\".format(graph_path, ef_ticks[i]))\n",
    "                print(cmd_out)\n",
    "    output[\"efSearch\"] = [int(t) for t in ef_ticks]\n",
    "    return output"
   ]
  },
  {
   "cell_type": "code",
   "execution_count": 52,
   "metadata": {},
   "outputs": [],
   "source": [
    "def search_recall(graph_path, scores_file,\n",
    "                  iterations=2, runs_per_iteration=None,\n",
    "                  recall_of_interest=RECALL_OF_INTEREST, n_threads=8,\n",
    "                  gt_file=\"groundtruth_test.bin\"\n",
    "                 ):\n",
    "    if runs_per_iteration is None:\n",
    "        runs_per_iteration = n_threads\n",
    "    \n",
    "    lower_ef_search_bound = MIN_EF_SEARCH\n",
    "    upper_ef_search_bound = MAX_EF_SEARCH\n",
    "    cur_results = {}\n",
    "    for i in range(iterations):\n",
    "        ef_ticks = logspace(lower_ef_search_bound, upper_ef_search_bound,\n",
    "                            runs_per_iteration, include_ends=(i==0))\n",
    "        result_update = run_search(graph_path, scores_file,\n",
    "                                   ef_ticks=ef_ticks, n_threads=n_threads, gt_file=gt_file)\n",
    "        cur_results = merge_results(result_update, cur_results)\n",
    "        _, (lower_ef_search_bound, upper_ef_search_bound) = get_evals_for_recall(\n",
    "            cur_results, recall=recall_of_interest)\n",
    "    return sort_by(cur_results, \"efSearch\")"
   ]
  },
  {
   "cell_type": "code",
   "execution_count": 53,
   "metadata": {},
   "outputs": [],
   "source": [
    "def read_txt(file_name, expected_shape=None):\n",
    "    data = []\n",
    "    with open(file_name) as fin:\n",
    "        for line in fin:\n",
    "            data.append([int(w) for w in line.split()])\n",
    "    row_len = len(data[0])\n",
    "    assert all(len(l) == row_len for l in data)\n",
    "    if expected_shape is not None:\n",
    "        assert expected_shape == (len(data), row_len)\n",
    "    return data\n",
    "\n",
    "\n",
    "def calc_eval_recall_curve(approximate_top, gt_top):\n",
    "    assert gt_top.shape == (QUERY_COUNT, RECALL_TOP_LEN)\n",
    "    \n",
    "    gt_tops = [set(query_top) for query_top in gt_top]\n",
    "    recalls = []\n",
    "    found_count = 0\n",
    "    top_len = len(approximate_top[0])\n",
    "    for i in range(top_len):\n",
    "        for query_id in range(QUERY_COUNT):\n",
    "            if approximate_top[query_id][i] in gt_tops[query_id]:\n",
    "                found_count += 1\n",
    "        recalls.append(found_count / (QUERY_COUNT * RECALL_TOP_LEN))\n",
    "    evals = list(range(1, top_len + 1))\n",
    "    return {\"evals\": evals, \"recall\": recalls}\n",
    "    "
   ]
  },
  {
   "cell_type": "code",
   "execution_count": 57,
   "metadata": {},
   "outputs": [],
   "source": [
    "def calc_pairwise_relevance(i, q):\n",
    "    return pairwise_distances(i, q, metric=\"cosine\", n_jobs=-1).astype(\"float32\")\n",
    "\n",
    "# def calc_pairwise_relevance(i, q):\n",
    "#     return -(pairwise_distances(i, q) ** 2).astype(\"float32\")"
   ]
  },
  {
   "cell_type": "code",
   "execution_count": null,
   "metadata": {},
   "outputs": [],
   "source": []
  },
  {
   "cell_type": "code",
   "execution_count": 59,
   "metadata": {},
   "outputs": [
    {
     "name": "stdout",
     "output_type": "stream",
     "text": [
      "compute test scores for models with hidden dimensions\n"
     ]
    }
   ],
   "source": [
    "if REGENERATE_DATA:\n",
    "    print(\"Prepare deep1M data\")\n",
    "    deep_base = read_fvecs(\"data/deep1M/deep10M.fvecs\")\n",
    "    deep_query = read_fvecs(\"data/deep1M/deep1B_queries.fvecs\")\n",
    "    assert deep_base.shape[1] == DIMENSION\n",
    "    assert 2 * QUERY_COUNT <= deep_query.shape[0]\n",
    "\n",
    "#     np.random.seed(0)\n",
    "#     np.random.shuffle(deep_base)\n",
    "#     np.random.shuffle(deep_query)\n",
    "    \n",
    "    train_queries = deep_query[:QUERY_COUNT]\n",
    "    train_queries.tofile(\"data/{}/data/train_queries.bin\".format(DATASET))\n",
    "\n",
    "    test_queries = deep_query[QUERY_COUNT: 2 * QUERY_COUNT]\n",
    "    test_queries.tofile(\"data/{}/data/test_queries.bin\".format(DATASET))\n",
    "    \n",
    "    items = deep_base[:ITEM_COUNT]\n",
    "    items.tofile(\"data/{}/data/items.bin\".format(DATASET))\n",
    "\n",
    "    print(\"compute ground truth test scores\")\n",
    "    gt_train_scores = calc_pairwise_relevance(items, train_queries)\n",
    "    gt_train_scores.tofile(\"data/{}/data/model_scores/gt_train_scores.bin\".format(DATASET))\n",
    "    del gt_train_scores\n",
    "\n",
    "    gt_test_scores = calc_pairwise_relevance(items, test_queries)\n",
    "    gt_test_scores.tofile(\"data/{}/data/model_scores/gt_test_scores.bin\".format(DATASET))\n",
    "    del gt_test_scores\n",
    "    \n",
    "    print(\"Calc ground truth nearest neighbors\")\n",
    "    for data_part in [\"train\", \"test\"]:\n",
    "        scores_path = \"data/{}/data/model_scores/gt_{}_scores.bin\".format(DATASET, data_part)\n",
    "        scores = np.fromfile(scores_path, dtype=\"float32\").reshape(\n",
    "            (ITEM_COUNT, QUERY_COUNT))\n",
    "        gt = (-scores).argsort(axis=0)[:GT_TOP_LEN,:].T.astype(\"int32\")\n",
    "        gt.tofile(\"data/{}/data/model_scores/groundtruth_{}.bin\".format(DATASET, data_part))\n",
    "        del scores\n",
    "        del gt\n",
    "\n",
    "print(\"compute test scores for models with hidden dimensions\") \n",
    "for hidden_dim_count in HIDDEN_DIMENSIONS:\n",
    "    hidden_scores_path = \"data/{}/data/model_scores/hidden_{}_test_scores.bin\".format(\n",
    "        DATASET, hidden_dim_count\n",
    "    )\n",
    "    if not os.path.isfile(hidden_scores_path) or REGENERATE_DATA:\n",
    "        hidden_model_test_scores = calc_pairwise_relevance(\n",
    "            items[:,:DIMENSION - hidden_dim_count],\n",
    "            test_queries[:,:DIMENSION - hidden_dim_count]\n",
    "        )\n",
    "        hidden_model_test_scores.tofile(hidden_scores_path)\n",
    "        del hidden_model_test_scores\n"
   ]
  },
  {
   "cell_type": "code",
   "execution_count": 60,
   "metadata": {},
   "outputs": [],
   "source": [
    "if REGENERATE_DATA or RECALC_RESULTS:\n",
    "    results = {}\n",
    "else:\n",
    "    with open(RESULT_PATH) as fin:\n",
    "        results = json.load(fin)\n"
   ]
  },
  {
   "cell_type": "code",
   "execution_count": 61,
   "metadata": {
    "scrolled": false
   },
   "outputs": [
    {
     "name": "stdout",
     "output_type": "stream",
     "text": [
      "./RPG --mode base --baseSize 1000000 --trainQueries 96 --base data/deep1M/data/items.bin --outputGraph data/deep1M/hidden_48_of_96_graph.out --relevanceVector 48 --efConstruction 1000 --M 8 --metric l2\n"
     ]
    }
   ],
   "source": [
    "\n",
    "for hidden_dim_count in HIDDEN_DIMENSIONS:\n",
    "    graph_path = \"data/{}/hidden_{}_of_{}_graph.out\".format(\n",
    "        DATASET, hidden_dim_count, DIMENSION\n",
    "    )\n",
    "    if not os.path.isfile(graph_path) or REGENERATE_DATA:\n",
    "        build_cmd = build_graph_cmd_template.format(\n",
    "            dataset=DATASET,\n",
    "            featuresSize=DIMENSION,\n",
    "            graphPath=graph_path,\n",
    "            relevanceVector=DIMENSION - hidden_dim_count,\n",
    "            features=\"items\",\n",
    "            metric=\"l2\"\n",
    "        )\n",
    "        print(build_cmd)\n",
    "        os.system(build_cmd)\n",
    "    \n",
    "    label = \"hidden_{}_search_gt\".format(hidden_dim_count)\n",
    "    if label not in results:\n",
    "        results[label] = search_recall(\n",
    "            graph_path, \"gt_test_scores.bin\",\n",
    "            iterations=3, n_threads=N_SEARCH_THREADS,\n",
    "            runs_per_iteration=16\n",
    "        )\n",
    "    \n",
    "    label = \"hidden_{}_search_rerank\".format(hidden_dim_count)\n",
    "    if label not in results:\n",
    "        search_result_file = \"search_result_hidden_{}\".format(hidden_dim_count)\n",
    "        run_search(\n",
    "            graph_path,\n",
    "            \"hidden_{}_test_scores.bin\".format(hidden_dim_count),\n",
    "            topK=GT_TOP_LEN,\n",
    "            ef_ticks=[GT_TOP_LEN],\n",
    "            result_file=search_result_file,\n",
    "            n_threads=1,\n",
    "            verbose=False\n",
    "        )\n",
    "        approximate_top = read_txt(\n",
    "            \"data/{}/{}.txt\".format(DATASET, search_result_file),\n",
    "            (QUERY_COUNT, GT_TOP_LEN)\n",
    "        )\n",
    "        gt = np.fromfile(\n",
    "            \"data/{}/data/model_scores/groundtruth_test.bin\".format(DATASET),\n",
    "            dtype=\"int32\"\n",
    "        ).reshape((QUERY_COUNT, GT_TOP_LEN))\n",
    "        gt = gt[:,:RECALL_TOP_LEN]\n",
    "        result = calc_eval_recall_curve(approximate_top, gt)\n",
    "        results[label] = result\n",
    "    "
   ]
  },
  {
   "cell_type": "code",
   "execution_count": 62,
   "metadata": {},
   "outputs": [],
   "source": [
    "# build graph on relevance vectors\n",
    "relevance_graph_path = \"data/{}/rel_{}_graph.out\".format(DATASET, QUERY_COUNT)\n",
    "if not os.path.isfile(relevance_graph_path) or REGENERATE_DATA:\n",
    "    build_cmd = build_graph_cmd_template.format(\n",
    "        dataset=DATASET,\n",
    "        featuresSize=QUERY_COUNT,\n",
    "        graphPath=relevance_graph_path,\n",
    "        relevanceVector=QUERY_COUNT,\n",
    "        features=\"model_scores/gt_train_scores\",\n",
    "        metric=\"l2\"\n",
    "    )\n",
    "    print(build_cmd)\n",
    "    os.system(build_cmd)"
   ]
  },
  {
   "cell_type": "code",
   "execution_count": 63,
   "metadata": {},
   "outputs": [],
   "source": [
    "label = \"relevance_search_gt\"\n",
    "results[label] = search_recall(\n",
    "    relevance_graph_path, \"gt_test_scores.bin\",\n",
    "    iterations=3, n_threads=N_SEARCH_THREADS,\n",
    "    runs_per_iteration=16\n",
    ")"
   ]
  },
  {
   "cell_type": "code",
   "execution_count": 64,
   "metadata": {},
   "outputs": [],
   "source": [
    "for hidden_dim_count in HIDDEN_DIMENSIONS:\n",
    "    if hidden_dim_count == 0:\n",
    "        continue\n",
    "    label = \"relevance_search_hidden_{}\".format(hidden_dim_count)\n",
    "    if label not in results:\n",
    "        search_result_file = \"search_result_rel_hidden_{}\".format(hidden_dim_count)\n",
    "        run_search(\n",
    "            relevance_graph_path,\n",
    "            \"hidden_{}_test_scores.bin\".format(hidden_dim_count),\n",
    "            topK=GT_TOP_LEN,\n",
    "            ef_ticks=[GT_TOP_LEN],\n",
    "            result_file=search_result_file,\n",
    "            n_threads=1,\n",
    "            verbose=False\n",
    "        )\n",
    "        approximate_top = read_txt(\n",
    "            \"data/{}/{}.txt\".format(DATASET, search_result_file),\n",
    "            (QUERY_COUNT, GT_TOP_LEN)\n",
    "        )\n",
    "        gt = np.fromfile(\n",
    "            \"data/{}/data/model_scores/groundtruth_test.bin\".format(DATASET),\n",
    "            dtype=\"int32\"\n",
    "        ).reshape((QUERY_COUNT, GT_TOP_LEN))\n",
    "        gt = gt[:,:RECALL_TOP_LEN]\n",
    "        result = calc_eval_recall_curve(approximate_top, gt)\n",
    "        results[label] = result\n"
   ]
  },
  {
   "cell_type": "code",
   "execution_count": 65,
   "metadata": {},
   "outputs": [],
   "source": [
    "with open(RESULT_PATH, \"w\") as fout:\n",
    "    json.dump(results, fout, indent=4)"
   ]
  },
  {
   "cell_type": "code",
   "execution_count": 71,
   "metadata": {},
   "outputs": [],
   "source": [
    "def plot_chosen_results(results, keys, xlim=None, ylim=None, x_log_scale=False):\n",
    "    plt.figure(figsize=(10, 10))\n",
    "    plt.xlabel(\"evals\")\n",
    "    plt.ylabel(\"recall@5\")\n",
    "    if xlim is not None:\n",
    "        plt.xlim(xlim)\n",
    "    if ylim is not None:\n",
    "        plt.ylim(ylim)\n",
    "    if x_log_scale:\n",
    "        plt.xscale(\"log\")\n",
    "    \n",
    "    for key in keys:\n",
    "        assert key in results\n",
    "        r = results[key]\n",
    "        x = r[\"evals\"]\n",
    "        y = r[\"recall\"]\n",
    "        plt.plot(x, y, label=key)\n",
    "        pt_size = 0.1 if len(x) > 100 else 5\n",
    "        plt.scatter(x, y, s=pt_size)\n",
    "    plt.legend()\n",
    "    plt.show()"
   ]
  },
  {
   "cell_type": "code",
   "execution_count": 72,
   "metadata": {},
   "outputs": [
    {
     "data": {
      "text/plain": [
       "['hidden_0_search_gt',\n",
       " 'hidden_0_search_rerank',\n",
       " 'hidden_2_search_gt',\n",
       " 'hidden_2_search_rerank',\n",
       " 'hidden_4_search_gt',\n",
       " 'hidden_4_search_rerank',\n",
       " 'hidden_8_search_gt',\n",
       " 'hidden_8_search_rerank',\n",
       " 'hidden_16_search_gt',\n",
       " 'hidden_16_search_rerank',\n",
       " 'hidden_32_search_gt',\n",
       " 'hidden_32_search_rerank',\n",
       " 'hidden_64_search_gt',\n",
       " 'hidden_64_search_rerank',\n",
       " 'relevance_search_gt',\n",
       " 'relevance_search_hidden_2',\n",
       " 'relevance_search_hidden_4',\n",
       " 'relevance_search_hidden_8',\n",
       " 'relevance_search_hidden_16',\n",
       " 'relevance_search_hidden_32',\n",
       " 'relevance_search_hidden_64',\n",
       " 'hidden_48_search_gt',\n",
       " 'hidden_48_search_rerank',\n",
       " 'relevance_search_hidden_48']"
      ]
     },
     "execution_count": 72,
     "metadata": {},
     "output_type": "execute_result"
    }
   ],
   "source": [
    "list(results.keys())"
   ]
  },
  {
   "cell_type": "code",
   "execution_count": 89,
   "metadata": {
    "scrolled": false
   },
   "outputs": [
    {
     "data": {
      "image/png": "[encoded data removed]",
      "text/plain": [
       "<Figure size 720x720 with 1 Axes>"
      ]
     },
     "metadata": {
      "needs_background": "light"
     },
     "output_type": "display_data"
    }
   ],
   "source": [
    "plot_chosen_results(\n",
    "    results, keys=[\n",
    "        \"relevance_search_gt\",\n",
    "#         \"hidden_64_search_rerank\",\n",
    "#         \"hidden_8_search_gt\",\n",
    "#         \"relevance_search_hidden_64\",\n",
    "        \n",
    "        \"hidden_0_search_gt\",\n",
    "#         \"hidden_2_search_gt\",\n",
    "#         \"hidden_4_search_gt\",\n",
    "#         \"hidden_8_search_gt\",\n",
    "#         \"hidden_16_search_gt\",\n",
    "#         \"hidden_32_search_gt\",\n",
    "#         \"hidden_48_search_gt\",\n",
    "#         \"hidden_64_search_gt\",\n",
    "\n",
    "#         \"hidden_0_search_rerank\",\n",
    "#         \"hidden_2_search_rerank\",\n",
    "#         \"hidden_4_search_rerank\",\n",
    "#         \"hidden_8_search_rerank\",\n",
    "#         \"hidden_16_search_rerank\",\n",
    "#         \"hidden_32_search_rerank\",\n",
    "#         \"hidden_48_search_rerank\",\n",
    "#         \"hidden_64_search_rerank\",\n",
    "\n",
    "#         \"relevance_search_hidden_2\",\n",
    "#         \"relevance_search_hidden_4\",\n",
    "#         \"relevance_search_hidden_8\",\n",
    "#         \"relevance_search_hidden_16\",\n",
    "#         \"relevance_search_hidden_32\",\n",
    "#         \"relevance_search_hidden_48\",\n",
    "#         \"relevance_search_hidden_64\",\n",
    "    ],\n",
    "    xlim=(1, 10000),\n",
    "    x_log_scale=True\n",
    ")"
   ]
  },
  {
   "cell_type": "code",
   "execution_count": null,
   "metadata": {},
   "outputs": [],
   "source": [
    "raise StopIteration"
   ]
  },
  {
   "cell_type": "code",
   "execution_count": 84,
   "metadata": {},
   "outputs": [],
   "source": [
    "import pandas as pd\n",
    "from collections import OrderedDict\n",
    "from time import time\n",
    "\n",
    "QUANTILES = [0.9, 0.99, 0.999, 1]\n",
    "\n",
    "def estimate_disorder(items, scores, gt_top=100, queries_to_sample=100, verbose=False):\n",
    "    item_count, query_count = scores.shape\n",
    "    chosen_queries = np.random.choice(query_count, queries_to_sample, replace=False)\n",
    "    gt = np.argsort(-scores[:,chosen_queries], axis=0)[:gt_top].T\n",
    "    \n",
    "    multipliers = []\n",
    "    start = time()\n",
    "    for i, q in enumerate(chosen_queries):\n",
    "        close_items = items[gt[i]]\n",
    "        ii_dists = pairwise_distances(close_items, items)\n",
    "        ii_ranks = ii_dists.argsort().argsort()\n",
    "        for rank_1 in range(1, gt_top):\n",
    "            for rank_2 in range(0, rank_1):\n",
    "                ii_rank = ii_ranks[rank_1][gt[i, rank_2]]\n",
    "                multipliers.append(ii_rank / (2 + rank_1 + rank_2))\n",
    "        if verbose:\n",
    "            print(\"{} queries processed, avg time: {}\".format(\n",
    "                i + 1, (time() - start) / (i + 1)\n",
    "            ))\n",
    "    return np.quantile(multipliers, QUANTILES)\n",
    "\n",
    "def make_table(disoreder_stats : OrderedDict):\n",
    "    columns = [str(q) for q in QUANTILES]\n",
    "    labels = []\n",
    "    data = []\n",
    "    for key, stats in disoreder_stats.items():\n",
    "        assert len(stats) == len(QUANTILES)\n",
    "        data.append(stats)\n",
    "        labels.append(key)\n",
    "    result = pd.DataFrame(data=data, columns=columns, index=labels)\n",
    "    return result.style.format(\"{:.1f}\")\n"
   ]
  },
  {
   "cell_type": "code",
   "execution_count": 88,
   "metadata": {},
   "outputs": [
    {
     "data": {
      "text/html": [
       "<style  type=\"text/css\" >\n",
       "</style><table id=\"T_38eec91a_a6fc_11eb_b02d_738503507dfd\" ><thead>    <tr>        <th class=\"blank level0\" ></th>        <th class=\"col_heading level0 col0\" >0.9</th>        <th class=\"col_heading level0 col1\" >0.99</th>        <th class=\"col_heading level0 col2\" >0.999</th>        <th class=\"col_heading level0 col3\" >1</th>    </tr></thead><tbody>\n",
       "                <tr>\n",
       "                        <th id=\"T_38eec91a_a6fc_11eb_b02d_738503507dfdlevel0_row0\" class=\"row_heading level0 row0\" >relevance_proximity</th>\n",
       "                        <td id=\"T_38eec91a_a6fc_11eb_b02d_738503507dfdrow0_col0\" class=\"data row0 col0\" >3680.4</td>\n",
       "                        <td id=\"T_38eec91a_a6fc_11eb_b02d_738503507dfdrow0_col1\" class=\"data row0 col1\" >11413.9</td>\n",
       "                        <td id=\"T_38eec91a_a6fc_11eb_b02d_738503507dfdrow0_col2\" class=\"data row0 col2\" >30015.6</td>\n",
       "                        <td id=\"T_38eec91a_a6fc_11eb_b02d_738503507dfdrow0_col3\" class=\"data row0 col3\" >263863.3</td>\n",
       "            </tr>\n",
       "            <tr>\n",
       "                        <th id=\"T_38eec91a_a6fc_11eb_b02d_738503507dfdlevel0_row1\" class=\"row_heading level0 row1\" >hidden_0</th>\n",
       "                        <td id=\"T_38eec91a_a6fc_11eb_b02d_738503507dfdrow1_col0\" class=\"data row1 col0\" >4315.3</td>\n",
       "                        <td id=\"T_38eec91a_a6fc_11eb_b02d_738503507dfdrow1_col1\" class=\"data row1 col1\" >12645.2</td>\n",
       "                        <td id=\"T_38eec91a_a6fc_11eb_b02d_738503507dfdrow1_col2\" class=\"data row1 col2\" >32115.9</td>\n",
       "                        <td id=\"T_38eec91a_a6fc_11eb_b02d_738503507dfdrow1_col3\" class=\"data row1 col3\" >260339.0</td>\n",
       "            </tr>\n",
       "            <tr>\n",
       "                        <th id=\"T_38eec91a_a6fc_11eb_b02d_738503507dfdlevel0_row2\" class=\"row_heading level0 row2\" >hidden_2</th>\n",
       "                        <td id=\"T_38eec91a_a6fc_11eb_b02d_738503507dfdrow2_col0\" class=\"data row2 col0\" >4489.2</td>\n",
       "                        <td id=\"T_38eec91a_a6fc_11eb_b02d_738503507dfdrow2_col1\" class=\"data row2 col1\" >12863.0</td>\n",
       "                        <td id=\"T_38eec91a_a6fc_11eb_b02d_738503507dfdrow2_col2\" class=\"data row2 col2\" >32563.7</td>\n",
       "                        <td id=\"T_38eec91a_a6fc_11eb_b02d_738503507dfdrow2_col3\" class=\"data row2 col3\" >238095.7</td>\n",
       "            </tr>\n",
       "            <tr>\n",
       "                        <th id=\"T_38eec91a_a6fc_11eb_b02d_738503507dfdlevel0_row3\" class=\"row_heading level0 row3\" >hidden_4</th>\n",
       "                        <td id=\"T_38eec91a_a6fc_11eb_b02d_738503507dfdrow3_col0\" class=\"data row3 col0\" >4232.1</td>\n",
       "                        <td id=\"T_38eec91a_a6fc_11eb_b02d_738503507dfdrow3_col1\" class=\"data row3 col1\" >12477.9</td>\n",
       "                        <td id=\"T_38eec91a_a6fc_11eb_b02d_738503507dfdrow3_col2\" class=\"data row3 col2\" >32101.8</td>\n",
       "                        <td id=\"T_38eec91a_a6fc_11eb_b02d_738503507dfdrow3_col3\" class=\"data row3 col3\" >228871.7</td>\n",
       "            </tr>\n",
       "            <tr>\n",
       "                        <th id=\"T_38eec91a_a6fc_11eb_b02d_738503507dfdlevel0_row4\" class=\"row_heading level0 row4\" >hidden_8</th>\n",
       "                        <td id=\"T_38eec91a_a6fc_11eb_b02d_738503507dfdrow4_col0\" class=\"data row4 col0\" >4191.4</td>\n",
       "                        <td id=\"T_38eec91a_a6fc_11eb_b02d_738503507dfdrow4_col1\" class=\"data row4 col1\" >12237.2</td>\n",
       "                        <td id=\"T_38eec91a_a6fc_11eb_b02d_738503507dfdrow4_col2\" class=\"data row4 col2\" >30420.5</td>\n",
       "                        <td id=\"T_38eec91a_a6fc_11eb_b02d_738503507dfdrow4_col3\" class=\"data row4 col3\" >323932.0</td>\n",
       "            </tr>\n",
       "            <tr>\n",
       "                        <th id=\"T_38eec91a_a6fc_11eb_b02d_738503507dfdlevel0_row5\" class=\"row_heading level0 row5\" >hidden_16</th>\n",
       "                        <td id=\"T_38eec91a_a6fc_11eb_b02d_738503507dfdrow5_col0\" class=\"data row5 col0\" >4574.7</td>\n",
       "                        <td id=\"T_38eec91a_a6fc_11eb_b02d_738503507dfdrow5_col1\" class=\"data row5 col1\" >13253.4</td>\n",
       "                        <td id=\"T_38eec91a_a6fc_11eb_b02d_738503507dfdrow5_col2\" class=\"data row5 col2\" >33157.9</td>\n",
       "                        <td id=\"T_38eec91a_a6fc_11eb_b02d_738503507dfdrow5_col3\" class=\"data row5 col3\" >181566.2</td>\n",
       "            </tr>\n",
       "            <tr>\n",
       "                        <th id=\"T_38eec91a_a6fc_11eb_b02d_738503507dfdlevel0_row6\" class=\"row_heading level0 row6\" >hidden_32</th>\n",
       "                        <td id=\"T_38eec91a_a6fc_11eb_b02d_738503507dfdrow6_col0\" class=\"data row6 col0\" >4844.2</td>\n",
       "                        <td id=\"T_38eec91a_a6fc_11eb_b02d_738503507dfdrow6_col1\" class=\"data row6 col1\" >13929.1</td>\n",
       "                        <td id=\"T_38eec91a_a6fc_11eb_b02d_738503507dfdrow6_col2\" class=\"data row6 col2\" >34970.9</td>\n",
       "                        <td id=\"T_38eec91a_a6fc_11eb_b02d_738503507dfdrow6_col3\" class=\"data row6 col3\" >201888.0</td>\n",
       "            </tr>\n",
       "            <tr>\n",
       "                        <th id=\"T_38eec91a_a6fc_11eb_b02d_738503507dfdlevel0_row7\" class=\"row_heading level0 row7\" >hidden_48</th>\n",
       "                        <td id=\"T_38eec91a_a6fc_11eb_b02d_738503507dfdrow7_col0\" class=\"data row7 col0\" >5767.1</td>\n",
       "                        <td id=\"T_38eec91a_a6fc_11eb_b02d_738503507dfdrow7_col1\" class=\"data row7 col1\" >16524.5</td>\n",
       "                        <td id=\"T_38eec91a_a6fc_11eb_b02d_738503507dfdrow7_col2\" class=\"data row7 col2\" >42913.8</td>\n",
       "                        <td id=\"T_38eec91a_a6fc_11eb_b02d_738503507dfdrow7_col3\" class=\"data row7 col3\" >248723.7</td>\n",
       "            </tr>\n",
       "            <tr>\n",
       "                        <th id=\"T_38eec91a_a6fc_11eb_b02d_738503507dfdlevel0_row8\" class=\"row_heading level0 row8\" >hidden_64</th>\n",
       "                        <td id=\"T_38eec91a_a6fc_11eb_b02d_738503507dfdrow8_col0\" class=\"data row8 col0\" >6725.9</td>\n",
       "                        <td id=\"T_38eec91a_a6fc_11eb_b02d_738503507dfdrow8_col1\" class=\"data row8 col1\" >19265.4</td>\n",
       "                        <td id=\"T_38eec91a_a6fc_11eb_b02d_738503507dfdrow8_col2\" class=\"data row8 col2\" >48806.8</td>\n",
       "                        <td id=\"T_38eec91a_a6fc_11eb_b02d_738503507dfdrow8_col3\" class=\"data row8 col3\" >280771.0</td>\n",
       "            </tr>\n",
       "    </tbody></table>"
      ],
      "text/plain": [
       "<pandas.io.formats.style.Styler at 0x7f37ca73eaf0>"
      ]
     },
     "execution_count": 88,
     "metadata": {},
     "output_type": "execute_result"
    }
   ],
   "source": [
    "disorder_stats_path = \"data/{}/data/disorder_statistics.json\".format(DATASET)\n",
    "\n",
    "if not os.path.isfile(disorder_stats_path) or REGENERATE_DATA:\n",
    "    disorder_stats = OrderedDict()\n",
    "    item_features = np.fromfile(\n",
    "        \"data/{}/data/model_scores/gt_train_scores.bin\".format(DATASET),\n",
    "        dtype=\"float32\"\n",
    "    ).reshape(ITEM_COUNT, QUERY_COUNT)\n",
    "    relevance_scores = np.fromfile(\n",
    "        \"data/{}/data/model_scores/gt_test_scores.bin\".format(DATASET),\n",
    "        dtype=\"float32\"\n",
    "    ).reshape(ITEM_COUNT, QUERY_COUNT)\n",
    "\n",
    "    disorder_stats[\"relevance_proximity\"] = estimate_disorder(\n",
    "        item_features, relevance_scores,\n",
    "        queries_to_sample=100\n",
    "    )\n",
    "    del item_features\n",
    "\n",
    "    for hidden_dim_count in HIDDEN_DIMENSIONS:\n",
    "        open_dims = DIMENSION - hidden_dim_count\n",
    "        disorder_stats[\"hidden_{}\".format(hidden_dim_count)] = estimate_disorder(\n",
    "            items[:,:open_dims], relevance_scores\n",
    "        )\n",
    "    del relevance_scores\n",
    "    \n",
    "    for k in disorder_stats:\n",
    "        disorder_stats[k] = [float(num) for num in disorder_stats[k]]\n",
    "    with open(disorder_stats_path, \"w\") as fout:\n",
    "        json.dump(disorder_stats, fout, indent=4)\n",
    "else:\n",
    "    with open(disorder_stats_path) as fin:\n",
    "        disorder_stats = json.load(fin)\n",
    "\n",
    "make_table(disorder_stats)"
   ]
  },
  {
   "cell_type": "code",
   "execution_count": null,
   "metadata": {},
   "outputs": [],
   "source": [
    "r1[\"recall\"] == r2[\"recall\"]"
   ]
  },
  {
   "cell_type": "code",
   "execution_count": null,
   "metadata": {},
   "outputs": [],
   "source": [
    "diff = [a - b for a, b in zip(r1[\"recall\"], r2[\"recall\"])]"
   ]
  },
  {
   "cell_type": "code",
   "execution_count": null,
   "metadata": {},
   "outputs": [],
   "source": [
    "plt.plot(diff)"
   ]
  },
  {
   "cell_type": "code",
   "execution_count": null,
   "metadata": {},
   "outputs": [],
   "source": []
  },
  {
   "cell_type": "code",
   "execution_count": null,
   "metadata": {},
   "outputs": [],
   "source": [
    "a = np.fromfile(\"data/deep1M/data/model_scores/gt_train_scores.bin\", dtype=\"float32\")"
   ]
  },
  {
   "cell_type": "code",
   "execution_count": null,
   "metadata": {},
   "outputs": [],
   "source": [
    "np.quantile(a, [1, 0.999999, 0.99999, 0.9999, 0.999, 0.5, 0])"
   ]
  },
  {
   "cell_type": "code",
   "execution_count": null,
   "metadata": {},
   "outputs": [],
   "source": [
    "for key in results.keys():\n",
    "    for subkey in results[key].keys():\n",
    "        for i in range(len(results[key][subkey])):\n",
    "            if isinstance(results[key][subkey][i], np.int64):\n",
    "                results[key][subkey][i] = int(results[key][subkey][i])\n",
    "\n",
    "                "
   ]
  },
  {
   "cell_type": "code",
   "execution_count": null,
   "metadata": {},
   "outputs": [],
   "source": [
    "type(results[\"hidden_32_search_gt\"][\"efSearch\"][0])"
   ]
  },
  {
   "cell_type": "code",
   "execution_count": null,
   "metadata": {},
   "outputs": [],
   "source": []
  }
 ],
 "metadata": {
  "kernelspec": {
   "display_name": "Python 3",
   "language": "python",
   "name": "python3"
  },
  "language_info": {
   "codemirror_mode": {
    "name": "ipython",
    "version": 3
   },
   "file_extension": ".py",
   "mimetype": "text/x-python",
   "name": "python",
   "nbconvert_exporter": "python",
   "pygments_lexer": "ipython3",
   "version": "3.8.5"
  }
 },
 "nbformat": 4,
 "nbformat_minor": 4
}
