{
 "cells": [
  {
   "cell_type": "code",
   "execution_count": 15,
   "metadata": {},
   "outputs": [],
   "source": [
    "import os\n",
    "\n",
    "from matplotlib import pyplot as plt"
   ]
  },
  {
   "cell_type": "code",
   "execution_count": 19,
   "metadata": {},
   "outputs": [],
   "source": [
    "l1_graph = \"data/collections/l1_graph.out\"\n",
    "l2_graph = \"data/collections/l2_graph.out\"\n",
    "\n",
    "cmd_template = (\n",
    "    \"./RPG --mode query --baseSize 1000000 --querySize 1000\"\n",
    "    \" --query data/collections/data/model_scores/scores_test.bin --inputGraph {inputGraph}\"\n",
    "    \" --efSearch {efSearch} --topK 5 --output data/collections/result.txt --gtQueries 1000 --gtTop 100 \"\n",
    "    \"--groundtruth data/collections/data/model_scores/groundtruth.bin\"\n",
    ")\n",
    "\n",
    "def measure_performance(graph, ef_ticks):\n",
    "    relevances = []\n",
    "    recalls = []\n",
    "    times = []\n",
    "    model_evals = []\n",
    "    for ef in ef_ticks:\n",
    "        cmd = cmd_template.format(inputGraph=graph, efSearch=ef)\n",
    "        with os.popen(cmd) as out:\n",
    "            for line in out:\n",
    "                for arr, prefix, suff_len in [\n",
    "                    (relevances, \"Average relevance: \", 1),\n",
    "                    (recalls, \"Recall@5: \", 1),\n",
    "                    (times, \"Average query time: \", 3),\n",
    "                    (model_evals, \"Average number of model computations: \", 1)\n",
    "                ]:\n",
    "                    if line.startswith(prefix):\n",
    "                        arr.append(float(line[len(prefix):-suff_len]))\n",
    "    return {\n",
    "        \"rel\": relevances,\n",
    "        \"recall\": recalls,\n",
    "        \"time\": times,\n",
    "        \"evals\": model_evals\n",
    "    }\n"
   ]
  },
  {
   "cell_type": "code",
   "execution_count": 22,
   "metadata": {},
   "outputs": [],
   "source": [
    "ef_ticks = [5, 10, 20, 30, 40, 50, 60, 70, 80, 90, 100, 200, 300, 400, 500]\n",
    "l1_results = measure_performance(l1_graph, ef_ticks)\n",
    "l2_results = measure_performance(l2_graph, ef_ticks)\n"
   ]
  },
  {
   "cell_type": "code",
   "execution_count": 24,
   "metadata": {},
   "outputs": [
    {
     "data": {
      "image/png": "[encoded data removed]",
      "text/plain": [
       "<Figure size 432x288 with 1 Axes>"
      ]
     },
     "metadata": {
      "needs_background": "light"
     },
     "output_type": "display_data"
    }
   ],
   "source": [
    "plt.plot(l1_results[\"evals\"], l1_results[\"recall\"], label=\"l1\")\n",
    "plt.plot(l2_results[\"evals\"], l2_results[\"recall\"], label=\"l2\")\n",
    "plt.legend()\n",
    "plt.show()"
   ]
  },
  {
   "cell_type": "code",
   "execution_count": null,
   "metadata": {},
   "outputs": [],
   "source": []
  }
 ],
 "metadata": {
  "kernelspec": {
   "display_name": "Python 3",
   "language": "python",
   "name": "python3"
  },
  "language_info": {
   "codemirror_mode": {
    "name": "ipython",
    "version": 3
   },
   "file_extension": ".py",
   "mimetype": "text/x-python",
   "name": "python",
   "nbconvert_exporter": "python",
   "pygments_lexer": "ipython3",
   "version": "3.8.5"
  }
 },
 "nbformat": 4,
 "nbformat_minor": 4
}
