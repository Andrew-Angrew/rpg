{
 "cells": [
  {
   "cell_type": "code",
   "execution_count": 14,
   "metadata": {},
   "outputs": [],
   "source": [
    "import os\n",
    "from multiprocessing import Pool\n",
    "from itertools import product\n",
    "import json\n",
    "\n",
    "\n",
    "import numpy as np\n",
    "from matplotlib import pyplot as plt"
   ]
  },
  {
   "cell_type": "code",
   "execution_count": 15,
   "metadata": {},
   "outputs": [],
   "source": [
    "# Consts\n",
    "\n",
    "ITEM_FEATURES = {\n",
    "    \"score\": \"model_scores/scores_train.bin\",\n",
    "    \"rank\": \"item_train_ranks.bin\",\n",
    "    \"log_rank\": \"item_train_log_ranks.bin\"\n",
    "}\n",
    "\n",
    "build_cmd_template = (\n",
    "    \"./RPG --mode base --baseSize 1000000 --trainQueries 1000 \"\n",
    "    \"--base data/{dataset}/data/{itemFeatures} \"\n",
    "    \"--outputGraph {graphPath} \"\n",
    "    \"--relevanceVector {relevanceVector} --efConstruction {efConstruction} --M 8 \"\n",
    "    \"--itemRanks data/{dataset}/data/item_train_ranks.bin \"\n",
    "    \"--ranksToDist data/{dataset}/data/rankToDist.bin \"\n",
    "    \"--metric {metricType}\"\n",
    ")\n",
    "\n",
    "search_cmd_template = (\n",
    "    \"./RPG --mode query --baseSize 1000000 --querySize 1000\"\n",
    "    \" --query data/{dataset}/data/model_scores/scores_{datasetPart}.bin --inputGraph {inputGraph}\"\n",
    "    \" --efSearch {efSearch} --topK 5 --output data/{dataset}/result.txt --gtQueries 1000 --gtTop 100 \"\n",
    "    \"--groundtruth data/{dataset}/data/model_scores/{groundtruth}.bin\"\n",
    ")"
   ]
  },
  {
   "cell_type": "code",
   "execution_count": 16,
   "metadata": {},
   "outputs": [],
   "source": [
    "# exp config\n",
    "\n",
    "# METRIC_PARAMS = list(product([\"l1\", \"l2\"], [\"score\", \"rank\", \"log_rank\"])) + [(\"min_sum\", \"rank\")]\n",
    "# METRIC_PARAMS = [(\"min_sum\", \"rank\")]\n",
    "METRIC_PARAMS = [\n",
    "#     (\"top_sum --sumOrd 0\", \"rank\"),\n",
    "#     (\"top_sum --sumOrd 1\", \"rank\"),\n",
    "#     (\"top_sum --sumOrd 2\", \"rank\"),\n",
    "#     (\"top_sum --sumOrd 5\", \"rank\"),\n",
    "#     (\"top_sum --sumOrd 10\", \"rank\"),\n",
    "#     (\"top_sum --sumOrd 20\", \"rank\"),\n",
    "#     (\"top_sum --sumOrd 50\", \"rank\"),\n",
    "#     (\"top_sum --sumOrd 100\", \"rank\"),\n",
    "#     (\"top_sum --sumOrd 200\", \"rank\"),\n",
    "#     (\"min_sum\", \"rank\"),\n",
    "    (\"l2\", \"score\"),\n",
    "#     (\"l2\", \"rank\"),\n",
    "#     (\"l2\", \"log_rank\"),\n",
    "#     (\"hybrid --D 100\", \"score\"),\n",
    "#     (\"hybrid --D 50\", \"score\"),\n",
    "#     (\"hybrid --D 20\", \"score\"),\n",
    "#     (\"hybrid --D 10\", \"score\"),\n",
    "#     (\"hybrid --D 5\", \"score\"),\n",
    "#     (\"l1\", \"score\"),\n",
    "#     (\"l1\", \"rank\"),\n",
    "#     (\"l1\", \"log_rank\")\n",
    "]\n",
    "\n",
    "dataset = \"collections\"\n",
    "dataset_part = \"test\"\n",
    "efConstruction = 1000\n",
    "relevanceVector = 1000 # length of relevance vector\n",
    "efSearchTicks = list(np.exp(np.linspace(np.log(10), np.log(10000), 16)).astype(\"int\"))\n",
    "n_search_threads = 1\n",
    "\n",
    "assert dataset_part in [\"train\", \"test\"]"
   ]
  },
  {
   "cell_type": "code",
   "execution_count": 17,
   "metadata": {},
   "outputs": [],
   "source": [
    "def bench_cmd(cmd):\n",
    "    res = {}\n",
    "    with os.popen(cmd) as out:\n",
    "        for line in out:\n",
    "            for stat_name, prefix, suff_len in [\n",
    "                (\"relevance\", \"Average relevance: \", 1),\n",
    "                (\"recall\", \"Recall@5: \", 1),\n",
    "                (\"time\", \"Average query time: \", 3),\n",
    "                (\"evals\", \"Average number of model computations: \", 1)\n",
    "            ]:\n",
    "                if line.startswith(prefix):\n",
    "                    res[stat_name] = float(line[len(prefix):-suff_len])\n",
    "    return res\n",
    "\n",
    "def measure_performance(graph, dataset, ef_ticks, n_threads=8):\n",
    "    commands = []\n",
    "    for ef in ef_ticks:\n",
    "        commands.append(search_cmd_template.format(\n",
    "            inputGraph=graph,\n",
    "            dataset=dataset,\n",
    "            efSearch=ef,\n",
    "            datasetPart=dataset_part,\n",
    "            groundtruth=\"groundtruth\" if dataset_part == \"test\" else \"groundtruth_train\"\n",
    "        ))\n",
    "    pool = Pool(processes=n_threads)\n",
    "    results = pool.map(bench_cmd, commands)\n",
    "    output = {\"relevance\": [], \"recall\": [], \"time\": [], \"evals\": []}\n",
    "    for i, res in enumerate(results):\n",
    "        if all(key in res for key in output):\n",
    "            for key in output:\n",
    "                output[key].append(res[key])\n",
    "        else:\n",
    "            print(\"missed result for {} efSearch {}.\".format(graph, ef_ticks[i]))\n",
    "    return output"
   ]
  },
  {
   "cell_type": "code",
   "execution_count": 18,
   "metadata": {},
   "outputs": [],
   "source": [
    "def get_graph_label(metric_type, feature_type):\n",
    "    return metric_type.replace(\" \", \"_\").replace(\"-\", \"\") + \"_\" + feature_type"
   ]
  },
  {
   "cell_type": "code",
   "execution_count": 19,
   "metadata": {},
   "outputs": [],
   "source": [
    "# build graphs\n",
    "for metric_type, feature_type in METRIC_PARAMS:\n",
    "    # build graph\n",
    "    graph_path = \"data/{}/{}_graph_rel{}ef{}.out\".format(\n",
    "        dataset, get_graph_label(metric_type, feature_type),\n",
    "        relevanceVector, efConstruction\n",
    "    )\n",
    "    if not os.path.isfile(graph_path):\n",
    "        build_cmd = build_cmd_template.format(\n",
    "            graphPath=graph_path,\n",
    "            dataset=dataset,\n",
    "            itemFeatures=ITEM_FEATURES[feature_type],\n",
    "            efConstruction=efConstruction,\n",
    "            relevanceVector=relevanceVector,\n",
    "            metricType=metric_type\n",
    "        )\n",
    "        print(build_cmd)\n",
    "        os.system(build_cmd)\n",
    "        print(\"Graph for {} metric and {} features is built\".format(metric_type, feature_type))\n",
    "        print()"
   ]
  },
  {
   "cell_type": "code",
   "execution_count": 20,
   "metadata": {},
   "outputs": [],
   "source": [
    "exp_id = \"rel{}ef{}_{}\".format(relevanceVector, efConstruction, dataset_part)\n",
    "result_path = \"data/{}/data/results/{}.json\".format(dataset, exp_id)\n",
    "if os.path.isfile(result_path):\n",
    "    with open(result_path) as fin:\n",
    "        results = json.load(fin)\n",
    "else:\n",
    "    results = {}"
   ]
  },
  {
   "cell_type": "code",
   "execution_count": 21,
   "metadata": {},
   "outputs": [],
   "source": [
    "for metric_type, feature_type in METRIC_PARAMS:\n",
    "    graph_label = get_graph_label(metric_type, feature_type)\n",
    "    graph_path = \"data/{}/{}_graph_rel{}ef{}.out\".format(\n",
    "        dataset, graph_label,\n",
    "        relevanceVector, efConstruction\n",
    "    )\n",
    "    if (\n",
    "        graph_label not in results or\n",
    "        len(results[graph_label][\"recall\"]) < len(efSearchTicks)\n",
    "    ):\n",
    "        results[graph_label] = measure_performance(graph_path, dataset, efSearchTicks, n_threads=n_search_threads)"
   ]
  },
  {
   "cell_type": "code",
   "execution_count": 22,
   "metadata": {},
   "outputs": [],
   "source": [
    "def read_txt(file_name):\n",
    "    data = []\n",
    "    with open(file_name) as fin:\n",
    "        for line in fin:\n",
    "            data.append([int(w) for w in line.split()])\n",
    "    return data\n",
    "\n",
    "def calc_eval_recall_curve(approximate_top, gt_top):\n",
    "    query_count = 1000\n",
    "    recall_top_len = 5\n",
    "    assert gt_top.shape == (query_count, recall_top_len)\n",
    "    assert len(approximate_top) == query_count\n",
    "    \n",
    "    gt_tops = [set(query_top) for query_top in gt_top]\n",
    "    recalls = []\n",
    "    found_count = 0\n",
    "    top_len = max(len(l) for l in approximate_top)\n",
    "    for i in range(top_len):\n",
    "        for query_id in range(query_count):\n",
    "            if (\n",
    "                i < len(approximate_top[query_id]) and\n",
    "                approximate_top[query_id][i] in gt_tops[query_id]\n",
    "            ):\n",
    "                found_count += 1\n",
    "        recalls.append(found_count / (query_count * recall_top_len))\n",
    "    evals = list(range(1, top_len + 1))\n",
    "    return {\"evals\": evals, \"recall\": recalls}\n",
    "\n",
    "def eval_two_tower(graph_path, scores_file, gt_file, gt_top_len):\n",
    "    _, graph_name = os.path.split(graph_path)\n",
    "    graph_name, _ = os.path.splitext(graph_name)\n",
    "    result_path = \"data/{}/{}_result_{}.txt\".format(dataset, graph_name, gt_top_len)\n",
    "    search_cmd = (\n",
    "        \"./RPG --mode query --baseSize 1000000 --querySize 1000 \"\n",
    "        \"--query data/{dataset}/data/model_scores/{scoresFile} --inputGraph {inputGraph} \"\n",
    "        \"--efSearch {gtTop} --topK {gtTop} --output {resultPath} \"\n",
    "        \"--gtQueries 1000 --gtTop {gtTop} \"\n",
    "        \"--groundtruth data/{dataset}/data/model_scores/{gtFile}\"\n",
    "    ).format(\n",
    "        dataset=dataset, scoresFile=scores_file, inputGraph=graph_path,\n",
    "        gtTop=gt_top_len, resultPath=result_path, gtFile=gt_file\n",
    "    )\n",
    "    print(search_cmd)\n",
    "    os.system(search_cmd)\n",
    "\n",
    "    approximate_top = read_txt(result_path)\n",
    "    gt = np.fromfile(\n",
    "        \"data/{}/data/model_scores/{}\".format(dataset, gt_file),\n",
    "        dtype=\"int32\"\n",
    "    ).reshape((1000, gt_top_len))\n",
    "    gt = gt[:,:5]\n",
    "    return calc_eval_recall_curve(approximate_top, gt)\n",
    "\n",
    "    "
   ]
  },
  {
   "cell_type": "code",
   "execution_count": 29,
   "metadata": {},
   "outputs": [
    {
     "name": "stdout",
     "output_type": "stream",
     "text": [
      "./RPG --mode query --baseSize 1000000 --querySize 1000 --query data/collections/data/model_scores/embedding_scores_test.bin --inputGraph data/collections/embed_l2_graph.out --efSearch 10000 --topK 10000 --output data/collections/embed_l2_graph_result_10000.txt --gtQueries 1000 --gtTop 10000 --groundtruth data/collections/data/model_scores/groundtruth_test_10000.bin\n"
     ]
    }
   ],
   "source": [
    "# build graph on embeddings\n",
    "for metric in [\"l2\"]:\n",
    "    embed_graph_path = \"data/{}/embed_{}_graph.out\".format(dataset, metric)\n",
    "    if not os.path.isfile(embed_graph_path):\n",
    "        build_embed_graph_cmd = (\n",
    "            \"./RPG --mode base --baseSize 1000000 --trainQueries 50 \"\n",
    "            \"--base data/{dataset}/data/item_embeddings.bin \"\n",
    "            \"--outputGraph {graphPath} \"\n",
    "            \"--relevanceVector 50 --efConstruction 1000 --M 8 \"\n",
    "            \"--metric {metric}\"\n",
    "        ).format(dataset=dataset, graphPath=embed_graph_path, metric=metric)\n",
    "        print(build_embed_graph_cmd)\n",
    "        os.system(build_embed_graph_cmd)\n",
    "    \n",
    "    label = \"embed_{}_rerank\".format(metric)\n",
    "    results[label] = eval_two_tower(\n",
    "        embed_graph_path,\n",
    "        \"embedding_scores_test.bin\",\n",
    "        \"groundtruth_test_10000.bin\",\n",
    "        10000\n",
    "    )\n",
    "        \n",
    "    label = \"embed_{}_search_cb\".format(metric)\n",
    "    results[label] = measure_performance(embed_graph_path, dataset, efSearchTicks, n_threads=n_search_threads)\n"
   ]
  },
  {
   "cell_type": "code",
   "execution_count": 30,
   "metadata": {
    "scrolled": true
   },
   "outputs": [
    {
     "name": "stdout",
     "output_type": "stream",
     "text": [
      "./RPG --mode query --baseSize 1000000 --querySize 1000 --query data/collections/data/model_scores/embedding_scores_test.bin --inputGraph data/collections/l2_score_graph_rel1000ef1000.out --efSearch 10000 --topK 10000 --output data/collections/l2_score_graph_rel1000ef1000_result_10000.txt --gtQueries 1000 --gtTop 10000 --groundtruth data/collections/data/model_scores/groundtruth_test_10000.bin\n"
     ]
    }
   ],
   "source": [
    "l2_score_graph_path = \"data/collections/l2_score_graph_rel1000ef1000.out\"\n",
    "label = \"l2_score_search_embed\"\n",
    "results[label] = eval_two_tower(\n",
    "    l2_score_graph_path,\n",
    "    \"embedding_scores_test.bin\",\n",
    "    \"groundtruth_test_10000.bin\",\n",
    "    10000\n",
    ")\n"
   ]
  },
  {
   "cell_type": "code",
   "execution_count": 23,
   "metadata": {},
   "outputs": [
    {
     "name": "stdout",
     "output_type": "stream",
     "text": [
      "./RPG --mode query --baseSize 1000000 --querySize 1000 --query data/collections/data/model_scores/pca_32_scores_test.bin --inputGraph data/collections/pca_32.hnsw --efSearch 10000 --topK 10000 --output data/collections/pca_32_result_10000.txt --gtQueries 1000 --gtTop 10000 --groundtruth data/collections/data/model_scores/groundtruth_test_10000.bin\n"
     ]
    }
   ],
   "source": [
    "# build graph on pca embeddings\n",
    "\n",
    "n_components = 32\n",
    "pca_graph_path = \"data/{}/pca_{}.hnsw\".format(dataset, n_components)\n",
    "if not os.path.isfile(pca_graph_path):\n",
    "    build_pca_graph_cmd = (\n",
    "        \"./RPG --mode base --baseSize 1000000 --trainQueries {n_components} \"\n",
    "        \"--base data/{dataset}/data/pca_{n_components}_item_embeds.bin \"\n",
    "        \"--outputGraph {graphPath} \"\n",
    "        \"--relevanceVector {n_components} --efConstruction 1000 --M 8 \"\n",
    "        \"--metric l2\"\n",
    "    ).format(dataset=dataset, graphPath=pca_graph_path, n_components=n_components)\n",
    "    print(build_pca_graph_cmd)\n",
    "    os.system(build_pca_graph_cmd)\n",
    "\n",
    "label = \"pca_{}_rerank\".format(n_components)\n",
    "results[label] = eval_two_tower(\n",
    "    pca_graph_path,\n",
    "    \"pca_{}_scores_test.bin\".format(n_components),\n",
    "    \"groundtruth_test_10000.bin\",\n",
    "    10000\n",
    ")\n",
    "\n",
    "label = \"pca_{}_search_cb\".format(n_components)\n",
    "results[label] = measure_performance(pca_graph_path, dataset, efSearchTicks, n_threads=n_search_threads)\n"
   ]
  },
  {
   "cell_type": "code",
   "execution_count": null,
   "metadata": {},
   "outputs": [],
   "source": []
  },
  {
   "cell_type": "code",
   "execution_count": null,
   "metadata": {},
   "outputs": [],
   "source": [
    "with open(result_path, \"w\") as fout:\n",
    "    json.dump(results, fout, indent=4)"
   ]
  },
  {
   "cell_type": "code",
   "execution_count": null,
   "metadata": {},
   "outputs": [],
   "source": []
  },
  {
   "cell_type": "code",
   "execution_count": 8,
   "metadata": {},
   "outputs": [],
   "source": [
    "def plot_chosen_results(results, keys, xlim=None, ylim=None, x_log_scale=False):\n",
    "    plt.figure(figsize=(10, 10))\n",
    "    plt.xlabel(\"evals\")\n",
    "    plt.ylabel(\"recall@5\")\n",
    "    if xlim is not None:\n",
    "        plt.xlim(xlim)\n",
    "    if ylim is not None:\n",
    "        plt.ylim(ylim)\n",
    "    if x_log_scale:\n",
    "        plt.xscale(\"log\")\n",
    "    \n",
    "    for key in keys:\n",
    "        assert key in results\n",
    "        r = results[key]\n",
    "        x = r[\"evals\"]\n",
    "        y = r[\"recall\"]\n",
    "        plt.plot(x, y, label=key)\n",
    "        pt_size = 0.1 if len(x) > 100 else 10\n",
    "        plt.scatter(x, y, s=pt_size)\n",
    "    plt.legend()\n",
    "    plt.show()"
   ]
  },
  {
   "cell_type": "code",
   "execution_count": 9,
   "metadata": {
    "scrolled": true
   },
   "outputs": [],
   "source": [
    "def plot_results(results, x_data=\"evals\", y_data=\"recall\"):\n",
    "    plt.xlabel(x_data)\n",
    "    plt.ylabel(y_data)\n",
    "#     plt.xlim([1000, 20000])\n",
    "    plt.ylim([0.8, 1])\n",
    "    plt.xscale('log')\n",
    "#     plt.yscale('log')\n",
    "    for metric_type, feature_type in METRIC_PARAMS:\n",
    "        label = get_graph_label(metric_type, feature_type)\n",
    "        stats = results[label]\n",
    "        plt.plot(stats[x_data], stats[y_data], label=label)\n",
    "        plt.scatter(stats[x_data], stats[y_data], s=10)\n",
    "    plt.legend()\n",
    "    plt.show()"
   ]
  },
  {
   "cell_type": "code",
   "execution_count": 10,
   "metadata": {
    "scrolled": false
   },
   "outputs": [
    {
     "data": {
      "image/png": "[encoded data removed]",
      "text/plain": [
       "<Figure size 720x720 with 1 Axes>"
      ]
     },
     "metadata": {
      "needs_background": "light"
     },
     "output_type": "display_data"
    }
   ],
   "source": [
    "plt.figure(figsize=(10, 10))\n",
    "plot_results(results)"
   ]
  },
  {
   "cell_type": "code",
   "execution_count": 33,
   "metadata": {},
   "outputs": [
    {
     "data": {
      "image/png": "[encoded data removed]",
      "text/plain": [
       "<Figure size 720x720 with 1 Axes>"
      ]
     },
     "metadata": {
      "needs_background": "light"
     },
     "output_type": "display_data"
    }
   ],
   "source": [
    "plot_chosen_results(results, [\n",
    "    \"l2_score\",\n",
    "#     \"embed_l2_rerank\",\n",
    "#     \"embed_l2_search_cb\",\n",
    "    \"pca_32_rerank\",\n",
    "    \"pca_32_search_cb\"\n",
    "#     \"l2_score_search_embed\"\n",
    "],\n",
    "    xlim=(100, 10000),\n",
    "    ylim=(0.8, 1),\n",
    "#     x_log_scale=True\n",
    ")"
   ]
  },
  {
   "cell_type": "code",
   "execution_count": 24,
   "metadata": {},
   "outputs": [
    {
     "data": {
      "text/plain": [
       "['top_sum_sumOrd_0_rank',\n",
       " 'top_sum_sumOrd_1_rank',\n",
       " 'top_sum_sumOrd_2_rank',\n",
       " 'top_sum_sumOrd_5_rank',\n",
       " 'l2_score',\n",
       " 'l2_rank',\n",
       " 'l2_log_rank',\n",
       " 'hybrid_D_100_score',\n",
       " 'hybrid_D_50_score',\n",
       " 'hybrid_D_20_score',\n",
       " 'hybrid_D_10_score',\n",
       " 'hybrid_D_5_score',\n",
       " 'embed_l2_rerank',\n",
       " 'embed_l2_search_cb',\n",
       " 'l2_score_search_embed',\n",
       " 'pca_32_rerank',\n",
       " 'pca_32_search_cb']"
      ]
     },
     "execution_count": 24,
     "metadata": {},
     "output_type": "execute_result"
    }
   ],
   "source": [
    "list(results.keys())"
   ]
  },
  {
   "cell_type": "code",
   "execution_count": 45,
   "metadata": {},
   "outputs": [
    {
     "name": "stdout",
     "output_type": "stream",
     "text": [
      "3001      3002      3003      3004      3005      3006      3007      3008      3009      3010      \n",
      "0.5252    0.5252    0.5254    0.5254    0.5256    0.5256    0.5256    0.5256    0.5256    0.5256    \n"
     ]
    }
   ],
   "source": [
    "r = results[\"embed_l2_rerank\"]\n",
    "start, stop = 3000, 3010\n",
    "print(\"\".join(\"{:<10}\".format(e) for e in r[\"evals\"][start: stop]))\n",
    "print(\"\".join(\"{:<10.4}\".format(recall) for recall in r[\"recall\"][start: stop]))"
   ]
  },
  {
   "cell_type": "code",
   "execution_count": 46,
   "metadata": {},
   "outputs": [
    {
     "data": {
      "text/plain": [
       "0.6542"
      ]
     },
     "execution_count": 46,
     "metadata": {},
     "output_type": "execute_result"
    }
   ],
   "source": [
    "r[\"recall\"][-1]"
   ]
  },
  {
   "cell_type": "code",
   "execution_count": 12,
   "metadata": {},
   "outputs": [
    {
     "ename": "StopIteration",
     "evalue": "",
     "output_type": "error",
     "traceback": [
      "\u001b[0;31m---------------------------------------------------------------------------\u001b[0m",
      "\u001b[0;31mStopIteration\u001b[0m                             Traceback (most recent call last)",
      "\u001b[0;32m<ipython-input-12-b7f487b2d22b>\u001b[0m in \u001b[0;36m<module>\u001b[0;34m\u001b[0m\n\u001b[0;32m----> 1\u001b[0;31m \u001b[0;32mraise\u001b[0m \u001b[0mStopIteration\u001b[0m\u001b[0;34m\u001b[0m\u001b[0;34m\u001b[0m\u001b[0m\n\u001b[0m",
      "\u001b[0;31mStopIteration\u001b[0m: "
     ]
    }
   ],
   "source": [
    "raise StopIteration"
   ]
  },
  {
   "cell_type": "code",
   "execution_count": 76,
   "metadata": {},
   "outputs": [],
   "source": [
    "del results[\"embed_dot_product_search_cb\"]"
   ]
  },
  {
   "cell_type": "code",
   "execution_count": 77,
   "metadata": {},
   "outputs": [],
   "source": [
    "with open(result_path, \"w\") as fout:\n",
    "    json.dump(results, fout, indent=4)"
   ]
  },
  {
   "cell_type": "code",
   "execution_count": null,
   "metadata": {},
   "outputs": [],
   "source": [
    "with open(result_path) as fin:\n",
    "    results = json.load(fin)\n",
    "print(results.keys())"
   ]
  },
  {
   "cell_type": "code",
   "execution_count": null,
   "metadata": {},
   "outputs": [],
   "source": []
  }
 ],
 "metadata": {
  "kernelspec": {
   "display_name": "Python 3",
   "language": "python",
   "name": "python3"
  },
  "language_info": {
   "codemirror_mode": {
    "name": "ipython",
    "version": 3
   },
   "file_extension": ".py",
   "mimetype": "text/x-python",
   "name": "python",
   "nbconvert_exporter": "python",
   "pygments_lexer": "ipython3",
   "version": "3.8.5"
  }
 },
 "nbformat": 4,
 "nbformat_minor": 4
}
