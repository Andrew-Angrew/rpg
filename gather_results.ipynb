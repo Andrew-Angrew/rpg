{
 "cells": [
  {
   "cell_type": "code",
   "execution_count": 1,
   "metadata": {},
   "outputs": [],
   "source": [
    "import os\n",
    "from multiprocessing import Pool\n",
    "\n",
    "import numpy as np\n",
    "from matplotlib import pyplot as plt"
   ]
  },
  {
   "cell_type": "code",
   "execution_count": 2,
   "metadata": {},
   "outputs": [],
   "source": [
    "# Consts\n",
    "\n",
    "# METRIC_TYPES = [\"l1\", \"l2\"]\n",
    "METRIC_TYPES = [\"l2\"]\n",
    "FEATURE_TYPES = [\"score\", \"rank\", \"log_rank\"]\n",
    "\n",
    "ITEM_FEATURES = {\n",
    "    \"score\": \"model_scores/scores_train.bin\",\n",
    "    \"rank\": \"item_train_ranks.bin\",\n",
    "    \"log_rank\": \"item_train_log_ranks.bin\"\n",
    "}\n",
    "\n",
    "build_cmd_template = (\n",
    "    \"./RPG --mode base --baseSize 1000000 --trainQueries 1000 \"\n",
    "    \"--base data/{dataset}/data/{itemFeatures} \"\n",
    "    \"--outputGraph {graphPath} \"\n",
    "    \"--relevanceVector {relevanceVector} --efConstruction {efConstruction} --M 8\"\n",
    ")\n",
    "\n",
    "search_cmd_template = (\n",
    "    \"./RPG --mode query --baseSize 1000000 --querySize 1000\"\n",
    "    \" --query data/{dataset}/data/model_scores/scores_test.bin --inputGraph {inputGraph}\"\n",
    "    \" --efSearch {efSearch} --topK 5 --output data/{dataset}/result.txt --gtQueries 1000 --gtTop 100 \"\n",
    "    \"--groundtruth data/{dataset}/data/model_scores/groundtruth.bin\"\n",
    ")"
   ]
  },
  {
   "cell_type": "code",
   "execution_count": 11,
   "metadata": {},
   "outputs": [],
   "source": [
    "# exp config\n",
    "\n",
    "dataset = \"collections\"\n",
    "efConstruction = 1000\n",
    "relevanceVector = 20 # length of relevance vector\n",
    "efSearchTicks = list(np.exp(np.linspace(np.log(10), np.log(10000), 12)).astype(\"int\"))\n"
   ]
  },
  {
   "cell_type": "code",
   "execution_count": 4,
   "metadata": {},
   "outputs": [],
   "source": [
    "def bench_cmd(cmd):\n",
    "    res = {}\n",
    "    with os.popen(cmd) as out:\n",
    "        for line in out:\n",
    "            for stat_name, prefix, suff_len in [\n",
    "                (\"relevance\", \"Average relevance: \", 1),\n",
    "                (\"recall\", \"Recall@5: \", 1),\n",
    "                (\"time\", \"Average query time: \", 3),\n",
    "                (\"evals\", \"Average number of model computations: \", 1)\n",
    "            ]:\n",
    "                if line.startswith(prefix):\n",
    "                    res[stat_name] = float(line[len(prefix):-suff_len])\n",
    "    return res\n",
    "\n",
    "def measure_performance(graph, dataset, ef_ticks, n_threads=12):\n",
    "    commands = []\n",
    "    for ef in ef_ticks:\n",
    "        commands.append(search_cmd_template.format(inputGraph=graph, dataset=dataset, efSearch=ef))\n",
    "    pool = Pool(processes=n_threads)\n",
    "    results = pool.map(bench_cmd, commands)\n",
    "    return {\n",
    "        \"relevance\": [res[\"relevance\"] for res in results],\n",
    "        \"recall\": [res[\"recall\"] for res in results],\n",
    "        \"time\": [res[\"time\"] for res in results],\n",
    "        \"evals\": [res[\"evals\"] for res in results]\n",
    "    }"
   ]
  },
  {
   "cell_type": "code",
   "execution_count": 5,
   "metadata": {},
   "outputs": [
    {
     "name": "stdout",
     "output_type": "stream",
     "text": [
      "./RPG --mode base --baseSize 1000000 --trainQueries 1000 --base data/collections/data/model_scores/scores_train.bin --outputGraph data/collections/l2_score_graph_rel20ef1000.out --relevanceVector 20 --efConstruction 1000 --M 8\n",
      "Graph for l2 metric and score features is built\n",
      "\n",
      "./RPG --mode base --baseSize 1000000 --trainQueries 1000 --base data/collections/data/item_train_ranks.bin --outputGraph data/collections/l2_rank_graph_rel20ef1000.out --relevanceVector 20 --efConstruction 1000 --M 8\n",
      "Graph for l2 metric and rank features is built\n",
      "\n",
      "./RPG --mode base --baseSize 1000000 --trainQueries 1000 --base data/collections/data/item_train_log_ranks.bin --outputGraph data/collections/l2_log_rank_graph_rel20ef1000.out --relevanceVector 20 --efConstruction 1000 --M 8\n",
      "Graph for l2 metric and log_rank features is built\n",
      "\n"
     ]
    }
   ],
   "source": [
    "# build graphs\n",
    "for metric_type in METRIC_TYPES:\n",
    "    for feature_type in FEATURE_TYPES:\n",
    "        # build graph\n",
    "        graph_path = \"data/{}/{}_{}_graph_rel{}ef{}.out\".format(\n",
    "            dataset, metric_type, feature_type,\n",
    "            relevanceVector, efConstruction\n",
    "        )\n",
    "        build_cmd = build_cmd_template.format(\n",
    "            graphPath=graph_path,\n",
    "            dataset=dataset,\n",
    "            itemFeatures=ITEM_FEATURES[feature_type],\n",
    "            efConstruction=efConstruction,\n",
    "            relevanceVector=relevanceVector\n",
    "        )\n",
    "        if metric_type == \"l1\":\n",
    "            build_cmd += \" --useL1\"\n",
    "        print(build_cmd)\n",
    "        os.system(build_cmd)\n",
    "        print(\"Graph for {} metric and {} features is built\".format(metric_type, feature_type))\n",
    "        print()\n",
    "        \n",
    "#         graph_label = metric_type + \" \" + feature_type\n",
    "#         results[graph_label] = measure_performance(graph_path, dataset, efSearchTicks)"
   ]
  },
  {
   "cell_type": "code",
   "execution_count": 12,
   "metadata": {},
   "outputs": [],
   "source": [
    "# measure performance of graphs\n",
    "results = {}\n",
    "for metric_type in METRIC_TYPES:\n",
    "    for feature_type in FEATURE_TYPES:\n",
    "        # build graph\n",
    "        graph_path = \"data/{}/{}_{}_graph_rel{}ef{}.out\".format(\n",
    "            dataset, metric_type, feature_type,\n",
    "            relevanceVector, efConstruction\n",
    "        )\n",
    "        graph_label = metric_type + \" \" + feature_type\n",
    "        results[graph_label] = measure_performance(graph_path, dataset, efSearchTicks, n_threads=12)"
   ]
  },
  {
   "cell_type": "code",
   "execution_count": 13,
   "metadata": {
    "scrolled": true
   },
   "outputs": [],
   "source": [
    "def plot_results(results, x_data=\"evals\", y_data=\"recall\"):\n",
    "    plt.xlabel(x_data)\n",
    "    plt.ylabel(y_data)\n",
    "#     plt.xlim([3000, 20000])\n",
    "#     plt.ylim([0.6, 1])\n",
    "    plt.xscale('log')\n",
    "    for label, stats in results.items():\n",
    "        plt.plot(stats[x_data], stats[y_data], label=label)\n",
    "        plt.scatter(stats[x_data], stats[y_data], s=10)\n",
    "    plt.legend()\n",
    "    plt.show()"
   ]
  },
  {
   "cell_type": "code",
   "execution_count": 14,
   "metadata": {},
   "outputs": [
    {
     "data": {
      "image/png": "[encoded data removed]",
      "text/plain": [
       "<Figure size 720x720 with 1 Axes>"
      ]
     },
     "metadata": {
      "needs_background": "light"
     },
     "output_type": "display_data"
    }
   ],
   "source": [
    "plt.figure(figsize=(10, 10))\n",
    "plot_results(results)"
   ]
  },
  {
   "cell_type": "code",
   "execution_count": null,
   "metadata": {},
   "outputs": [],
   "source": []
  },
  {
   "cell_type": "code",
   "execution_count": null,
   "metadata": {},
   "outputs": [],
   "source": []
  },
  {
   "cell_type": "code",
   "execution_count": null,
   "metadata": {},
   "outputs": [],
   "source": []
  },
  {
   "cell_type": "code",
   "execution_count": null,
   "metadata": {},
   "outputs": [],
   "source": []
  }
 ],
 "metadata": {
  "kernelspec": {
   "display_name": "Python 3",
   "language": "python",
   "name": "python3"
  },
  "language_info": {
   "codemirror_mode": {
    "name": "ipython",
    "version": 3
   },
   "file_extension": ".py",
   "mimetype": "text/x-python",
   "name": "python",
   "nbconvert_exporter": "python",
   "pygments_lexer": "ipython3",
   "version": "3.8.5"
  }
 },
 "nbformat": 4,
 "nbformat_minor": 4
}
