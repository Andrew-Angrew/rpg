{
 "cells": [
  {
   "cell_type": "code",
   "execution_count": 8,
   "metadata": {},
   "outputs": [],
   "source": [
    "import numpy as np\n",
    "\n",
    "from experiment_utils import run_experiment_with_coordinate_masking, prepare_deep256, plot_chosen_results\n"
   ]
  },
  {
   "cell_type": "code",
   "execution_count": 9,
   "metadata": {},
   "outputs": [],
   "source": [
    "masked_coord_counts = [192, 208, 224]"
   ]
  },
  {
   "cell_type": "code",
   "execution_count": 10,
   "metadata": {},
   "outputs": [],
   "source": [
    "prepare_deep256(masked_coord_counts)"
   ]
  },
  {
   "cell_type": "code",
   "execution_count": 11,
   "metadata": {},
   "outputs": [],
   "source": [
    "results_recall_5 = run_experiment_with_coordinate_masking(\n",
    "    \"deep_256\", 256, masked_coord_counts, recall_top_len=5,\n",
    "    n_search_threads=3\n",
    ")"
   ]
  },
  {
   "cell_type": "code",
   "execution_count": null,
   "metadata": {},
   "outputs": [],
   "source": [
    "results_recall_1 = run_experiment_with_coordinate_masking(\n",
    "    \"deep_256\", 256, masked_coord_counts, recall_top_len=1,\n",
    "    n_search_threads=3\n",
    ")"
   ]
  },
  {
   "cell_type": "code",
   "execution_count": null,
   "metadata": {},
   "outputs": [],
   "source": [
    "plot_chosen_results(\n",
    "    results_recall_5, keys=[\n",
    "        \"rpg\",\n",
    "        \"rpg_unifrom_train\",\n",
    "        \"hnsw\",\n",
    "        '192_masked_coords+rerank',\n",
    "        '208_masked_coords+rerank',\n",
    "        '224_masked_coords+rerank'\n",
    "    ],\n",
    "    xlim=(0, 10000), ylim=(0.8, 1),\n",
    "    hlines=np.linspace(0.8, 1, 5),\n",
    "    vlines=np.linspace(0, 10000, 6),\n",
    "    ylabel=\"recall@5\",\n",
    "    figsize=(5, 3.5),\n",
    "    relabeling={\n",
    "        \"rpg\": \"RPG\",\n",
    "        \"hnsw\": \"HNSW\",\n",
    "        \"rpg_unifrom_train\": \"RPG-uniform\",\n",
    "        '192_masked_coords+rerank': \"Two-tower-64\",\n",
    "        '208_masked_coords+rerank': \"Two-tower-48\",\n",
    "        '224_masked_coords+rerank': \"Two-tower-32\"\n",
    "    },\n",
    "    file_name=\"pic/deep_256.pdf\",\n",
    "    dpi=300\n",
    ")"
   ]
  },
  {
   "cell_type": "code",
   "execution_count": null,
   "metadata": {},
   "outputs": [],
   "source": [
    "plot_chosen_results(\n",
    "    results_recall_1,\n",
    "    xlim=(0, 5000), ylim=(0.5, 1),\n",
    "    hlines=np.linspace(0.5, 1, 6),\n",
    "    vlines=np.linspace(1000, 4000, 4)\n",
    ")"
   ]
  },
  {
   "cell_type": "code",
   "execution_count": null,
   "metadata": {},
   "outputs": [],
   "source": []
  }
 ],
 "metadata": {
  "kernelspec": {
   "display_name": "Python 3",
   "language": "python",
   "name": "python3"
  },
  "language_info": {
   "codemirror_mode": {
    "name": "ipython",
    "version": 3
   },
   "file_extension": ".py",
   "mimetype": "text/x-python",
   "name": "python",
   "nbconvert_exporter": "python",
   "pygments_lexer": "ipython3",
   "version": "3.8.5"
  }
 },
 "nbformat": 4,
 "nbformat_minor": 4
}
