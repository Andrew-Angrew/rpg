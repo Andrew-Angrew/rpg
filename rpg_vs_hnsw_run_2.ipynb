{
 "cells": [
  {
   "cell_type": "code",
   "execution_count": 1,
   "metadata": {},
   "outputs": [],
   "source": [
    "import os\n",
    "import math\n",
    "from collections import namedtuple\n",
    "from multiprocessing import Pool\n",
    "import json\n",
    "\n",
    "import numpy as np\n",
    "from sklearn.metrics import pairwise_distances\n",
    "import matplotlib.pyplot as plt\n",
    "import h5py\n"
   ]
  },
  {
   "cell_type": "code",
   "execution_count": 2,
   "metadata": {},
   "outputs": [],
   "source": [
    "QUERY_COUNT = 1000\n",
    "ITEM_COUNT = 10 ** 6\n",
    "GT_TOP_LEN = 10000\n",
    "RECALL_TOP_LEN = 5\n",
    "\n",
    "MIN_EF_SEARCH = 1\n",
    "MAX_EF_SEARCH = 10000\n",
    "RECALL_OF_INTEREST = 0.95\n",
    "N_SEARCH_THREADS = 8 # Each thread consumes 4 GB RAM\n",
    "RECALC_RESULTS = False\n",
    "M_RANGE = [4, 8, 16, 32, 64, 128]\n"
   ]
  },
  {
   "cell_type": "code",
   "execution_count": 21,
   "metadata": {},
   "outputs": [],
   "source": [
    "def read_fvecs(file_name):\n",
    "    a = np.fromfile(file_name, dtype=\"int32\")\n",
    "    dim = a[0]\n",
    "    return a.view(\"float32\").reshape((-1, dim + 1))[:,1:]\n",
    "\n",
    "def normalize(a):\n",
    "    vec_lengths = np.sqrt(np.power(a, 2).sum(axis=1, keepdims=True))\n",
    "    assert np.all(vec_lengths > 1e-9)\n",
    "    return a / vec_lengths\n",
    "\n",
    "def calc_pairwise_relevance(i, q):\n",
    "    return pairwise_distances(i, q, metric=\"cosine\").astype(\"float32\")\n",
    "\n",
    "def prepare_data(dataset, dim, items, train_queries, test_queries):    \n",
    "    assert train_queries.shape == (QUERY_COUNT, dim)\n",
    "    assert test_queries.shape == (QUERY_COUNT, dim)\n",
    "    assert items.shape == (ITEM_COUNT, dim)\n",
    "    \n",
    "    items = normalize(items)\n",
    "    train_queries = normalize(train_queries)\n",
    "    test_queries = normalize(test_queries)\n",
    "\n",
    "    os.makedirs(\"data/{}/data/model_scores\".format(dataset), exist_ok=True)\n",
    "    train_queries.tofile(\"data/{}/data/train_queries.bin\".format(dataset))\n",
    "    test_queries.tofile(\"data/{}/data/test_queries.bin\".format(dataset))\n",
    "    items.tofile(\"data/{}/data/items.bin\".format(dataset))\n",
    "\n",
    "    print(\"compute ground truth test scores for {}\".format(dataset))\n",
    "    gt_train_scores = calc_pairwise_relevance(items, train_queries)\n",
    "    gt_train_scores.tofile(\"data/{}/data/model_scores/gt_train_scores.bin\".format(dataset))\n",
    "    del gt_train_scores\n",
    "\n",
    "    gt_test_scores = calc_pairwise_relevance(items, test_queries)\n",
    "    gt_test_scores.tofile(\"data/{}/data/model_scores/gt_test_scores.bin\".format(dataset))\n",
    "    \n",
    "    print(\"Calc ground truth nearest neighbors for {}\".format(dataset))\n",
    "    scores_path = \"data/{}/data/model_scores/gt_test_scores.bin\".format(dataset)\n",
    "    gt = (-gt_test_scores).argsort(axis=0)[:GT_TOP_LEN,:].T.astype(\"int32\")\n",
    "    gt.tofile(\"data/{}/data/model_scores/groundtruth_test.bin\".format(dataset))\n"
   ]
  },
  {
   "cell_type": "code",
   "execution_count": 7,
   "metadata": {},
   "outputs": [],
   "source": [
    "def prepare_glove():\n",
    "    print(\"Prepare glove data\")\n",
    "    # the hdf5 file is taken from here: https://github.com/erikbern/ann-benchmarks\n",
    "    with h5py.File(\"data/glove/glove-25-angular.hdf5\", \"r\") as f:\n",
    "        glove_base = f[\"train\"][:]\n",
    "        glove_query = f['test'][:]\n",
    "        \n",
    "#     print(glove_base.shape, glove_query.shape)\n",
    "\n",
    "    np.random.seed(0)\n",
    "    np.random.shuffle(glove_base)\n",
    "    np.random.shuffle(glove_query)\n",
    "\n",
    "    train_queries = glove_query[:QUERY_COUNT]\n",
    "    test_queries = glove_query[QUERY_COUNT: 2 * QUERY_COUNT]\n",
    "    items = glove_base[:ITEM_COUNT]\n",
    "\n",
    "    prepare_data(\"glove\", 25, items, train_queries, test_queries)\n",
    "\n",
    "\n",
    "def prepare_sift():\n",
    "    print(\"Prepare sift data\")\n",
    "    # The data is taken from here:\n",
    "    # https://www.dropbox.com/sh/noqdusnt11y6y5t/AACcl6mL5JAjZRN5AaKlta1ra?dl=0\n",
    "    \n",
    "    sift_base = read_fvecs(\"data/sift/sift_base.fvecs\")\n",
    "    sift_query = read_fvecs(\"data/sift/sift_query.fvecs\")\n",
    "    assert 2 * QUERY_COUNT <= sift_query.shape[0]\n",
    "    assert sift_base.shape == (ITEM_COUNT, 128)\n",
    "\n",
    "#     print(sift_base.shape, sift_query.shape)\n",
    "\n",
    "    np.random.seed(0)\n",
    "    np.random.shuffle(sift_query)\n",
    "    train_queries = sift_query[:QUERY_COUNT]\n",
    "    test_queries = sift_query[QUERY_COUNT: 2 * QUERY_COUNT]\n",
    "    items = sift_base[:ITEM_COUNT]\n",
    "\n",
    "    prepare_data(\"sift\", 128, items, train_queries, test_queries)\n",
    "\n",
    "def prepare_deep96():\n",
    "    # The data is taken from here: http://sites.skoltech.ru/compvision/noimi/\n",
    "    deep_base = read_fvecs(\"data/deep1M/deep10M.fvecs\")\n",
    "    deep_query = read_fvecs(\"data/deep1M/deep1B_queries.fvecs\")\n",
    "    assert 2 * QUERY_COUNT <= deep_query.shape[0]\n",
    "\n",
    "    np.random.seed(0)\n",
    "    np.random.shuffle(deep_base)\n",
    "    np.random.shuffle(deep_query)\n",
    "    \n",
    "    train_queries = deep_query[:QUERY_COUNT]\n",
    "    test_queries = deep_query[QUERY_COUNT: 2 * QUERY_COUNT]    \n",
    "    items = deep_base[:ITEM_COUNT]\n",
    "\n",
    "    prepare_data(\"deep1M\", 96, items, train_queries, test_queries)\n",
    "\n",
    "def prepare_deep256():\n",
    "    # The data is from here:\n",
    "    # http://sites.skoltech.ru/compvision/projects/aqtq/\n",
    "    items = read_fvecs(\"data/deep256/deep1M_base.fvecs\")\n",
    "    learn = read_fvecs(\"data/deep256/deep1M_learn.fvecs\")\n",
    "    test_queries = read_fvecs(\"data/deep256/deep1M_queries.fvecs\")\n",
    "\n",
    "    assert items.shape == (ITEM_COUNT, 256)\n",
    "    assert test_queries.shape == (QUERY_COUNT, 256)\n",
    "    \n",
    "    np.random.seed(0)\n",
    "    np.random.shuffle(learn)\n",
    "    train_queries = learn[:QUERY_COUNT]\n",
    "\n",
    "    prepare_data(\"deep256\", 256, items, train_queries, test_queries)"
   ]
  },
  {
   "cell_type": "code",
   "execution_count": null,
   "metadata": {},
   "outputs": [],
   "source": [
    "prepare_glove()"
   ]
  },
  {
   "cell_type": "code",
   "execution_count": 22,
   "metadata": {},
   "outputs": [
    {
     "name": "stdout",
     "output_type": "stream",
     "text": [
      "Prepare sift data\n",
      "compute ground truth test scores for sift\n",
      "Calc ground truth nearest neighbors for sift\n",
      "compute ground truth test scores for deep1M\n",
      "Calc ground truth nearest neighbors for deep1M\n",
      "compute ground truth test scores for deep256\n",
      "Calc ground truth nearest neighbors for deep256\n"
     ]
    }
   ],
   "source": [
    "prepare_sift()\n",
    "prepare_deep96()\n",
    "prepare_deep256()"
   ]
  },
  {
   "cell_type": "code",
   "execution_count": 9,
   "metadata": {},
   "outputs": [],
   "source": [
    "build_graph_cmd_template = (\n",
    "    \"./RPG --mode base \"\n",
    "    \"--baseSize 1000000 \"\n",
    "    \"--trainQueries {featuresSize} \"\n",
    "    \"--base data/{dataset}/data/{features}.bin \"\n",
    "    \"--outputGraph {graphPath} \"\n",
    "    \"--relevanceVector {featuresSize} \"\n",
    "    \"--efConstruction 1000 --M {M} \"\n",
    "    \"--metric l2\"\n",
    ")\n",
    "\n",
    "def build_graph(dataset, graph_path, features, dim, degree, recalc=False):\n",
    "    if os.path.isfile(graph_path) and not recalc:\n",
    "        return\n",
    "    cmd = build_graph_cmd_template.format(\n",
    "        dataset=dataset,\n",
    "        featuresSize=dim,\n",
    "        features=features,\n",
    "        graphPath=graph_path,\n",
    "        M=degree\n",
    "    )\n",
    "    print(cmd)\n",
    "    os.system(cmd)\n"
   ]
  },
  {
   "cell_type": "code",
   "execution_count": 10,
   "metadata": {},
   "outputs": [],
   "source": [
    "search_cmd_template = (\n",
    "    \"./RPG --mode query --baseSize 1000000 --querySize 1000\"\n",
    "    \" --query data/{dataset}/data/model_scores/{scores} --inputGraph {inputGraph}\"\n",
    "    \" --efSearch {efSearch} --topK {topK} --output data/{dataset}/{searchResultFile}.txt\" +\n",
    "    \" --gtQueries 1000 --gtTop {} \".format(GT_TOP_LEN) +\n",
    "    \"--groundtruth data/{dataset}/data/model_scores/{gtFile}\"\n",
    ")"
   ]
  },
  {
   "cell_type": "code",
   "execution_count": 11,
   "metadata": {},
   "outputs": [],
   "source": [
    "def sort_by(results, key):\n",
    "    assert key in [\"evals\", \"efSearch\"]\n",
    "    permutation = np.argsort(results[key])\n",
    "    for key in results:\n",
    "        vals = results[key]\n",
    "        results[key] = [vals[i] for i in permutation]\n",
    "    return results\n",
    "\n",
    "assert sort_by({\n",
    "    \"efSearch\": [2, 0, 3, 1],\n",
    "    \"vals\": [1, 2, 3, 4]}, \"efSearch\") == {\n",
    "    \"efSearch\": [0, 1, 2, 3],\n",
    "    \"vals\": [2, 4, 1, 3]\n",
    "}"
   ]
  },
  {
   "cell_type": "code",
   "execution_count": 12,
   "metadata": {},
   "outputs": [],
   "source": [
    "def get_evals_for_recall(results, recall=RECALL_OF_INTEREST):\n",
    "    results = sort_by(results, \"evals\")\n",
    "    evals = results[\"evals\"]\n",
    "    recalls = results[\"recall\"]\n",
    "    ef_serch = results[\"efSearch\"] if \"efSearch\" in results else evals\n",
    "    assert len(evals) == len(recalls)\n",
    "    \n",
    "    lower_bound = 0\n",
    "    lower_bound_ef = MIN_EF_SEARCH\n",
    "    upper_bound = math.inf\n",
    "    upper_bound_ef = MAX_EF_SEARCH\n",
    "    \n",
    "    if not evals:\n",
    "        return lower_bound, upper_bound\n",
    "    \n",
    "    \n",
    "    if recalls[0] <= recall:\n",
    "        lower_bound = evals[0]\n",
    "        lower_bound_ef = ef_serch[0]\n",
    "        i = 1\n",
    "        while i < len(evals) and recalls[i] <= recall:\n",
    "            lower_bound = evals[i]\n",
    "            lower_bound_ef = ef_serch[i]\n",
    "            i += 1\n",
    "    \n",
    "    if recalls[-1] >= recall:\n",
    "        upper_bound = evals[-1]\n",
    "        upper_bound_ef = ef_serch[-1]\n",
    "        i = len(evals) - 2\n",
    "        while i >= 0 and recalls[i] >= recall:\n",
    "            upper_bound = evals[i]\n",
    "            upper_bound_ef = ef_serch[i]\n",
    "            i -= 1\n",
    "    \n",
    "    return (lower_bound, upper_bound), (lower_bound_ef, upper_bound_ef)\n",
    "\n",
    "assert get_evals_for_recall({\n",
    "    \"evals\": [0, 1, 2, 3, 4],\n",
    "    \"recall\": [0.93, 0.94, 0.95, 0.96, 0.97]\n",
    "}) == ((2, 2), (2, 2))\n",
    "assert get_evals_for_recall({\n",
    "    \"evals\": [0, 1, 2, 3, 4],\n",
    "    \"recall\": [0.93, 0.94, 0.955, 0.96, 0.97]\n",
    "}) == ((1, 2), (1, 2))\n",
    "assert get_evals_for_recall({\n",
    "    \"evals\": [0, 1, 2, 3, 4],\n",
    "    \"recall\": [0.93, 0.96, 0.94, 0.96, 0.97]\n",
    "}) == ((0, 3), (0, 3))\n"
   ]
  },
  {
   "cell_type": "code",
   "execution_count": 13,
   "metadata": {},
   "outputs": [],
   "source": [
    "def merge_results(lhs_res, rhs_res):\n",
    "    assert not rhs_res or sorted(lhs_res.keys()) == sorted(rhs_res.keys())\n",
    "    merged_res = {}\n",
    "    for key in lhs_res:\n",
    "        merged_res[key] = list(lhs_res[key]) + list(rhs_res.get(key, []))\n",
    "    return merged_res\n"
   ]
  },
  {
   "cell_type": "code",
   "execution_count": 14,
   "metadata": {},
   "outputs": [],
   "source": [
    "def logspace(start, stop, count, include_ends=True):\n",
    "    cnt_ = count if include_ends else count + 2\n",
    "    seq = np.unique(np.exp(\n",
    "        np.linspace(np.log(start), np.log(stop), cnt_)\n",
    "    ).astype(\"int\"))\n",
    "    if include_ends:\n",
    "        return seq\n",
    "    return seq[1:-1]"
   ]
  },
  {
   "cell_type": "code",
   "execution_count": 15,
   "metadata": {},
   "outputs": [],
   "source": [
    "def bench_cmd(cmd):\n",
    "    res = {}\n",
    "    cmd_out = []\n",
    "    with os.popen(cmd) as out:\n",
    "        for line in out:\n",
    "            cmd_out.append(line)\n",
    "            for stat_name, prefix, suff_len in [\n",
    "                (\"relevance\", \"Average relevance: \", 1),\n",
    "                (\"recall\", \"Recall@5: \", 1),\n",
    "                (\"time\", \"Average query time: \", 3),\n",
    "                (\"evals\", \"Average number of model computations: \", 1)\n",
    "            ]:\n",
    "                if line.startswith(prefix):\n",
    "                    res[stat_name] = float(line[len(prefix):-suff_len])\n",
    "    return res, \"\".join(cmd_out)\n",
    "\n",
    "def run_search(graph_path, scores_file, ef_ticks, dataset,\n",
    "               topK=5, result_file=None, n_threads=8, verbose=True,\n",
    "               gt_file=\"groundtruth_test.bin\"\n",
    "              ):\n",
    "    if result_file is None:\n",
    "        result_file = \"result\"\n",
    "    else:\n",
    "        assert len(ef_ticks) == 1\n",
    "    \n",
    "    commands = []\n",
    "    for ef in ef_ticks:\n",
    "        commands.append(search_cmd_template.format(\n",
    "            dataset=dataset,\n",
    "            scores=scores_file,\n",
    "            inputGraph=graph_path,\n",
    "            efSearch=ef,\n",
    "            topK=topK,\n",
    "            searchResultFile=result_file,\n",
    "            gtFile=gt_file\n",
    "        ))\n",
    "    pool = Pool(processes=n_threads)\n",
    "    results = pool.map(bench_cmd, commands)\n",
    "    output = {\"relevance\": [], \"recall\": [], \"time\": [], \"evals\": []}\n",
    "    for i, (res, cmd_out) in enumerate(results):\n",
    "        if all(key in res for key in output):\n",
    "            for key in output:\n",
    "                output[key].append(res[key])\n",
    "        else:\n",
    "            if verbose:\n",
    "                print(\"missed result for {} efSearch {}.\".format(graph_path, ef_ticks[i]))\n",
    "                print(commands[i])\n",
    "                print(cmd_out)\n",
    "                \n",
    "    output[\"efSearch\"] = [int(t) for t in ef_ticks]\n",
    "    return output"
   ]
  },
  {
   "cell_type": "code",
   "execution_count": 16,
   "metadata": {},
   "outputs": [],
   "source": [
    "def search_recall(graph_path, scores_file, dataset,\n",
    "                  iterations=2, runs_per_iteration=None,\n",
    "                  recall_of_interest=RECALL_OF_INTEREST, n_threads=8,\n",
    "                  gt_file=\"groundtruth_test.bin\"\n",
    "                 ):\n",
    "    if runs_per_iteration is None:\n",
    "        runs_per_iteration = n_threads\n",
    "    \n",
    "    lower_ef_search_bound = MIN_EF_SEARCH\n",
    "    upper_ef_search_bound = MAX_EF_SEARCH\n",
    "    cur_results = {}\n",
    "    for i in range(iterations):\n",
    "        ef_ticks = logspace(lower_ef_search_bound, upper_ef_search_bound,\n",
    "                            runs_per_iteration, include_ends=(i==0))\n",
    "        result_update = run_search(\n",
    "            graph_path, scores_file, ef_ticks=ef_ticks,\n",
    "            dataset=dataset, n_threads=n_threads, gt_file=gt_file\n",
    "        )\n",
    "        cur_results = merge_results(result_update, cur_results)\n",
    "        _, (lower_ef_search_bound, upper_ef_search_bound) = get_evals_for_recall(\n",
    "            cur_results, recall=recall_of_interest)\n",
    "    return sort_by(cur_results, \"efSearch\")"
   ]
  },
  {
   "cell_type": "code",
   "execution_count": null,
   "metadata": {},
   "outputs": [],
   "source": []
  },
  {
   "cell_type": "code",
   "execution_count": 17,
   "metadata": {
    "scrolled": false
   },
   "outputs": [],
   "source": [
    "\n",
    "def check_data(dataset, dim):\n",
    "    items = np.fromfile(\n",
    "        \"data/{}/data/items.bin\".format(dataset),\n",
    "        dtype=\"float32\"\n",
    "    ).reshape((ITEM_COUNT, dim))\n",
    "    \n",
    "    sq_norms = (items ** 2).sum(axis=1)\n",
    "    assert sq_norms.min() > 0.99\n",
    "    assert sq_norms.max() < 1.01\n",
    "    \n",
    "    train_queries = np.fromfile(\n",
    "        \"data/{}/data/train_queries.bin\".format(dataset),\n",
    "        dtype=\"float32\"\n",
    "    ).reshape((QUERY_COUNT, dim))\n",
    "    test_queries = np.fromfile(\n",
    "        \"data/{}/data/test_queries.bin\".format(dataset),\n",
    "        dtype=\"float32\"\n",
    "    ).reshape((QUERY_COUNT, dim))\n",
    "\n",
    "    scores_path = \"data/{}/data/model_scores/gt_train_scores.bin\".format(dataset)\n",
    "    train_scores = np.fromfile(\n",
    "        scores_path, dtype=\"float32\"\n",
    "    ).reshape(ITEM_COUNT, QUERY_COUNT)\n",
    "    expected_train_scores = calc_pairwise_relevance(items, train_queries)\n",
    "    assert np.allclose(train_scores, expected_train_scores)\n",
    "    del train_scores\n",
    "    del train_queries\n",
    "    del expected_train_scores\n",
    "\n",
    "    scores_path = \"data/{}/data/model_scores/gt_test_scores.bin\".format(dataset)\n",
    "    test_scores = np.fromfile(\n",
    "        scores_path,\n",
    "        dtype=\"float32\"\n",
    "    ).reshape(ITEM_COUNT, QUERY_COUNT)\n",
    "    expected_test_scores = calc_pairwise_relevance(items, test_queries)\n",
    "    assert np.allclose(test_scores, expected_test_scores)\n",
    "\n",
    "\n",
    "def eval_hnsw_with_different_degree(\n",
    "    dataset, dim, m_range=M_RANGE,\n",
    "    check_model_scores=True, recalc=False\n",
    "):\n",
    "    result_path = \"data/{}/results_for_different_M.json\".format(dataset)\n",
    "    if os.path.isfile(result_path) and not recalc:\n",
    "        with open(result_path) as fin:\n",
    "            result = json.load(fin)\n",
    "    else:\n",
    "        result = {}\n",
    "\n",
    "    if check_model_scores:\n",
    "        check_data(dataset, dim)\n",
    "        print(\"Data is ok!\")\n",
    "\n",
    "    for degree in m_range:\n",
    "        label = \"embed_M{}\".format(degree)\n",
    "        if label not in result:\n",
    "            graph_path = \"data/{}/{}.hnsw\".format(dataset, label)\n",
    "            build_graph(dataset, graph_path, \"items\", dim, degree, recalc=recalc)\n",
    "            result[label] = search_recall(\n",
    "                graph_path, \"gt_test_scores.bin\", dataset,\n",
    "                iterations=3, n_threads=N_SEARCH_THREADS,\n",
    "                runs_per_iteration=16\n",
    "            )\n",
    "\n",
    "        label = \"relevance_M{}\".format(degree)\n",
    "        if label not in result:\n",
    "            graph_path = \"data/{}/{}.hnsw\".format(dataset, label)\n",
    "            build_graph(\n",
    "                dataset, graph_path, \"model_scores/gt_train_scores\",\n",
    "                QUERY_COUNT, degree, recalc=recalc\n",
    "            )\n",
    "            result[label] = search_recall(\n",
    "                graph_path, \"gt_test_scores.bin\", dataset,\n",
    "                iterations=3, n_threads=N_SEARCH_THREADS,\n",
    "                runs_per_iteration=16\n",
    "            )\n",
    "    with open(result_path, \"w\") as fout:\n",
    "        json.dump(result, fout, indent=4)\n",
    "    return result"
   ]
  },
  {
   "cell_type": "code",
   "execution_count": 18,
   "metadata": {},
   "outputs": [],
   "source": [
    "def plot_evals_for_recall(results, m_range=M_RANGE):\n",
    "    relev_evals = []\n",
    "    embed_evals = []\n",
    "    for degree in m_range:\n",
    "        (l, u), _ = get_evals_for_recall(results[\"relevance_M{}\".format(degree)])\n",
    "        relev_evals.append((l, u))\n",
    "        (l, u), _ = get_evals_for_recall(results[\"embed_M{}\".format(degree)])\n",
    "        embed_evals.append((l, u))\n",
    "\n",
    "    x_range = np.arange(len(m_range))\n",
    "    plt.figure(figsize=(16, 10))\n",
    "    plt.xticks(x_range, labels=[str(deg) for deg in m_range])\n",
    "    plt.xlabel(\"hnsw graph degree\")\n",
    "    plt.ylabel(\"distance evals for recall {}\".format(RECALL_OF_INTEREST))\n",
    "    \n",
    "    width = 0.35\n",
    "    def _plot(evals, color, label, offset):\n",
    "        centers = [(a + b) / 2 for a, b in evals]\n",
    "#         plt.bar(x_range + offset, centers, width, color=color, label=label)\n",
    "        plt.plot(x_range, centers, color=color)\n",
    "        plt.vlines(x_range, [l for l, u in evals], [u for l, u in evals], color=color)\n",
    "        plt.scatter(x_range, centers, color=color, label=label)\n",
    "    \n",
    "    _plot(embed_evals, \"blue\", \"hnsw\", -width/2)\n",
    "    _plot(relev_evals, \"red\", \"rpg\", width/2)\n",
    "    \n",
    "    plt.legend()\n",
    "    plt.show()\n",
    "    "
   ]
  },
  {
   "cell_type": "code",
   "execution_count": 19,
   "metadata": {},
   "outputs": [
    {
     "name": "stdout",
     "output_type": "stream",
     "text": [
      "Data is ok!\n",
      "./RPG --mode base --baseSize 1000000 --trainQueries 25 --base data/glove/data/items.bin --outputGraph data/glove/embed_M4.hnsw --relevanceVector 25 --efConstruction 1000 --M 4 --metric l2\n",
      "./RPG --mode base --baseSize 1000000 --trainQueries 1000 --base data/glove/data/model_scores/gt_train_scores.bin --outputGraph data/glove/relevance_M4.hnsw --relevanceVector 1000 --efConstruction 1000 --M 4 --metric l2\n",
      "./RPG --mode base --baseSize 1000000 --trainQueries 25 --base data/glove/data/items.bin --outputGraph data/glove/embed_M8.hnsw --relevanceVector 25 --efConstruction 1000 --M 8 --metric l2\n",
      "./RPG --mode base --baseSize 1000000 --trainQueries 1000 --base data/glove/data/model_scores/gt_train_scores.bin --outputGraph data/glove/relevance_M8.hnsw --relevanceVector 1000 --efConstruction 1000 --M 8 --metric l2\n",
      "./RPG --mode base --baseSize 1000000 --trainQueries 25 --base data/glove/data/items.bin --outputGraph data/glove/embed_M16.hnsw --relevanceVector 25 --efConstruction 1000 --M 16 --metric l2\n",
      "./RPG --mode base --baseSize 1000000 --trainQueries 1000 --base data/glove/data/model_scores/gt_train_scores.bin --outputGraph data/glove/relevance_M16.hnsw --relevanceVector 1000 --efConstruction 1000 --M 16 --metric l2\n",
      "./RPG --mode base --baseSize 1000000 --trainQueries 25 --base data/glove/data/items.bin --outputGraph data/glove/embed_M32.hnsw --relevanceVector 25 --efConstruction 1000 --M 32 --metric l2\n",
      "./RPG --mode base --baseSize 1000000 --trainQueries 1000 --base data/glove/data/model_scores/gt_train_scores.bin --outputGraph data/glove/relevance_M32.hnsw --relevanceVector 1000 --efConstruction 1000 --M 32 --metric l2\n",
      "./RPG --mode base --baseSize 1000000 --trainQueries 25 --base data/glove/data/items.bin --outputGraph data/glove/embed_M64.hnsw --relevanceVector 25 --efConstruction 1000 --M 64 --metric l2\n",
      "./RPG --mode base --baseSize 1000000 --trainQueries 1000 --base data/glove/data/model_scores/gt_train_scores.bin --outputGraph data/glove/relevance_M64.hnsw --relevanceVector 1000 --efConstruction 1000 --M 64 --metric l2\n",
      "./RPG --mode base --baseSize 1000000 --trainQueries 25 --base data/glove/data/items.bin --outputGraph data/glove/embed_M128.hnsw --relevanceVector 25 --efConstruction 1000 --M 128 --metric l2\n",
      "./RPG --mode base --baseSize 1000000 --trainQueries 1000 --base data/glove/data/model_scores/gt_train_scores.bin --outputGraph data/glove/relevance_M128.hnsw --relevanceVector 1000 --efConstruction 1000 --M 128 --metric l2\n"
     ]
    },
    {
     "data": {
      "image/png": "[encoded data removed]",
      "text/plain": [
       "<Figure size 1152x720 with 1 Axes>"
      ]
     },
     "metadata": {
      "needs_background": "light"
     },
     "output_type": "display_data"
    }
   ],
   "source": [
    "glove_results = eval_hnsw_with_different_degree(\"glove\", 25, recalc=True)\n",
    "plot_evals_for_recall(glove_results)"
   ]
  },
  {
   "cell_type": "code",
   "execution_count": 23,
   "metadata": {},
   "outputs": [
    {
     "name": "stdout",
     "output_type": "stream",
     "text": [
      "Data is ok!\n",
      "./RPG --mode base --baseSize 1000000 --trainQueries 96 --base data/deep1M/data/items.bin --outputGraph data/deep1M/embed_M4.hnsw --relevanceVector 96 --efConstruction 1000 --M 4 --metric l2\n",
      "./RPG --mode base --baseSize 1000000 --trainQueries 1000 --base data/deep1M/data/model_scores/gt_train_scores.bin --outputGraph data/deep1M/relevance_M4.hnsw --relevanceVector 1000 --efConstruction 1000 --M 4 --metric l2\n",
      "./RPG --mode base --baseSize 1000000 --trainQueries 96 --base data/deep1M/data/items.bin --outputGraph data/deep1M/embed_M8.hnsw --relevanceVector 96 --efConstruction 1000 --M 8 --metric l2\n",
      "./RPG --mode base --baseSize 1000000 --trainQueries 1000 --base data/deep1M/data/model_scores/gt_train_scores.bin --outputGraph data/deep1M/relevance_M8.hnsw --relevanceVector 1000 --efConstruction 1000 --M 8 --metric l2\n",
      "./RPG --mode base --baseSize 1000000 --trainQueries 96 --base data/deep1M/data/items.bin --outputGraph data/deep1M/embed_M16.hnsw --relevanceVector 96 --efConstruction 1000 --M 16 --metric l2\n",
      "./RPG --mode base --baseSize 1000000 --trainQueries 1000 --base data/deep1M/data/model_scores/gt_train_scores.bin --outputGraph data/deep1M/relevance_M16.hnsw --relevanceVector 1000 --efConstruction 1000 --M 16 --metric l2\n",
      "./RPG --mode base --baseSize 1000000 --trainQueries 96 --base data/deep1M/data/items.bin --outputGraph data/deep1M/embed_M32.hnsw --relevanceVector 96 --efConstruction 1000 --M 32 --metric l2\n",
      "./RPG --mode base --baseSize 1000000 --trainQueries 1000 --base data/deep1M/data/model_scores/gt_train_scores.bin --outputGraph data/deep1M/relevance_M32.hnsw --relevanceVector 1000 --efConstruction 1000 --M 32 --metric l2\n",
      "./RPG --mode base --baseSize 1000000 --trainQueries 96 --base data/deep1M/data/items.bin --outputGraph data/deep1M/embed_M64.hnsw --relevanceVector 96 --efConstruction 1000 --M 64 --metric l2\n",
      "./RPG --mode base --baseSize 1000000 --trainQueries 1000 --base data/deep1M/data/model_scores/gt_train_scores.bin --outputGraph data/deep1M/relevance_M64.hnsw --relevanceVector 1000 --efConstruction 1000 --M 64 --metric l2\n",
      "./RPG --mode base --baseSize 1000000 --trainQueries 96 --base data/deep1M/data/items.bin --outputGraph data/deep1M/embed_M128.hnsw --relevanceVector 96 --efConstruction 1000 --M 128 --metric l2\n",
      "./RPG --mode base --baseSize 1000000 --trainQueries 1000 --base data/deep1M/data/model_scores/gt_train_scores.bin --outputGraph data/deep1M/relevance_M128.hnsw --relevanceVector 1000 --efConstruction 1000 --M 128 --metric l2\n"
     ]
    },
    {
     "data": {
      "image/png": "[encoded data removed]",
      "text/plain": [
       "<Figure size 1152x720 with 1 Axes>"
      ]
     },
     "metadata": {
      "needs_background": "light"
     },
     "output_type": "display_data"
    }
   ],
   "source": [
    "deep_results = eval_hnsw_with_different_degree(\"deep1M\", 96, recalc=True)\n",
    "plot_evals_for_recall(deep_results)"
   ]
  },
  {
   "cell_type": "code",
   "execution_count": 24,
   "metadata": {},
   "outputs": [
    {
     "name": "stdout",
     "output_type": "stream",
     "text": [
      "Data is ok!\n",
      "./RPG --mode base --baseSize 1000000 --trainQueries 128 --base data/sift/data/items.bin --outputGraph data/sift/embed_M4.hnsw --relevanceVector 128 --efConstruction 1000 --M 4 --metric l2\n",
      "./RPG --mode base --baseSize 1000000 --trainQueries 1000 --base data/sift/data/model_scores/gt_train_scores.bin --outputGraph data/sift/relevance_M4.hnsw --relevanceVector 1000 --efConstruction 1000 --M 4 --metric l2\n",
      "./RPG --mode base --baseSize 1000000 --trainQueries 128 --base data/sift/data/items.bin --outputGraph data/sift/embed_M8.hnsw --relevanceVector 128 --efConstruction 1000 --M 8 --metric l2\n",
      "./RPG --mode base --baseSize 1000000 --trainQueries 1000 --base data/sift/data/model_scores/gt_train_scores.bin --outputGraph data/sift/relevance_M8.hnsw --relevanceVector 1000 --efConstruction 1000 --M 8 --metric l2\n",
      "./RPG --mode base --baseSize 1000000 --trainQueries 128 --base data/sift/data/items.bin --outputGraph data/sift/embed_M16.hnsw --relevanceVector 128 --efConstruction 1000 --M 16 --metric l2\n",
      "./RPG --mode base --baseSize 1000000 --trainQueries 1000 --base data/sift/data/model_scores/gt_train_scores.bin --outputGraph data/sift/relevance_M16.hnsw --relevanceVector 1000 --efConstruction 1000 --M 16 --metric l2\n",
      "./RPG --mode base --baseSize 1000000 --trainQueries 128 --base data/sift/data/items.bin --outputGraph data/sift/embed_M32.hnsw --relevanceVector 128 --efConstruction 1000 --M 32 --metric l2\n",
      "./RPG --mode base --baseSize 1000000 --trainQueries 1000 --base data/sift/data/model_scores/gt_train_scores.bin --outputGraph data/sift/relevance_M32.hnsw --relevanceVector 1000 --efConstruction 1000 --M 32 --metric l2\n",
      "./RPG --mode base --baseSize 1000000 --trainQueries 128 --base data/sift/data/items.bin --outputGraph data/sift/embed_M64.hnsw --relevanceVector 128 --efConstruction 1000 --M 64 --metric l2\n",
      "./RPG --mode base --baseSize 1000000 --trainQueries 1000 --base data/sift/data/model_scores/gt_train_scores.bin --outputGraph data/sift/relevance_M64.hnsw --relevanceVector 1000 --efConstruction 1000 --M 64 --metric l2\n",
      "./RPG --mode base --baseSize 1000000 --trainQueries 128 --base data/sift/data/items.bin --outputGraph data/sift/embed_M128.hnsw --relevanceVector 128 --efConstruction 1000 --M 128 --metric l2\n",
      "./RPG --mode base --baseSize 1000000 --trainQueries 1000 --base data/sift/data/model_scores/gt_train_scores.bin --outputGraph data/sift/relevance_M128.hnsw --relevanceVector 1000 --efConstruction 1000 --M 128 --metric l2\n"
     ]
    }
   ],
   "source": [
    "sift_results = eval_hnsw_with_different_degree(\"sift\", 128, recalc=True)"
   ]
  },
  {
   "cell_type": "code",
   "execution_count": 25,
   "metadata": {},
   "outputs": [
    {
     "data": {
      "image/png": "[encoded data removed]",
      "text/plain": [
       "<Figure size 1152x720 with 1 Axes>"
      ]
     },
     "metadata": {
      "needs_background": "light"
     },
     "output_type": "display_data"
    }
   ],
   "source": [
    "plot_evals_for_recall(sift_results)"
   ]
  },
  {
   "cell_type": "code",
   "execution_count": null,
   "metadata": {},
   "outputs": [
    {
     "name": "stdout",
     "output_type": "stream",
     "text": [
      "Data is ok!\n",
      "./RPG --mode base --baseSize 1000000 --trainQueries 256 --base data/deep256/data/items.bin --outputGraph data/deep256/embed_M4.hnsw --relevanceVector 256 --efConstruction 1000 --M 4 --metric l2\n"
     ]
    }
   ],
   "source": [
    "deep256_results = eval_hnsw_with_different_degree(\"deep256\", 256, recalc=True)"
   ]
  },
  {
   "cell_type": "code",
   "execution_count": null,
   "metadata": {},
   "outputs": [],
   "source": [
    "plot_evals_for_recall(deep256_results)"
   ]
  },
  {
   "cell_type": "code",
   "execution_count": null,
   "metadata": {},
   "outputs": [],
   "source": []
  },
  {
   "cell_type": "code",
   "execution_count": null,
   "metadata": {},
   "outputs": [],
   "source": []
  },
  {
   "cell_type": "code",
   "execution_count": null,
   "metadata": {},
   "outputs": [],
   "source": []
  },
  {
   "cell_type": "code",
   "execution_count": null,
   "metadata": {},
   "outputs": [],
   "source": [
    "def plot_chosen_results(results, keys=None, xlim=None, ylim=None, x_log_scale=False):\n",
    "    plt.figure(figsize=(10, 10))\n",
    "    plt.xlabel(\"evals\")\n",
    "    plt.ylabel(\"recall@5\")\n",
    "    if keys is None:\n",
    "        keys = results.keys()\n",
    "    if xlim is not None:\n",
    "        plt.xlim(xlim)\n",
    "    if ylim is not None:\n",
    "        plt.ylim(ylim)\n",
    "    if x_log_scale:\n",
    "        plt.xscale(\"log\")\n",
    "    \n",
    "    plt.plot([0, 10000], [RECALL_OF_INTEREST, RECALL_OF_INTEREST], label=\"required recall\", color=\"red\")\n",
    "    for key in keys:\n",
    "        assert key in results\n",
    "        r = results[key]\n",
    "        x = r[\"evals\"]\n",
    "        y = r[\"recall\"]\n",
    "        plt.plot(x, y, label=key)\n",
    "        pt_size = 0.1 if len(x) > 100 else 5\n",
    "        plt.scatter(x, y, s=pt_size)\n",
    "    plt.legend()\n",
    "    plt.show()"
   ]
  },
  {
   "cell_type": "code",
   "execution_count": null,
   "metadata": {},
   "outputs": [],
   "source": [
    "plot_chosen_results(\n",
    "    sift_results,\n",
    "    keys=[\n",
    "        \"relevance_M8\",\n",
    "        \"relevance_M16\",\n",
    "        \"embed_M8\",\n",
    "        \"embed_M16\",\n",
    "    ],\n",
    "    xlim=(100,10000),\n",
    "#     x_log_scale=True\n",
    ")"
   ]
  },
  {
   "cell_type": "code",
   "execution_count": null,
   "metadata": {},
   "outputs": [],
   "source": [
    "raise StopIteration"
   ]
  },
  {
   "cell_type": "code",
   "execution_count": null,
   "metadata": {},
   "outputs": [],
   "source": []
  }
 ],
 "metadata": {
  "kernelspec": {
   "display_name": "Python 3",
   "language": "python",
   "name": "python3"
  },
  "language_info": {
   "codemirror_mode": {
    "name": "ipython",
    "version": 3
   },
   "file_extension": ".py",
   "mimetype": "text/x-python",
   "name": "python",
   "nbconvert_exporter": "python",
   "pygments_lexer": "ipython3",
   "version": "3.8.5"
  }
 },
 "nbformat": 4,
 "nbformat_minor": 4
}
