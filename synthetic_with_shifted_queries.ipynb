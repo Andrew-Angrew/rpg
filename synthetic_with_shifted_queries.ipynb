{
 "cells": [
  {
   "cell_type": "code",
   "execution_count": 1,
   "metadata": {},
   "outputs": [],
   "source": [
    "import math\n",
    "import json\n",
    "import os\n",
    "\n",
    "import numpy as np\n",
    "import matplotlib.pyplot as plt\n",
    "\n",
    "from experiment_utils import prepare_data, run_search, build_graph, logspace"
   ]
  },
  {
   "cell_type": "code",
   "execution_count": 2,
   "metadata": {},
   "outputs": [],
   "source": [
    "QUERY_COUNT = 1000\n",
    "ITEM_COUNT = 10 ** 5\n",
    "DIMENSION = 16\n",
    "GT_TOP_LEN = 100\n",
    "\n",
    "RECALL_TOP_LEN = 5\n",
    "RECALL_OF_INTEREST = 0.95\n",
    "MIN_EF_SEARCH = 5\n",
    "MAX_EF_SEARCH = 1000\n",
    "N_SEARCH_THREADS = 8\n",
    "M_RANGE = [8, 16, 32, 64]\n"
   ]
  },
  {
   "cell_type": "code",
   "execution_count": 3,
   "metadata": {},
   "outputs": [],
   "source": [
    "def generate_subspace_queries(dim, recalc=False):\n",
    "    assert dim <= DIMENSION\n",
    "    np.random.seed(0)\n",
    "    items = np.random.randn(ITEM_COUNT, DIMENSION)\n",
    "    \n",
    "    O, R = np.linalg.qr(np.random.randn(DIMENSION, DIMENSION))\n",
    "    assert np.allclose(O.dot(O.T), np.eye(DIMENSION))\n",
    "    embed_matrix = O[:dim]\n",
    "    train_queries = np.random.randn(QUERY_COUNT, dim).dot(embed_matrix)\n",
    "    test_queries = np.random.randn(QUERY_COUNT, dim).dot(embed_matrix)\n",
    "    prepare_data(\"synthetic_with_shifted_queries\", DIMENSION, items, train_queries, test_queries, [],\n",
    "                 recalc=recalc)\n",
    "    "
   ]
  },
  {
   "cell_type": "code",
   "execution_count": 4,
   "metadata": {},
   "outputs": [],
   "source": [
    "def sort_by(results, key):\n",
    "    assert key in [\"evals\", \"efSearch\"]\n",
    "    permutation = np.argsort(results[key])\n",
    "    for key in results:\n",
    "        vals = results[key]\n",
    "        results[key] = [vals[i] for i in permutation]\n",
    "    return results\n",
    "\n",
    "assert sort_by({\n",
    "    \"efSearch\": [2, 0, 3, 1],\n",
    "    \"vals\": [1, 2, 3, 4]}, \"efSearch\") == {\n",
    "    \"efSearch\": [0, 1, 2, 3],\n",
    "    \"vals\": [2, 4, 1, 3]\n",
    "}\n",
    "\n",
    "def get_complexity_of_recall(results, recall=RECALL_OF_INTEREST, complexity_measure=\"evals\"):\n",
    "    assert complexity_measure in [\"evals\", \"efSearch\"]\n",
    "    results = sort_by(results, complexity_measure)\n",
    "    recalls = results[\"recall\"]\n",
    "    complexities = results[complexity_measure]\n",
    "\n",
    "    if complexity_measure == \"efSearch\":\n",
    "        lower_bound = MIN_EF_SEARCH\n",
    "        upper_bound = MAX_EF_SEARCH\n",
    "    else:\n",
    "        lower_bound = 0\n",
    "        upper_bound = math.inf\n",
    "    \n",
    "    if not complexities:\n",
    "        return lower_bound, upper_bound\n",
    "    \n",
    "    if recalls[0] <= recall:\n",
    "        lower_bound = complexities[0]\n",
    "        i = 1\n",
    "        while i < len(complexities) and recalls[i] <= recall:\n",
    "            lower_bound = complexities[i]\n",
    "            i += 1\n",
    "    \n",
    "    if recalls[-1] >= recall:\n",
    "        upper_bound = complexities[-1]\n",
    "        i = len(complexities) - 2\n",
    "        while i >= 0 and recalls[i] >= recall:\n",
    "            upper_bound = complexities[i]\n",
    "            i -= 1\n",
    "    \n",
    "    return lower_bound, upper_bound\n",
    "\n",
    "assert get_complexity_of_recall({\n",
    "    \"evals\": [0, 1, 2, 3, 4],\n",
    "    \"recall\": [0.93, 0.94, 0.95, 0.96, 0.97],\n",
    "    \"efSearch\": list(range(2, 7))\n",
    "}, recall=0.95) == (2, 2)\n",
    "\n",
    "assert get_complexity_of_recall({\n",
    "    \"evals\": [0, 1, 2, 3, 4],\n",
    "    \"recall\": [0.93, 0.94, 0.95, 0.96, 0.97],\n",
    "    \"efSearch\": list(range(2, 7))\n",
    "}, recall=0.95, complexity_measure=\"efSearch\") == (4, 4)\n",
    "\n",
    "assert get_complexity_of_recall({\n",
    "    \"evals\": [0, 1, 2, 3, 4],\n",
    "    \"recall\": [0.93, 0.94, 0.955, 0.96, 0.97],\n",
    "    \"efSearch\": list(range(5))\n",
    "}, recall=0.95) == (1, 2)\n",
    "assert get_complexity_of_recall({\n",
    "    \"evals\": [0, 1, 2, 3, 4],\n",
    "    \"recall\": [0.93, 0.96, 0.94, 0.96, 0.97],\n",
    "    \"efSearch\": list(range(5))\n",
    "}, recall=0.95) == (0, 3)\n",
    "\n",
    "\n",
    "def merge_results(lhs_res, rhs_res):\n",
    "    assert not rhs_res or sorted(lhs_res.keys()) == sorted(rhs_res.keys())\n",
    "    merged_res = {}\n",
    "    for key in lhs_res:\n",
    "        merged_res[key] = list(lhs_res[key]) + list(rhs_res.get(key, []))\n",
    "    return merged_res\n"
   ]
  },
  {
   "cell_type": "code",
   "execution_count": 5,
   "metadata": {},
   "outputs": [],
   "source": [
    "def search_recall(graph_path, scores_file, dataset,\n",
    "                  iterations=2, runs_per_iteration=None,\n",
    "                  recall_of_interest=RECALL_OF_INTEREST,\n",
    "                  recall_top_len=RECALL_TOP_LEN,\n",
    "                  n_threads=8\n",
    "                 ):\n",
    "    if runs_per_iteration is None:\n",
    "        runs_per_iteration = n_threads\n",
    "    \n",
    "    lower_ef_search_bound = MIN_EF_SEARCH\n",
    "    upper_ef_search_bound = MAX_EF_SEARCH\n",
    "    cur_results = {}\n",
    "    for i in range(iterations):\n",
    "        ef_ticks = logspace(lower_ef_search_bound, upper_ef_search_bound,\n",
    "                            runs_per_iteration, include_ends=(i==0))\n",
    "        result_update = run_search(\n",
    "            graph_path, scores_file, ef_ticks=ef_ticks,\n",
    "            dataset=dataset, recall_top_len=recall_top_len,\n",
    "            base_size=ITEM_COUNT, n_threads=n_threads\n",
    "        )\n",
    "        cur_results = merge_results(result_update, cur_results)\n",
    "        lower_ef_search_bound, upper_ef_search_bound = get_complexity_of_recall(\n",
    "            cur_results, recall=recall_of_interest, complexity_measure=\"efSearch\")\n",
    "    return sort_by(cur_results, \"efSearch\")"
   ]
  },
  {
   "cell_type": "code",
   "execution_count": 6,
   "metadata": {
    "scrolled": false
   },
   "outputs": [],
   "source": [
    "\n",
    "def eval_hnsw_with_different_degree(\n",
    "    dataset, dim, m_range=M_RANGE,\n",
    "    recall_top_len=RECALL_TOP_LEN,\n",
    "    recall_of_interest=RECALL_OF_INTEREST,\n",
    "    recalc=False\n",
    "):\n",
    "    result_path = \"data/{}/evals_for_recall@{}_{}_for_different_M.json\".format(\n",
    "        dataset, recall_top_len, recall_of_interest)\n",
    "    if os.path.isfile(result_path) and not recalc:\n",
    "        with open(result_path) as fin:\n",
    "            result = json.load(fin)\n",
    "    else:\n",
    "        result = {}\n",
    "\n",
    "    for degree in m_range:\n",
    "        label = \"embed_M{}\".format(degree)\n",
    "        if label not in result:\n",
    "            graph_path = \"data/{}/{}.hnsw\".format(dataset, label)\n",
    "            build_graph(dataset, graph_path, \"items\", dim, degree=degree,\n",
    "                        base_size=ITEM_COUNT, recalc=recalc)\n",
    "            result[label] = search_recall(\n",
    "                graph_path, \"gt_test_scores\", dataset,\n",
    "                iterations=3, n_threads=N_SEARCH_THREADS,\n",
    "                runs_per_iteration=16\n",
    "            )\n",
    "\n",
    "        label = \"relevance_M{}\".format(degree)\n",
    "        if label not in result:\n",
    "            graph_path = \"data/{}/{}.hnsw\".format(dataset, label)\n",
    "            build_graph(dataset, graph_path, \"transformed_items\", dim, degree=degree,\n",
    "                        base_size=ITEM_COUNT, recalc=recalc)\n",
    "            result[label] = search_recall(\n",
    "                graph_path, \"gt_test_scores\", dataset,\n",
    "                iterations=3, n_threads=N_SEARCH_THREADS,\n",
    "                runs_per_iteration=16\n",
    "            )\n",
    "    with open(result_path, \"w\") as fout:\n",
    "        json.dump(result, fout, indent=4)\n",
    "    return result"
   ]
  },
  {
   "cell_type": "code",
   "execution_count": 7,
   "metadata": {},
   "outputs": [],
   "source": [
    "def plot_evals_for_recall(results, m_range=M_RANGE, hlines=None, file_name=None):\n",
    "    relev_evals = []\n",
    "    embed_evals = []\n",
    "    for degree in m_range:\n",
    "        l, u = get_complexity_of_recall(results[\"relevance_M{}\".format(degree)])\n",
    "        relev_evals.append((l, u))\n",
    "        l, u = get_complexity_of_recall(results[\"embed_M{}\".format(degree)])\n",
    "        embed_evals.append((l, u))\n",
    "\n",
    "    x_range = np.arange(len(m_range))\n",
    "    plt.figure(figsize=(5, 3.5))\n",
    "    plt.xticks(x_range, labels=[str(deg) for deg in m_range])\n",
    "    plt.xlabel(\"Node degree M\", fontsize=14)\n",
    "    plt.ylabel(\"Number of distance computations\", fontsize=12)\n",
    "    if hlines is not None:\n",
    "        plt.hlines(hlines, 0, len(m_range) - 1, color=\"grey\", alpha=0.5)\n",
    "        plt.vlines(x_range, hlines.min(), hlines.max(), color=\"grey\", alpha=0.5)\n",
    "    \n",
    "    def _plot(evals, label):\n",
    "        centers = [(a + b) / 2 for a, b in evals]\n",
    "        plt.plot(x_range, centers)\n",
    "        plt.vlines(x_range, [l for l, u in evals], [u for l, u in evals])\n",
    "        plt.scatter(x_range, centers, label=label)\n",
    "    \n",
    "    _plot(embed_evals, \"HNSW\")\n",
    "    _plot(relev_evals, \"RPG\")\n",
    "    \n",
    "    plt.legend()\n",
    "    if file_name is not None:\n",
    "        plt.savefig(file_name, dpi=300)\n",
    "    plt.show()\n"
   ]
  },
  {
   "cell_type": "code",
   "execution_count": 8,
   "metadata": {},
   "outputs": [
    {
     "name": "stderr",
     "output_type": "stream",
     "text": [
      "/home/strashila/projects/rpg_release/experiment_utils.py:56: ComplexWarning: Casting complex values to real discards the imaginary part\n",
      "  item_transformation = sqrtm(query_cov).astype(\"float32\")\n"
     ]
    }
   ],
   "source": [
    "generate_subspace_queries(4, recalc=True)"
   ]
  },
  {
   "cell_type": "code",
   "execution_count": 9,
   "metadata": {
    "scrolled": true
   },
   "outputs": [],
   "source": [
    "results = eval_hnsw_with_different_degree(\n",
    "    \"synthetic_with_shifted_queries\", DIMENSION, recalc=True\n",
    ")"
   ]
  },
  {
   "cell_type": "code",
   "execution_count": 10,
   "metadata": {},
   "outputs": [
    {
     "data": {
      "image/png": "[encoded data removed]",
      "text/plain": [
       "<Figure size 360x252 with 1 Axes>"
      ]
     },
     "metadata": {
      "needs_background": "light"
     },
     "output_type": "display_data"
    }
   ],
   "source": [
    "plot_evals_for_recall(results, hlines=np.linspace(200, 800, 7), file_name=\"pic/synthetic_with_shifted_queries.pdf\")"
   ]
  },
  {
   "cell_type": "code",
   "execution_count": null,
   "metadata": {},
   "outputs": [],
   "source": []
  }
 ],
 "metadata": {
  "kernelspec": {
   "display_name": "Python 3",
   "language": "python",
   "name": "python3"
  },
  "language_info": {
   "codemirror_mode": {
    "name": "ipython",
    "version": 3
   },
   "file_extension": ".py",
   "mimetype": "text/x-python",
   "name": "python",
   "nbconvert_exporter": "python",
   "pygments_lexer": "ipython3",
   "version": "3.8.5"
  }
 },
 "nbformat": 4,
 "nbformat_minor": 4
}
